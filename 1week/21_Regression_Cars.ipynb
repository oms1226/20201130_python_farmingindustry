{
 "cells": [
  {
   "cell_type": "markdown",
   "metadata": {
    "id": "cVB9pY-v8uv5"
   },
   "source": [
    "# Regression 01 : Cars\n",
    "\n",
    "\n",
    "#### 실습목표 I<br>\n",
    "    Linear Regression 을 이해하고 사용해본다.\n",
    "\n",
    "#### 실습목표 II<br>\n",
    "    Pandas 라이브러리로 csv 파일을 불러오고, 전처리할 수 있다.\n",
    "    Pandas로 전처리한 파일을 Numpy array로 바꿀 수 있다.\n",
    "    Scikit-learn을 통해 간단히 머신러닝을 사용해볼 수 있다.\n",
    "\n",
    "#### 머신러닝 코드 구조 <br>\n",
    "\n",
    "![이미지](https://github.com/DA4BAM/dataset/blob/master/new_code.png?raw=true \"code step1\")\n"
   ]
  },
  {
   "cell_type": "markdown",
   "metadata": {
    "id": "jnCv9u_Wy9e1"
   },
   "source": [
    "## 00 환경준비"
   ]
  },
  {
   "cell_type": "markdown",
   "metadata": {
    "id": "O1uL0UIEzBPw"
   },
   "source": [
    "### 01.Import"
   ]
  },
  {
   "cell_type": "code",
   "execution_count": 3,
   "metadata": {
    "id": "GVvCef6A8uv6"
   },
   "outputs": [],
   "source": [
    "#라이브러리들을 불러오자.\n",
    "import numpy as np\n",
    "import pandas as pd\n",
    "import matplotlib.pyplot as plt\n",
    "import matplotlib.image as mpimg\n",
    "import ssl\n",
    "ssl._create_default_https_context = ssl._create_unverified_context"
   ]
  },
  {
   "cell_type": "markdown",
   "metadata": {
    "id": "VHy5s1OOzItm"
   },
   "source": [
    "### 02.data loading"
   ]
  },
  {
   "cell_type": "code",
   "execution_count": 4,
   "metadata": {
    "id": "3GgFpOB4zQ7h"
   },
   "outputs": [],
   "source": [
    "data_path = 'https://raw.githubusercontent.com/DA4BAM/dataset/master/cars.csv'\n",
    "data = pd.read_csv(data_path)"
   ]
  },
  {
   "cell_type": "markdown",
   "metadata": {
    "id": "qmYaWr9ka_Gv"
   },
   "source": [
    "데이터 설명 : https://github.com/DA4BAM/dataset/blob/master/cars.md"
   ]
  },
  {
   "cell_type": "markdown",
   "metadata": {
    "id": "ZJOddHq2zfcU"
   },
   "source": [
    "## 10.데이터 이해\n",
    "\n",
    "![이미지](https://github.com/DA4BAM/dataset/blob/master/new_code.png?raw=true \"code step1\")"
   ]
  },
  {
   "cell_type": "markdown",
   "metadata": {
    "id": "Vqr7zY5r8uwC"
   },
   "source": [
    "### 11.둘러보기"
   ]
  },
  {
   "cell_type": "code",
   "execution_count": 5,
   "metadata": {
    "id": "Wzs1nS348uwE"
   },
   "outputs": [
    {
     "data": {
      "text/html": [
       "<div>\n",
       "<style scoped>\n",
       "    .dataframe tbody tr th:only-of-type {\n",
       "        vertical-align: middle;\n",
       "    }\n",
       "\n",
       "    .dataframe tbody tr th {\n",
       "        vertical-align: top;\n",
       "    }\n",
       "\n",
       "    .dataframe thead th {\n",
       "        text-align: right;\n",
       "    }\n",
       "</style>\n",
       "<table border=\"1\" class=\"dataframe\">\n",
       "  <thead>\n",
       "    <tr style=\"text-align: right;\">\n",
       "      <th></th>\n",
       "      <th>speed</th>\n",
       "      <th>dist</th>\n",
       "    </tr>\n",
       "  </thead>\n",
       "  <tbody>\n",
       "    <tr>\n",
       "      <th>0</th>\n",
       "      <td>4</td>\n",
       "      <td>2</td>\n",
       "    </tr>\n",
       "    <tr>\n",
       "      <th>1</th>\n",
       "      <td>4</td>\n",
       "      <td>10</td>\n",
       "    </tr>\n",
       "    <tr>\n",
       "      <th>2</th>\n",
       "      <td>7</td>\n",
       "      <td>4</td>\n",
       "    </tr>\n",
       "    <tr>\n",
       "      <th>3</th>\n",
       "      <td>7</td>\n",
       "      <td>22</td>\n",
       "    </tr>\n",
       "    <tr>\n",
       "      <th>4</th>\n",
       "      <td>8</td>\n",
       "      <td>16</td>\n",
       "    </tr>\n",
       "  </tbody>\n",
       "</table>\n",
       "</div>"
      ],
      "text/plain": [
       "   speed  dist\n",
       "0      4     2\n",
       "1      4    10\n",
       "2      7     4\n",
       "3      7    22\n",
       "4      8    16"
      ]
     },
     "execution_count": 5,
     "metadata": {},
     "output_type": "execute_result"
    }
   ],
   "source": [
    "# 상/하위 몇개 행을 살펴 봅시다.\n",
    "data.head()"
   ]
  },
  {
   "cell_type": "code",
   "execution_count": 6,
   "metadata": {
    "id": "1ZsXdcfp8uwI"
   },
   "outputs": [
    {
     "data": {
      "text/plain": [
       "speed    int64\n",
       "dist     int64\n",
       "dtype: object"
      ]
     },
     "execution_count": 6,
     "metadata": {},
     "output_type": "execute_result"
    }
   ],
   "source": [
    "# 각 칼럼의 타입을 살펴 봅시다.\n",
    "\n",
    "data.dtypes"
   ]
  },
  {
   "cell_type": "code",
   "execution_count": 7,
   "metadata": {
    "id": "4bD117Q3bVuf"
   },
   "outputs": [
    {
     "data": {
      "text/plain": [
       "(50, 2)"
      ]
     },
     "execution_count": 7,
     "metadata": {},
     "output_type": "execute_result"
    }
   ],
   "source": [
    "# 행, 열의 개수를 살펴 봅시다.\n",
    "\n",
    "data.shape"
   ]
  },
  {
   "cell_type": "markdown",
   "metadata": {
    "id": "EEMtr74j0N41"
   },
   "source": [
    "### 12.기초통계량"
   ]
  },
  {
   "cell_type": "code",
   "execution_count": 8,
   "metadata": {
    "id": "LhAk04Uy4Occ"
   },
   "outputs": [
    {
     "data": {
      "text/html": [
       "<div>\n",
       "<style scoped>\n",
       "    .dataframe tbody tr th:only-of-type {\n",
       "        vertical-align: middle;\n",
       "    }\n",
       "\n",
       "    .dataframe tbody tr th {\n",
       "        vertical-align: top;\n",
       "    }\n",
       "\n",
       "    .dataframe thead th {\n",
       "        text-align: right;\n",
       "    }\n",
       "</style>\n",
       "<table border=\"1\" class=\"dataframe\">\n",
       "  <thead>\n",
       "    <tr style=\"text-align: right;\">\n",
       "      <th></th>\n",
       "      <th>speed</th>\n",
       "      <th>dist</th>\n",
       "    </tr>\n",
       "  </thead>\n",
       "  <tbody>\n",
       "    <tr>\n",
       "      <th>count</th>\n",
       "      <td>50.000000</td>\n",
       "      <td>50.000000</td>\n",
       "    </tr>\n",
       "    <tr>\n",
       "      <th>mean</th>\n",
       "      <td>15.400000</td>\n",
       "      <td>42.980000</td>\n",
       "    </tr>\n",
       "    <tr>\n",
       "      <th>std</th>\n",
       "      <td>5.287644</td>\n",
       "      <td>25.769377</td>\n",
       "    </tr>\n",
       "    <tr>\n",
       "      <th>min</th>\n",
       "      <td>4.000000</td>\n",
       "      <td>2.000000</td>\n",
       "    </tr>\n",
       "    <tr>\n",
       "      <th>25%</th>\n",
       "      <td>12.000000</td>\n",
       "      <td>26.000000</td>\n",
       "    </tr>\n",
       "    <tr>\n",
       "      <th>50%</th>\n",
       "      <td>15.000000</td>\n",
       "      <td>36.000000</td>\n",
       "    </tr>\n",
       "    <tr>\n",
       "      <th>75%</th>\n",
       "      <td>19.000000</td>\n",
       "      <td>56.000000</td>\n",
       "    </tr>\n",
       "    <tr>\n",
       "      <th>max</th>\n",
       "      <td>25.000000</td>\n",
       "      <td>120.000000</td>\n",
       "    </tr>\n",
       "  </tbody>\n",
       "</table>\n",
       "</div>"
      ],
      "text/plain": [
       "           speed        dist\n",
       "count  50.000000   50.000000\n",
       "mean   15.400000   42.980000\n",
       "std     5.287644   25.769377\n",
       "min     4.000000    2.000000\n",
       "25%    12.000000   26.000000\n",
       "50%    15.000000   36.000000\n",
       "75%    19.000000   56.000000\n",
       "max    25.000000  120.000000"
      ]
     },
     "execution_count": 8,
     "metadata": {},
     "output_type": "execute_result"
    }
   ],
   "source": [
    "# 숫자형 변수들의 통계량을 살펴 봅니다.\n",
    "data.describe()"
   ]
  },
  {
   "cell_type": "code",
   "execution_count": 9,
   "metadata": {
    "id": "nRYIgZxT0pXk"
   },
   "outputs": [
    {
     "data": {
      "text/plain": [
       "speed    0\n",
       "dist     0\n",
       "dtype: int64"
      ]
     },
     "execution_count": 9,
     "metadata": {},
     "output_type": "execute_result"
    }
   ],
   "source": [
    "# 각 변수별 NaN 현황 파악하기\n",
    "data.isnull().sum()"
   ]
  },
  {
   "cell_type": "markdown",
   "metadata": {
    "id": "BsF_cjfK0Y5P"
   },
   "source": [
    "### 13.탐색하기"
   ]
  },
  {
   "cell_type": "markdown",
   "metadata": {
    "id": "g7yZyyXzLB91"
   },
   "source": [
    "[matplotlib 기본을 잘 설명한 곳](https://datascienceschool.net/view-notebook/d0b1637803754bb083b5722c9f2209d0/)"
   ]
  },
  {
   "cell_type": "code",
   "execution_count": 11,
   "metadata": {
    "id": "okEyRbFKRqPR"
   },
   "outputs": [
    {
     "data": {
      "image/png": "[encoded data removed]",
      "text/plain": [
       "<Figure size 1080x504 with 1 Axes>"
      ]
     },
     "metadata": {
      "needs_background": "light"
     },
     "output_type": "display_data"
    }
   ],
   "source": [
    "# 차트를 그려봅시다.\n",
    "data.plot.scatter(x='speed', y='dist', figsize=(15,7))\n",
    "plt.show()"
   ]
  },
  {
   "cell_type": "code",
   "execution_count": null,
   "metadata": {
    "id": "Gu46JGg736Q3"
   },
   "outputs": [],
   "source": [
    "# 위 차트에서 무엇이 보이나요?\n",
    "\n"
   ]
  },
  {
   "cell_type": "markdown",
   "metadata": {
    "id": "wW0d0eGmCYJM"
   },
   "source": [
    "## 20.데이터 준비\n",
    "\n",
    "![이미지](https://github.com/DA4BAM/dataset/blob/master/new_code.png?raw=true \"code step1\")"
   ]
  },
  {
   "cell_type": "markdown",
   "metadata": {
    "id": "TfOiIj7lCfiG"
   },
   "source": [
    "### 21.변수 정리"
   ]
  },
  {
   "cell_type": "markdown",
   "metadata": {
    "id": "mIxcFuf0CoxF"
   },
   "source": [
    "### 22.NA 처리"
   ]
  },
  {
   "cell_type": "markdown",
   "metadata": {
    "id": "fE-ltcIxKHl_"
   },
   "source": [
    "### 23.Feature Engineering"
   ]
  },
  {
   "cell_type": "markdown",
   "metadata": {
    "id": "xN4Pa1qp8uwm"
   },
   "source": [
    "### 24.Dummy Variable\n",
    "\n",
    "익혀야 할 방법들\n",
    "pd.get_dummies, pd.concat, (Pandas Dataframe).drop"
   ]
  },
  {
   "cell_type": "markdown",
   "metadata": {
    "id": "mKU5soGN4Kcf"
   },
   "source": [
    "### 25.Data Split"
   ]
  },
  {
   "cell_type": "markdown",
   "metadata": {
    "id": "PMFw2PMMOsOO"
   },
   "source": [
    "sklearn의 데이터 분할 함수를 사용해 봅시다.\n",
    "\n",
    "* 요인, x, feature, 조작변수, 통제변수, 리스크백터, Input, (독립변수)\n",
    "* 결과, y, target, label, Output, (종속변수)"
   ]
  },
  {
   "cell_type": "code",
   "execution_count": 12,
   "metadata": {
    "id": "YSCkNpwz4Kch"
   },
   "outputs": [],
   "source": [
    "from sklearn.model_selection import train_test_split"
   ]
  },
  {
   "cell_type": "code",
   "execution_count": 13,
   "metadata": {
    "id": "HO7GaUCI4Kcj"
   },
   "outputs": [],
   "source": [
    "# features와 target 분리\n",
    "X = data.drop('dist', axis=1)\n",
    "y = data.iloc[:, 1]"
   ]
  },
  {
   "cell_type": "code",
   "execution_count": 14,
   "metadata": {
    "id": "QPVkJQTD1Yqx"
   },
   "outputs": [
    {
     "data": {
      "text/html": [
       "<div>\n",
       "<style scoped>\n",
       "    .dataframe tbody tr th:only-of-type {\n",
       "        vertical-align: middle;\n",
       "    }\n",
       "\n",
       "    .dataframe tbody tr th {\n",
       "        vertical-align: top;\n",
       "    }\n",
       "\n",
       "    .dataframe thead th {\n",
       "        text-align: right;\n",
       "    }\n",
       "</style>\n",
       "<table border=\"1\" class=\"dataframe\">\n",
       "  <thead>\n",
       "    <tr style=\"text-align: right;\">\n",
       "      <th></th>\n",
       "      <th>speed</th>\n",
       "      <th>dist</th>\n",
       "    </tr>\n",
       "  </thead>\n",
       "  <tbody>\n",
       "    <tr>\n",
       "      <th>0</th>\n",
       "      <td>4</td>\n",
       "      <td>2</td>\n",
       "    </tr>\n",
       "    <tr>\n",
       "      <th>1</th>\n",
       "      <td>4</td>\n",
       "      <td>10</td>\n",
       "    </tr>\n",
       "    <tr>\n",
       "      <th>2</th>\n",
       "      <td>7</td>\n",
       "      <td>4</td>\n",
       "    </tr>\n",
       "    <tr>\n",
       "      <th>3</th>\n",
       "      <td>7</td>\n",
       "      <td>22</td>\n",
       "    </tr>\n",
       "    <tr>\n",
       "      <th>4</th>\n",
       "      <td>8</td>\n",
       "      <td>16</td>\n",
       "    </tr>\n",
       "  </tbody>\n",
       "</table>\n",
       "</div>"
      ],
      "text/plain": [
       "   speed  dist\n",
       "0      4     2\n",
       "1      4    10\n",
       "2      7     4\n",
       "3      7    22\n",
       "4      8    16"
      ]
     },
     "execution_count": 14,
     "metadata": {},
     "output_type": "execute_result"
    }
   ],
   "source": [
    "data.head()"
   ]
  },
  {
   "cell_type": "code",
   "execution_count": 15,
   "metadata": {
    "id": "TJZcPWrPO0_J"
   },
   "outputs": [],
   "source": [
    "# 전체에서 train : test = 7 : 3\n",
    "train_x, test_x, train_y, test_y = train_test_split(X, y, test_size=0.3, random_state=1)"
   ]
  },
  {
   "cell_type": "code",
   "execution_count": 16,
   "metadata": {},
   "outputs": [
    {
     "data": {
      "text/plain": [
       "(35, 1)"
      ]
     },
     "execution_count": 16,
     "metadata": {},
     "output_type": "execute_result"
    }
   ],
   "source": [
    "train_x.shape"
   ]
  },
  {
   "cell_type": "code",
   "execution_count": 17,
   "metadata": {},
   "outputs": [
    {
     "data": {
      "text/plain": [
       "(15, 1)"
      ]
     },
     "execution_count": 17,
     "metadata": {},
     "output_type": "execute_result"
    }
   ],
   "source": [
    "test_x.shape"
   ]
  },
  {
   "cell_type": "markdown",
   "metadata": {
    "id": "bFdWsejU8uwp"
   },
   "source": [
    "### 26.Scaling features\n"
   ]
  },
  {
   "cell_type": "markdown",
   "metadata": {
    "id": "zbwpz0ek8uw2"
   },
   "source": [
    "### 27. Pandas Dataframe to Numpy array"
   ]
  },
  {
   "cell_type": "markdown",
   "metadata": {
    "id": "BYr1vtpd8uw4"
   },
   "source": [
    "## 30.모델링\n",
    "\n",
    "![이미지](https://github.com/DA4BAM/dataset/blob/master/new_code.png?raw=true \"code step1\")\n"
   ]
  },
  {
   "cell_type": "markdown",
   "metadata": {
    "id": "Z31_h2AHGsjB"
   },
   "source": [
    "### 31.import"
   ]
  },
  {
   "cell_type": "code",
   "execution_count": 18,
   "metadata": {
    "id": "oRB84_HE8uw5"
   },
   "outputs": [],
   "source": [
    "# 모델링용\n",
    "from sklearn.linear_model import LinearRegression\n",
    "\n",
    "# 회귀모델 평가용 matrix\n",
    "from sklearn.metrics import mean_squared_error\n"
   ]
  },
  {
   "cell_type": "markdown",
   "metadata": {
    "id": "AvxoQdSTG1aV"
   },
   "source": [
    "### 32.모델선언"
   ]
  },
  {
   "cell_type": "code",
   "execution_count": 19,
   "metadata": {
    "id": "UCEKvUAu8uw7"
   },
   "outputs": [],
   "source": [
    "# 모델 준비\n",
    "simple_regression = LinearRegression()\n"
   ]
  },
  {
   "cell_type": "markdown",
   "metadata": {
    "id": "muxufxrDG6k0"
   },
   "source": [
    "### 33.모델링(학습)"
   ]
  },
  {
   "cell_type": "code",
   "execution_count": 20,
   "metadata": {
    "id": "HtRz5Gw6G7IH"
   },
   "outputs": [
    {
     "data": {
      "text/plain": [
       "LinearRegression()"
      ]
     },
     "execution_count": 20,
     "metadata": {},
     "output_type": "execute_result"
    }
   ],
   "source": [
    "# 모델 training : \n",
    "simple_regression.fit(train_x, train_y)\n"
   ]
  },
  {
   "cell_type": "markdown",
   "metadata": {
    "id": "p1wxcuSHHC9N"
   },
   "source": [
    "### 34.예측"
   ]
  },
  {
   "cell_type": "code",
   "execution_count": 24,
   "metadata": {
    "id": "UgX-l3rgHDI7"
   },
   "outputs": [
    {
     "data": {
      "text/plain": [
       "array([46.19405091, 57.92544123, 61.83590467, 61.83590467, 10.99987994,\n",
       "       10.99987994, 77.47775843, 50.10451435, 77.47775843, 54.01497779,\n",
       "       54.01497779, 61.83590467, 38.37312402, 57.92544123, 38.37312402])"
      ]
     },
     "execution_count": 24,
     "metadata": {},
     "output_type": "execute_result"
    }
   ],
   "source": [
    "# 예측값을 뽑자.\n",
    "test_pred = simple_regression.predict(test_x)\n",
    "test_pred"
   ]
  },
  {
   "cell_type": "markdown",
   "metadata": {
    "id": "iiGs0Vn1HJdj"
   },
   "source": [
    "### 35.평가"
   ]
  },
  {
   "cell_type": "code",
   "execution_count": 25,
   "metadata": {
    "id": "0ZRwQJXY8uw9"
   },
   "outputs": [
    {
     "data": {
      "text/plain": [
       "326.66136933971904"
      ]
     },
     "execution_count": 25,
     "metadata": {},
     "output_type": "execute_result"
    }
   ],
   "source": [
    "# MSE\n",
    "mean_squared_error(test_y, test_pred)\n"
   ]
  },
  {
   "cell_type": "code",
   "execution_count": null,
   "metadata": {
    "id": "jpOB4fla6HH7"
   },
   "outputs": [],
   "source": [
    "# RMSE\n"
   ]
  },
  {
   "cell_type": "markdown",
   "metadata": {
    "id": "inIsmlkA8kVP"
   },
   "source": [
    "### 결과 시각화\n",
    "\n",
    "결과를 시각적으로 볼 수 있는 모델은 드믄 일입니다."
   ]
  },
  {
   "cell_type": "code",
   "execution_count": 26,
   "metadata": {},
   "outputs": [
    {
     "data": {
      "text/plain": [
       "array([3.91046344])"
      ]
     },
     "execution_count": 26,
     "metadata": {},
     "output_type": "execute_result"
    }
   ],
   "source": [
    "simple_regression.coef_"
   ]
  },
  {
   "cell_type": "code",
   "execution_count": 28,
   "metadata": {
    "id": "UH4NrFzxDe_2"
   },
   "outputs": [
    {
     "name": "stdout",
     "output_type": "stream",
     "text": [
      "[3.91046344] -16.37336414935767\n"
     ]
    }
   ],
   "source": [
    "# 회귀계수 가져오기 -> 다시 해석하면 기울기와 절편을 보여줘!\n",
    "print(simple_regression.coef_, simple_regression.intercept_)"
   ]
  },
  {
   "cell_type": "code",
   "execution_count": 29,
   "metadata": {
    "id": "pparnKLKDn-U"
   },
   "outputs": [],
   "source": [
    "# 회귀계수 가져오기 again\n",
    "a = simple_regression.coef_\n",
    "b = simple_regression.intercept_\n",
    "\n",
    "# x값 : 범위 내 임의의 숫자들\n",
    "# y : 선형회귀식의 결과\n",
    "x = np.linspace(test_x.min(), test_x.max()) # 1차원\n",
    "y = a * x + b  # 2차원"
   ]
  },
  {
   "cell_type": "code",
   "execution_count": 30,
   "metadata": {
    "id": "LRXCYvmcKx4f"
   },
   "outputs": [
    {
     "data": {
      "image/png": "[encoded data removed]",
      "text/plain": [
       "<Figure size 432x288 with 1 Axes>"
      ]
     },
     "metadata": {
      "needs_background": "light"
     },
     "output_type": "display_data"
    }
   ],
   "source": [
    "# 시각화 해서 결과를 살펴보자.\n",
    "\n",
    "# 시각화해서 봅시다.\n",
    "plt.scatter(test_x, test_y)\n",
    "plt.plot(x , y , color = 'r')\n",
    "plt.xlabel('speed(mph)')\n",
    "plt.ylabel('dist(ft)')\n",
    "plt.show()"
   ]
  },
  {
   "cell_type": "code",
   "execution_count": null,
   "metadata": {
    "id": "tGNet0sQK19G"
   },
   "outputs": [],
   "source": [
    "# test한 결과를 볼때 직선은 값들을 잘 설명하고 있나요?\n",
    "\n"
   ]
  },
  {
   "cell_type": "code",
   "execution_count": 31,
   "metadata": {
    "id": "Jd43KWudK2h1"
   },
   "outputs": [
    {
     "data": {
      "image/png": "[encoded data removed]",
      "text/plain": [
       "<Figure size 432x288 with 1 Axes>"
      ]
     },
     "metadata": {
      "needs_background": "light"
     },
     "output_type": "display_data"
    }
   ],
   "source": [
    "# target값들의 평균 선을 추가해 봅시다.\n",
    "y2 = 0 * x + test_y.mean()\n",
    "\n",
    "plt.scatter(test_x, test_y)\n",
    "plt.plot(x , y , color = 'r')\n",
    "plt.plot(x , y2 , color = 'y')\n",
    "\n",
    "plt.xlabel('speed(mph)')\n",
    "plt.ylabel('dist(ft)')\n",
    "plt.show()"
   ]
  },
  {
   "cell_type": "code",
   "execution_count": null,
   "metadata": {
    "id": "M5OVYT7cK44n"
   },
   "outputs": [],
   "source": [
    "# 평균선은 무엇을 의미할까요?\n",
    "\n"
   ]
  },
  {
   "cell_type": "code",
   "execution_count": null,
   "metadata": {
    "id": "exTI4mJsK5Ai"
   },
   "outputs": [],
   "source": [
    "# 평균선보다 모델은 더 나은 설명을 하고 있나요?\n",
    "\n",
    "\n"
   ]
  }
 ],
 "metadata": {
  "colab": {
   "collapsed_sections": [],
   "name": "21_Regression_Cars.ipynb",
   "provenance": [],
   "toc_visible": true
  },
  "hide_input": false,
  "kernelspec": {
   "display_name": "Python 3",
   "language": "python",
   "name": "python3"
  },
  "language_info": {
   "codemirror_mode": {
    "name": "ipython",
    "version": 3
   },
   "file_extension": ".py",
   "mimetype": "text/x-python",
   "name": "python",
   "nbconvert_exporter": "python",
   "pygments_lexer": "ipython3",
   "version": "3.7.5"
  },
  "toc": {
   "base_numbering": 1,
   "nav_menu": {},
   "number_sections": true,
   "sideBar": true,
   "skip_h1_title": false,
   "title_cell": "Table of Contents",
   "title_sidebar": "Contents",
   "toc_cell": false,
   "toc_position": {},
   "toc_section_display": true,
   "toc_window_display": true
  }
 },
 "nbformat": 4,
 "nbformat_minor": 1
}
