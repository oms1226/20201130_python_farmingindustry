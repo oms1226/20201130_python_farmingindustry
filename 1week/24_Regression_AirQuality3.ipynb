{
 "cells": [
  {
   "cell_type": "markdown",
   "metadata": {
    "id": "cVB9pY-v8uv5"
   },
   "source": [
    "# Regression 02 : AirQuality\n",
    "\n",
    "#### 머신러닝 코드 구조 <br>\n",
    "\n",
    "![이미지](https://github.com/DA4BAM/dataset/blob/master/new_code.png?raw=true \"code step1\")\n",
    "\n"
   ]
  },
  {
   "cell_type": "markdown",
   "metadata": {
    "id": "l3xLI3hefhdF"
   },
   "source": [
    "# [3] 새로운 알고리즘 KNN(k-Nearst Neighber) + Scaling\n",
    "\n",
    "새로운 알고리즘을 적용하는데 알아야 할 것은 다음의 5가지 입니다.\n",
    "1. 알고리즘 원리\n",
    "2. 전제조건\n",
    "3. 문법(함수 명 등)\n",
    "4. 성능 튜닝 포인트(Hyper Parameter 튜닝)\n",
    "    - 복잡도를 결정하는 요소(4번과 밀접한 관련이 있음)"
   ]
  },
  {
   "cell_type": "code",
   "execution_count": 1,
   "metadata": {
    "id": "Lu3d1oPhcgUh"
   },
   "outputs": [],
   "source": [
    "#라이브러리들을 불러오자.\n",
    "import numpy as np\n",
    "import pandas as pd\n",
    "import matplotlib.pyplot as plt\n",
    "import ssl\n",
    "ssl._create_default_https_context = ssl._create_unverified_context"
   ]
  },
  {
   "cell_type": "code",
   "execution_count": 2,
   "metadata": {
    "id": "55IeDHiwcgUm"
   },
   "outputs": [],
   "source": [
    "data_path = 'https://raw.githubusercontent.com/DA4BAM/dataset/master/airquality_simple.csv'\n",
    "data = pd.read_csv(data_path)"
   ]
  },
  {
   "cell_type": "markdown",
   "metadata": {
    "id": "DZbax5ZCcgUq"
   },
   "source": [
    "## 20.데이터 준비"
   ]
  },
  {
   "cell_type": "markdown",
   "metadata": {
    "id": "H9Tju3mecgUr"
   },
   "source": [
    "### 21.변수 정리"
   ]
  },
  {
   "cell_type": "markdown",
   "metadata": {
    "id": "v-Yn3sKdcgUr"
   },
   "source": [
    "### 22.NA 처리"
   ]
  },
  {
   "cell_type": "markdown",
   "metadata": {
    "id": "n1UUtD-wcgUt"
   },
   "source": [
    "### 23.Feature Engineering"
   ]
  },
  {
   "cell_type": "markdown",
   "metadata": {
    "id": "iyQqs4x4cgUt"
   },
   "source": [
    "* 날짜 변수 만들기  \n",
    "airquality 데이터는 1973년 5~9월까지 데이터 입니다.  \n",
    "month, day 데이터를 날짜 형식으로 변환해 봅시다.\n",
    "\n",
    "(중요!)날짜변수를 만드는 이유!  \n",
    "* 날짜로 부터 추가 변수를 도출해 내기 위해서 날짜 변수를 만듭니다.  \n",
    "* 만약 추가변수 도출이 끝나면, 날짜변수는 제거합니다."
   ]
  },
  {
   "cell_type": "code",
   "execution_count": 3,
   "metadata": {
    "id": "HIA9ZN0QcgUx"
   },
   "outputs": [
    {
     "data": {
      "text/html": [
       "<div>\n",
       "<style scoped>\n",
       "    .dataframe tbody tr th:only-of-type {\n",
       "        vertical-align: middle;\n",
       "    }\n",
       "\n",
       "    .dataframe tbody tr th {\n",
       "        vertical-align: top;\n",
       "    }\n",
       "\n",
       "    .dataframe thead th {\n",
       "        text-align: right;\n",
       "    }\n",
       "</style>\n",
       "<table border=\"1\" class=\"dataframe\">\n",
       "  <thead>\n",
       "    <tr style=\"text-align: right;\">\n",
       "      <th></th>\n",
       "      <th>Ozone</th>\n",
       "      <th>Solar.R</th>\n",
       "      <th>Wind</th>\n",
       "      <th>Temp</th>\n",
       "      <th>Month</th>\n",
       "      <th>Day</th>\n",
       "      <th>Date</th>\n",
       "      <th>WeekDay</th>\n",
       "      <th>WorkingDay</th>\n",
       "      <th>Ozone_lag1</th>\n",
       "      <th>Temp_lag1</th>\n",
       "      <th>Wind_lag1</th>\n",
       "      <th>Solar.R_lag1</th>\n",
       "      <th>Ozone_diff</th>\n",
       "      <th>Ozone_MA_7_lag1</th>\n",
       "      <th>Temp_MA_3_lag1</th>\n",
       "    </tr>\n",
       "  </thead>\n",
       "  <tbody>\n",
       "    <tr>\n",
       "      <th>0</th>\n",
       "      <td>41</td>\n",
       "      <td>190.0</td>\n",
       "      <td>7.4</td>\n",
       "      <td>67</td>\n",
       "      <td>5</td>\n",
       "      <td>1</td>\n",
       "      <td>1973-05-01</td>\n",
       "      <td>1</td>\n",
       "      <td>1</td>\n",
       "      <td>NaN</td>\n",
       "      <td>NaN</td>\n",
       "      <td>NaN</td>\n",
       "      <td>NaN</td>\n",
       "      <td>NaN</td>\n",
       "      <td>NaN</td>\n",
       "      <td>NaN</td>\n",
       "    </tr>\n",
       "    <tr>\n",
       "      <th>1</th>\n",
       "      <td>36</td>\n",
       "      <td>118.0</td>\n",
       "      <td>8.0</td>\n",
       "      <td>72</td>\n",
       "      <td>5</td>\n",
       "      <td>2</td>\n",
       "      <td>1973-05-02</td>\n",
       "      <td>2</td>\n",
       "      <td>1</td>\n",
       "      <td>41.0</td>\n",
       "      <td>67.0</td>\n",
       "      <td>7.4</td>\n",
       "      <td>190.0</td>\n",
       "      <td>NaN</td>\n",
       "      <td>41.000000</td>\n",
       "      <td>67.000000</td>\n",
       "    </tr>\n",
       "    <tr>\n",
       "      <th>2</th>\n",
       "      <td>12</td>\n",
       "      <td>149.0</td>\n",
       "      <td>12.6</td>\n",
       "      <td>74</td>\n",
       "      <td>5</td>\n",
       "      <td>3</td>\n",
       "      <td>1973-05-03</td>\n",
       "      <td>3</td>\n",
       "      <td>1</td>\n",
       "      <td>36.0</td>\n",
       "      <td>72.0</td>\n",
       "      <td>8.0</td>\n",
       "      <td>118.0</td>\n",
       "      <td>-5.0</td>\n",
       "      <td>38.500000</td>\n",
       "      <td>69.500000</td>\n",
       "    </tr>\n",
       "    <tr>\n",
       "      <th>3</th>\n",
       "      <td>18</td>\n",
       "      <td>313.0</td>\n",
       "      <td>11.5</td>\n",
       "      <td>62</td>\n",
       "      <td>5</td>\n",
       "      <td>4</td>\n",
       "      <td>1973-05-04</td>\n",
       "      <td>4</td>\n",
       "      <td>1</td>\n",
       "      <td>12.0</td>\n",
       "      <td>74.0</td>\n",
       "      <td>12.6</td>\n",
       "      <td>149.0</td>\n",
       "      <td>-24.0</td>\n",
       "      <td>29.666667</td>\n",
       "      <td>71.000000</td>\n",
       "    </tr>\n",
       "    <tr>\n",
       "      <th>4</th>\n",
       "      <td>19</td>\n",
       "      <td>NaN</td>\n",
       "      <td>14.3</td>\n",
       "      <td>56</td>\n",
       "      <td>5</td>\n",
       "      <td>5</td>\n",
       "      <td>1973-05-05</td>\n",
       "      <td>5</td>\n",
       "      <td>1</td>\n",
       "      <td>18.0</td>\n",
       "      <td>62.0</td>\n",
       "      <td>11.5</td>\n",
       "      <td>313.0</td>\n",
       "      <td>6.0</td>\n",
       "      <td>26.750000</td>\n",
       "      <td>69.333333</td>\n",
       "    </tr>\n",
       "  </tbody>\n",
       "</table>\n",
       "</div>"
      ],
      "text/plain": [
       "   Ozone  Solar.R  Wind  Temp  Month  Day       Date  WeekDay  WorkingDay  \\\n",
       "0     41    190.0   7.4    67      5    1 1973-05-01        1           1   \n",
       "1     36    118.0   8.0    72      5    2 1973-05-02        2           1   \n",
       "2     12    149.0  12.6    74      5    3 1973-05-03        3           1   \n",
       "3     18    313.0  11.5    62      5    4 1973-05-04        4           1   \n",
       "4     19      NaN  14.3    56      5    5 1973-05-05        5           1   \n",
       "\n",
       "   Ozone_lag1  Temp_lag1  Wind_lag1  Solar.R_lag1  Ozone_diff  \\\n",
       "0         NaN        NaN        NaN           NaN         NaN   \n",
       "1        41.0       67.0        7.4         190.0         NaN   \n",
       "2        36.0       72.0        8.0         118.0        -5.0   \n",
       "3        12.0       74.0       12.6         149.0       -24.0   \n",
       "4        18.0       62.0       11.5         313.0         6.0   \n",
       "\n",
       "   Ozone_MA_7_lag1  Temp_MA_3_lag1  \n",
       "0              NaN             NaN  \n",
       "1        41.000000       67.000000  \n",
       "2        38.500000       69.500000  \n",
       "3        29.666667       71.000000  \n",
       "4        26.750000       69.333333  "
      ]
     },
     "execution_count": 3,
     "metadata": {},
     "output_type": "execute_result"
    }
   ],
   "source": [
    "# 날짜를 yyyymmdd로 만든 후 변환해봅시다.\n",
    "data['Date'] = pd.to_datetime(1973*10000 + data.Month*100 + data.Day\n",
    "                              ,format='%Y%m%d')\n",
    "\n",
    "# 요일을 추가해 봅시다. \n",
    "data['WeekDay'] = data.Date.dt.dayofweek\n",
    "\n",
    "# working day 여부\n",
    "data['WorkingDay'] = 1\n",
    "data.loc[data['WeekDay'].isin([0,6]), 'WorkingDay'] = 0\n",
    "\n",
    "# 전날 오존 농도를 추가합니다.\n",
    "data['Ozone_lag1'] = data['Ozone'].shift() \n",
    "\n",
    "# 전날 온도, 전날 바람세기, 전날 solar.R\n",
    "data['Temp_lag1'] = data['Temp'].shift() \n",
    "data['Wind_lag1'] = data['Wind'].shift() \n",
    "data['Solar.R_lag1'] = data['Solar.R'].shift() \n",
    "\n",
    "# 전전날 오존농도 대비 전날 오존농도 증감\n",
    "data['Ozone_diff'] = data['Ozone_lag1'] -  data['Ozone'].shift(2)\n",
    "data.head()\n",
    "\n",
    "# 7일 이동평균 오존농도\n",
    "data['Ozone_MA_7_lag1'] = data['Ozone'].rolling(7, min_periods=1).mean().shift()\n",
    "\n",
    "# 3일 이동평균 온도를 추가합시다.\n",
    "data['Temp_MA_3_lag1'] = data['Temp'].rolling(3, min_periods=1).mean().shift()\n",
    "data.head()"
   ]
  },
  {
   "cell_type": "markdown",
   "metadata": {
    "id": "vmLDnZU8cgVg"
   },
   "source": [
    "### 24.Dummy Variable\n",
    "    * 범주형 변수를 숫자로 만드는 방법\n",
    "    * pd.get_dummies, pd.concat, (Pandas Dataframe).drop\n",
    "    * 불필요한 칼럼들 제거\n"
   ]
  },
  {
   "cell_type": "code",
   "execution_count": 4,
   "metadata": {
    "scrolled": true
   },
   "outputs": [
    {
     "data": {
      "text/html": [
       "<div>\n",
       "<style scoped>\n",
       "    .dataframe tbody tr th:only-of-type {\n",
       "        vertical-align: middle;\n",
       "    }\n",
       "\n",
       "    .dataframe tbody tr th {\n",
       "        vertical-align: top;\n",
       "    }\n",
       "\n",
       "    .dataframe thead th {\n",
       "        text-align: right;\n",
       "    }\n",
       "</style>\n",
       "<table border=\"1\" class=\"dataframe\">\n",
       "  <thead>\n",
       "    <tr style=\"text-align: right;\">\n",
       "      <th></th>\n",
       "      <th>W_1</th>\n",
       "      <th>W_2</th>\n",
       "      <th>W_3</th>\n",
       "      <th>W_4</th>\n",
       "      <th>W_5</th>\n",
       "      <th>W_6</th>\n",
       "    </tr>\n",
       "  </thead>\n",
       "  <tbody>\n",
       "    <tr>\n",
       "      <th>0</th>\n",
       "      <td>1</td>\n",
       "      <td>0</td>\n",
       "      <td>0</td>\n",
       "      <td>0</td>\n",
       "      <td>0</td>\n",
       "      <td>0</td>\n",
       "    </tr>\n",
       "    <tr>\n",
       "      <th>1</th>\n",
       "      <td>0</td>\n",
       "      <td>1</td>\n",
       "      <td>0</td>\n",
       "      <td>0</td>\n",
       "      <td>0</td>\n",
       "      <td>0</td>\n",
       "    </tr>\n",
       "    <tr>\n",
       "      <th>2</th>\n",
       "      <td>0</td>\n",
       "      <td>0</td>\n",
       "      <td>1</td>\n",
       "      <td>0</td>\n",
       "      <td>0</td>\n",
       "      <td>0</td>\n",
       "    </tr>\n",
       "    <tr>\n",
       "      <th>3</th>\n",
       "      <td>0</td>\n",
       "      <td>0</td>\n",
       "      <td>0</td>\n",
       "      <td>1</td>\n",
       "      <td>0</td>\n",
       "      <td>0</td>\n",
       "    </tr>\n",
       "    <tr>\n",
       "      <th>4</th>\n",
       "      <td>0</td>\n",
       "      <td>0</td>\n",
       "      <td>0</td>\n",
       "      <td>0</td>\n",
       "      <td>1</td>\n",
       "      <td>0</td>\n",
       "    </tr>\n",
       "  </tbody>\n",
       "</table>\n",
       "</div>"
      ],
      "text/plain": [
       "   W_1  W_2  W_3  W_4  W_5  W_6\n",
       "0    1    0    0    0    0    0\n",
       "1    0    1    0    0    0    0\n",
       "2    0    0    1    0    0    0\n",
       "3    0    0    0    1    0    0\n",
       "4    0    0    0    0    1    0"
      ]
     },
     "execution_count": 4,
     "metadata": {},
     "output_type": "execute_result"
    }
   ],
   "source": [
    "data_wd = pd.get_dummies(data['WeekDay'], prefix = 'W', drop_first = 1)\n",
    "data_wd.head()"
   ]
  },
  {
   "cell_type": "code",
   "execution_count": 5,
   "metadata": {
    "scrolled": true
   },
   "outputs": [
    {
     "data": {
      "text/html": [
       "<div>\n",
       "<style scoped>\n",
       "    .dataframe tbody tr th:only-of-type {\n",
       "        vertical-align: middle;\n",
       "    }\n",
       "\n",
       "    .dataframe tbody tr th {\n",
       "        vertical-align: top;\n",
       "    }\n",
       "\n",
       "    .dataframe thead th {\n",
       "        text-align: right;\n",
       "    }\n",
       "</style>\n",
       "<table border=\"1\" class=\"dataframe\">\n",
       "  <thead>\n",
       "    <tr style=\"text-align: right;\">\n",
       "      <th></th>\n",
       "      <th>Ozone</th>\n",
       "      <th>Solar.R</th>\n",
       "      <th>Wind</th>\n",
       "      <th>Temp</th>\n",
       "      <th>Month</th>\n",
       "      <th>Day</th>\n",
       "      <th>Date</th>\n",
       "      <th>WeekDay</th>\n",
       "      <th>WorkingDay</th>\n",
       "      <th>Ozone_lag1</th>\n",
       "      <th>...</th>\n",
       "      <th>Solar.R_lag1</th>\n",
       "      <th>Ozone_diff</th>\n",
       "      <th>Ozone_MA_7_lag1</th>\n",
       "      <th>Temp_MA_3_lag1</th>\n",
       "      <th>W_1</th>\n",
       "      <th>W_2</th>\n",
       "      <th>W_3</th>\n",
       "      <th>W_4</th>\n",
       "      <th>W_5</th>\n",
       "      <th>W_6</th>\n",
       "    </tr>\n",
       "  </thead>\n",
       "  <tbody>\n",
       "    <tr>\n",
       "      <th>0</th>\n",
       "      <td>41</td>\n",
       "      <td>190.0</td>\n",
       "      <td>7.4</td>\n",
       "      <td>67</td>\n",
       "      <td>5</td>\n",
       "      <td>1</td>\n",
       "      <td>1973-05-01</td>\n",
       "      <td>1</td>\n",
       "      <td>1</td>\n",
       "      <td>NaN</td>\n",
       "      <td>...</td>\n",
       "      <td>NaN</td>\n",
       "      <td>NaN</td>\n",
       "      <td>NaN</td>\n",
       "      <td>NaN</td>\n",
       "      <td>1</td>\n",
       "      <td>0</td>\n",
       "      <td>0</td>\n",
       "      <td>0</td>\n",
       "      <td>0</td>\n",
       "      <td>0</td>\n",
       "    </tr>\n",
       "    <tr>\n",
       "      <th>1</th>\n",
       "      <td>36</td>\n",
       "      <td>118.0</td>\n",
       "      <td>8.0</td>\n",
       "      <td>72</td>\n",
       "      <td>5</td>\n",
       "      <td>2</td>\n",
       "      <td>1973-05-02</td>\n",
       "      <td>2</td>\n",
       "      <td>1</td>\n",
       "      <td>41.0</td>\n",
       "      <td>...</td>\n",
       "      <td>190.0</td>\n",
       "      <td>NaN</td>\n",
       "      <td>41.000000</td>\n",
       "      <td>67.000000</td>\n",
       "      <td>0</td>\n",
       "      <td>1</td>\n",
       "      <td>0</td>\n",
       "      <td>0</td>\n",
       "      <td>0</td>\n",
       "      <td>0</td>\n",
       "    </tr>\n",
       "    <tr>\n",
       "      <th>2</th>\n",
       "      <td>12</td>\n",
       "      <td>149.0</td>\n",
       "      <td>12.6</td>\n",
       "      <td>74</td>\n",
       "      <td>5</td>\n",
       "      <td>3</td>\n",
       "      <td>1973-05-03</td>\n",
       "      <td>3</td>\n",
       "      <td>1</td>\n",
       "      <td>36.0</td>\n",
       "      <td>...</td>\n",
       "      <td>118.0</td>\n",
       "      <td>-5.0</td>\n",
       "      <td>38.500000</td>\n",
       "      <td>69.500000</td>\n",
       "      <td>0</td>\n",
       "      <td>0</td>\n",
       "      <td>1</td>\n",
       "      <td>0</td>\n",
       "      <td>0</td>\n",
       "      <td>0</td>\n",
       "    </tr>\n",
       "    <tr>\n",
       "      <th>3</th>\n",
       "      <td>18</td>\n",
       "      <td>313.0</td>\n",
       "      <td>11.5</td>\n",
       "      <td>62</td>\n",
       "      <td>5</td>\n",
       "      <td>4</td>\n",
       "      <td>1973-05-04</td>\n",
       "      <td>4</td>\n",
       "      <td>1</td>\n",
       "      <td>12.0</td>\n",
       "      <td>...</td>\n",
       "      <td>149.0</td>\n",
       "      <td>-24.0</td>\n",
       "      <td>29.666667</td>\n",
       "      <td>71.000000</td>\n",
       "      <td>0</td>\n",
       "      <td>0</td>\n",
       "      <td>0</td>\n",
       "      <td>1</td>\n",
       "      <td>0</td>\n",
       "      <td>0</td>\n",
       "    </tr>\n",
       "    <tr>\n",
       "      <th>4</th>\n",
       "      <td>19</td>\n",
       "      <td>NaN</td>\n",
       "      <td>14.3</td>\n",
       "      <td>56</td>\n",
       "      <td>5</td>\n",
       "      <td>5</td>\n",
       "      <td>1973-05-05</td>\n",
       "      <td>5</td>\n",
       "      <td>1</td>\n",
       "      <td>18.0</td>\n",
       "      <td>...</td>\n",
       "      <td>313.0</td>\n",
       "      <td>6.0</td>\n",
       "      <td>26.750000</td>\n",
       "      <td>69.333333</td>\n",
       "      <td>0</td>\n",
       "      <td>0</td>\n",
       "      <td>0</td>\n",
       "      <td>0</td>\n",
       "      <td>1</td>\n",
       "      <td>0</td>\n",
       "    </tr>\n",
       "  </tbody>\n",
       "</table>\n",
       "<p>5 rows × 22 columns</p>\n",
       "</div>"
      ],
      "text/plain": [
       "   Ozone  Solar.R  Wind  Temp  Month  Day       Date  WeekDay  WorkingDay  \\\n",
       "0     41    190.0   7.4    67      5    1 1973-05-01        1           1   \n",
       "1     36    118.0   8.0    72      5    2 1973-05-02        2           1   \n",
       "2     12    149.0  12.6    74      5    3 1973-05-03        3           1   \n",
       "3     18    313.0  11.5    62      5    4 1973-05-04        4           1   \n",
       "4     19      NaN  14.3    56      5    5 1973-05-05        5           1   \n",
       "\n",
       "   Ozone_lag1  ...  Solar.R_lag1  Ozone_diff  Ozone_MA_7_lag1  Temp_MA_3_lag1  \\\n",
       "0         NaN  ...           NaN         NaN              NaN             NaN   \n",
       "1        41.0  ...         190.0         NaN        41.000000       67.000000   \n",
       "2        36.0  ...         118.0        -5.0        38.500000       69.500000   \n",
       "3        12.0  ...         149.0       -24.0        29.666667       71.000000   \n",
       "4        18.0  ...         313.0         6.0        26.750000       69.333333   \n",
       "\n",
       "   W_1  W_2  W_3  W_4  W_5  W_6  \n",
       "0    1    0    0    0    0    0  \n",
       "1    0    1    0    0    0    0  \n",
       "2    0    0    1    0    0    0  \n",
       "3    0    0    0    1    0    0  \n",
       "4    0    0    0    0    1    0  \n",
       "\n",
       "[5 rows x 22 columns]"
      ]
     },
     "execution_count": 5,
     "metadata": {},
     "output_type": "execute_result"
    }
   ],
   "source": [
    "data2 = pd.concat([data, data_wd], axis=1)\n",
    "data2.head()"
   ]
  },
  {
   "cell_type": "code",
   "execution_count": 6,
   "metadata": {},
   "outputs": [
    {
     "data": {
      "text/html": [
       "<div>\n",
       "<style scoped>\n",
       "    .dataframe tbody tr th:only-of-type {\n",
       "        vertical-align: middle;\n",
       "    }\n",
       "\n",
       "    .dataframe tbody tr th {\n",
       "        vertical-align: top;\n",
       "    }\n",
       "\n",
       "    .dataframe thead th {\n",
       "        text-align: right;\n",
       "    }\n",
       "</style>\n",
       "<table border=\"1\" class=\"dataframe\">\n",
       "  <thead>\n",
       "    <tr style=\"text-align: right;\">\n",
       "      <th></th>\n",
       "      <th>Ozone</th>\n",
       "      <th>WorkingDay</th>\n",
       "      <th>Ozone_lag1</th>\n",
       "      <th>Temp_lag1</th>\n",
       "      <th>Wind_lag1</th>\n",
       "      <th>Solar.R_lag1</th>\n",
       "      <th>Ozone_diff</th>\n",
       "      <th>Ozone_MA_7_lag1</th>\n",
       "      <th>Temp_MA_3_lag1</th>\n",
       "      <th>W_1</th>\n",
       "      <th>W_2</th>\n",
       "      <th>W_3</th>\n",
       "      <th>W_4</th>\n",
       "      <th>W_5</th>\n",
       "      <th>W_6</th>\n",
       "    </tr>\n",
       "  </thead>\n",
       "  <tbody>\n",
       "    <tr>\n",
       "      <th>0</th>\n",
       "      <td>41</td>\n",
       "      <td>1</td>\n",
       "      <td>NaN</td>\n",
       "      <td>NaN</td>\n",
       "      <td>NaN</td>\n",
       "      <td>NaN</td>\n",
       "      <td>NaN</td>\n",
       "      <td>NaN</td>\n",
       "      <td>NaN</td>\n",
       "      <td>1</td>\n",
       "      <td>0</td>\n",
       "      <td>0</td>\n",
       "      <td>0</td>\n",
       "      <td>0</td>\n",
       "      <td>0</td>\n",
       "    </tr>\n",
       "    <tr>\n",
       "      <th>1</th>\n",
       "      <td>36</td>\n",
       "      <td>1</td>\n",
       "      <td>41.0</td>\n",
       "      <td>67.0</td>\n",
       "      <td>7.4</td>\n",
       "      <td>190.0</td>\n",
       "      <td>NaN</td>\n",
       "      <td>41.000000</td>\n",
       "      <td>67.000000</td>\n",
       "      <td>0</td>\n",
       "      <td>1</td>\n",
       "      <td>0</td>\n",
       "      <td>0</td>\n",
       "      <td>0</td>\n",
       "      <td>0</td>\n",
       "    </tr>\n",
       "    <tr>\n",
       "      <th>2</th>\n",
       "      <td>12</td>\n",
       "      <td>1</td>\n",
       "      <td>36.0</td>\n",
       "      <td>72.0</td>\n",
       "      <td>8.0</td>\n",
       "      <td>118.0</td>\n",
       "      <td>-5.0</td>\n",
       "      <td>38.500000</td>\n",
       "      <td>69.500000</td>\n",
       "      <td>0</td>\n",
       "      <td>0</td>\n",
       "      <td>1</td>\n",
       "      <td>0</td>\n",
       "      <td>0</td>\n",
       "      <td>0</td>\n",
       "    </tr>\n",
       "    <tr>\n",
       "      <th>3</th>\n",
       "      <td>18</td>\n",
       "      <td>1</td>\n",
       "      <td>12.0</td>\n",
       "      <td>74.0</td>\n",
       "      <td>12.6</td>\n",
       "      <td>149.0</td>\n",
       "      <td>-24.0</td>\n",
       "      <td>29.666667</td>\n",
       "      <td>71.000000</td>\n",
       "      <td>0</td>\n",
       "      <td>0</td>\n",
       "      <td>0</td>\n",
       "      <td>1</td>\n",
       "      <td>0</td>\n",
       "      <td>0</td>\n",
       "    </tr>\n",
       "    <tr>\n",
       "      <th>4</th>\n",
       "      <td>19</td>\n",
       "      <td>1</td>\n",
       "      <td>18.0</td>\n",
       "      <td>62.0</td>\n",
       "      <td>11.5</td>\n",
       "      <td>313.0</td>\n",
       "      <td>6.0</td>\n",
       "      <td>26.750000</td>\n",
       "      <td>69.333333</td>\n",
       "      <td>0</td>\n",
       "      <td>0</td>\n",
       "      <td>0</td>\n",
       "      <td>0</td>\n",
       "      <td>1</td>\n",
       "      <td>0</td>\n",
       "    </tr>\n",
       "  </tbody>\n",
       "</table>\n",
       "</div>"
      ],
      "text/plain": [
       "   Ozone  WorkingDay  Ozone_lag1  Temp_lag1  Wind_lag1  Solar.R_lag1  \\\n",
       "0     41           1         NaN        NaN        NaN           NaN   \n",
       "1     36           1        41.0       67.0        7.4         190.0   \n",
       "2     12           1        36.0       72.0        8.0         118.0   \n",
       "3     18           1        12.0       74.0       12.6         149.0   \n",
       "4     19           1        18.0       62.0       11.5         313.0   \n",
       "\n",
       "   Ozone_diff  Ozone_MA_7_lag1  Temp_MA_3_lag1  W_1  W_2  W_3  W_4  W_5  W_6  \n",
       "0         NaN              NaN             NaN    1    0    0    0    0    0  \n",
       "1         NaN        41.000000       67.000000    0    1    0    0    0    0  \n",
       "2        -5.0        38.500000       69.500000    0    0    1    0    0    0  \n",
       "3       -24.0        29.666667       71.000000    0    0    0    1    0    0  \n",
       "4         6.0        26.750000       69.333333    0    0    0    0    1    0  "
      ]
     },
     "execution_count": 6,
     "metadata": {},
     "output_type": "execute_result"
    }
   ],
   "source": [
    "drop_x = ['Solar.R','Wind','Temp','Month','Day','Date','WeekDay']\n",
    "data2.drop(drop_x, axis = 1, inplace = True)\n",
    "data2.head()"
   ]
  },
  {
   "cell_type": "code",
   "execution_count": null,
   "metadata": {
    "id": "alZ7wSXbcgVg"
   },
   "outputs": [],
   "source": [
    "# dummy variable\n",
    "data_wd =      (    ,    ,    )"
   ]
  },
  {
   "cell_type": "code",
   "execution_count": null,
   "metadata": {
    "id": "9ifuZKHicgVk"
   },
   "outputs": [],
   "source": []
  },
  {
   "cell_type": "code",
   "execution_count": null,
   "metadata": {
    "id": "Di_rt6FNcgVn"
   },
   "outputs": [],
   "source": [
    "data2 = pd.     ([   ,    ], axis=1)"
   ]
  },
  {
   "cell_type": "code",
   "execution_count": null,
   "metadata": {
    "id": "3oN2_G38cgVq"
   },
   "outputs": [],
   "source": []
  },
  {
   "cell_type": "markdown",
   "metadata": {
    "id": "NdCUmTKccgVu"
   },
   "source": [
    "* 불필요한 변수를 제거합시다."
   ]
  },
  {
   "cell_type": "code",
   "execution_count": null,
   "metadata": {
    "id": "UstnouGScgVv"
   },
   "outputs": [],
   "source": [
    "# 칼럼삭제\n",
    "drop_x = [         ]\n",
    "data2.    (drop_x, axis = 1, inplace = True)"
   ]
  },
  {
   "cell_type": "code",
   "execution_count": null,
   "metadata": {
    "id": "MgwxouMycgVx"
   },
   "outputs": [],
   "source": []
  },
  {
   "cell_type": "markdown",
   "metadata": {
    "id": "Fzy99r0qcgV0"
   },
   "source": [
    "### 25.Data Split"
   ]
  },
  {
   "cell_type": "markdown",
   "metadata": {
    "id": "VHrXYWnLcgV0"
   },
   "source": [
    "데이터셋을 나눠봅시다.  \n",
    "위 코드를 참조해서 직접 코드를 작성합시다. \n"
   ]
  },
  {
   "cell_type": "code",
   "execution_count": 54,
   "metadata": {
    "id": "q4BGb0tBcgV0"
   },
   "outputs": [],
   "source": [
    "# 필요한 함수를 불러옵니다.\n",
    "from sklearn.model_selection import train_test_split"
   ]
  },
  {
   "cell_type": "code",
   "execution_count": 55,
   "metadata": {
    "id": "TUqyMuPncgV3"
   },
   "outputs": [],
   "source": [
    "# features와 target 분리\n",
    "X = data2.drop('Ozone', axis=1)# == data.iloc[:, 1:]\n",
    "y = data.iloc[:, 0]"
   ]
  },
  {
   "cell_type": "code",
   "execution_count": 56,
   "metadata": {
    "id": "wWwQODo4cgV5"
   },
   "outputs": [],
   "source": [
    "# 전체에서 train : test = 7 : 3\n",
    "train_x, test_x, train_y, test_y = train_test_split(X, y, test_size=0.3, random_state=1)"
   ]
  },
  {
   "cell_type": "markdown",
   "metadata": {
    "id": "wdkDYB9wcgV-"
   },
   "source": [
    "### (Again)22.NA 처리 : knn Imputation\n",
    "(아래 내용은 이번 과정에서는 설명을 하지 않고 그냥 실행하고 넘어갑시다.)"
   ]
  },
  {
   "cell_type": "code",
   "execution_count": 57,
   "metadata": {
    "scrolled": true
   },
   "outputs": [
    {
     "data": {
      "text/plain": [
       "WorkingDay         0\n",
       "Ozone_lag1         1\n",
       "Temp_lag1          1\n",
       "Wind_lag1          1\n",
       "Solar.R_lag1       6\n",
       "Ozone_diff         2\n",
       "Ozone_MA_7_lag1    1\n",
       "Temp_MA_3_lag1     1\n",
       "W_1                0\n",
       "W_2                0\n",
       "W_3                0\n",
       "W_4                0\n",
       "W_5                0\n",
       "W_6                0\n",
       "dtype: int64"
      ]
     },
     "execution_count": 57,
     "metadata": {},
     "output_type": "execute_result"
    }
   ],
   "source": [
    "train_x.isnull().sum()\n",
    "# train_x[train_x['Solar.R_lag1'].isna()].head()"
   ]
  },
  {
   "cell_type": "code",
   "execution_count": 58,
   "metadata": {},
   "outputs": [
    {
     "data": {
      "text/plain": [
       "WorkingDay         0\n",
       "Ozone_lag1         0\n",
       "Temp_lag1          0\n",
       "Wind_lag1          0\n",
       "Solar.R_lag1       2\n",
       "Ozone_diff         0\n",
       "Ozone_MA_7_lag1    0\n",
       "Temp_MA_3_lag1     0\n",
       "W_1                0\n",
       "W_2                0\n",
       "W_3                0\n",
       "W_4                0\n",
       "W_5                0\n",
       "W_6                0\n",
       "dtype: int64"
      ]
     },
     "execution_count": 58,
     "metadata": {},
     "output_type": "execute_result"
    }
   ],
   "source": [
    "test_x.isnull().sum()\n",
    "# test_x[test_x['Solar.R_lag1'].isna()].head()"
   ]
  },
  {
   "cell_type": "code",
   "execution_count": 59,
   "metadata": {
    "id": "fp3SN9DRcgV-"
   },
   "outputs": [],
   "source": [
    "# 필요한 함수 불러오기\n",
    "from sklearn.impute import KNNImputer\n",
    "\n",
    "# 선언한다.\n",
    "imputer = KNNImputer()\n",
    "\n",
    "# 함수를 만든다.\n",
    "imputer.fit(train_x)\n",
    "\n",
    "# 적용한다.\n",
    "train_x = imputer.transform(train_x)\n",
    "test_x = imputer.transform(test_x)"
   ]
  },
  {
   "cell_type": "code",
   "execution_count": 60,
   "metadata": {},
   "outputs": [
    {
     "data": {
      "text/plain": [
       "numpy.ndarray"
      ]
     },
     "execution_count": 60,
     "metadata": {},
     "output_type": "execute_result"
    }
   ],
   "source": [
    "type(train_x)"
   ]
  },
  {
   "cell_type": "code",
   "execution_count": 63,
   "metadata": {},
   "outputs": [
    {
     "name": "stdout",
     "output_type": "stream",
     "text": [
      "[0 0 0 0 0 0 0 0 0 0 0 0 0 0]\n",
      "[0 0 0 0 0 0 0 0 0 0 0 0 0 0]\n"
     ]
    }
   ],
   "source": [
    "print(np.isnan(train_x).sum(axis=0))\n",
    "print(np.isnan(test_x).sum(axis=0))"
   ]
  },
  {
   "cell_type": "code",
   "execution_count": 52,
   "metadata": {},
   "outputs": [
    {
     "data": {
      "text/plain": [
       "array([[0.        , 0.11976048, 0.45      , ..., 0.        , 0.        ,\n",
       "        0.        ],\n",
       "       [1.        , 0.05389222, 0.4       , ..., 1.        , 0.        ,\n",
       "        0.        ],\n",
       "       [1.        , 0.02994012, 0.        , ..., 0.        , 1.        ,\n",
       "        0.        ],\n",
       "       ...,\n",
       "       [1.        , 0.26946108, 0.625     , ..., 0.        , 0.        ,\n",
       "        0.        ],\n",
       "       [1.        , 0.10179641, 0.25      , ..., 0.        , 0.        ,\n",
       "        0.        ],\n",
       "       [1.        , 0.1497006 , 0.55      , ..., 0.        , 0.        ,\n",
       "        0.        ]])"
      ]
     },
     "execution_count": 52,
     "metadata": {},
     "output_type": "execute_result"
    }
   ],
   "source": [
    "# train_x[:,0]\n",
    "train_x"
   ]
  },
  {
   "cell_type": "code",
   "execution_count": null,
   "metadata": {},
   "outputs": [],
   "source": []
  },
  {
   "cell_type": "markdown",
   "metadata": {
    "id": "7JDK8UsJcgWF"
   },
   "source": [
    "### 26.Scaling features\n",
    "knn 알고리즘으로 모델링 하기 위해서는 반드시 scaling이 필요!\n",
    "\n"
   ]
  },
  {
   "cell_type": "code",
   "execution_count": 27,
   "metadata": {
    "id": "mxmNk9tVcrG7"
   },
   "outputs": [],
   "source": [
    "# 필요한 함수 로딩\n",
    "from sklearn.preprocessing import MinMaxScaler"
   ]
  },
  {
   "cell_type": "code",
   "execution_count": 28,
   "metadata": {
    "id": "7uh0bKADk6ah"
   },
   "outputs": [
    {
     "data": {
      "text/plain": [
       "MinMaxScaler()"
      ]
     },
     "execution_count": 28,
     "metadata": {},
     "output_type": "execute_result"
    }
   ],
   "source": [
    "# 함수 선언\n",
    "scaler = MinMaxScaler()\n",
    "\n",
    "# 함수 만들기\n",
    "scaler.fit(train_x)"
   ]
  },
  {
   "cell_type": "code",
   "execution_count": 64,
   "metadata": {
    "id": "-lsp3ZqXetGD"
   },
   "outputs": [
    {
     "name": "stdout",
     "output_type": "stream",
     "text": [
      "[  0.     1.    57.     3.4    7.   -95.    13.43  57.33   0.     0.\n",
      "   0.     0.     0.     0.  ]\n",
      "[  1.         168.          97.          20.7        332.\n",
      " 123.          98.71428571  94.66666667   1.           1.\n",
      "   1.           1.           1.           1.        ]\n"
     ]
    }
   ],
   "source": [
    "# scaling 전\n",
    "print(train_x.min(axis=0).round(2))\n",
    "print(train_x.max(axis=0))"
   ]
  },
  {
   "cell_type": "code",
   "execution_count": 65,
   "metadata": {
    "id": "deYij1KmeJYC"
   },
   "outputs": [],
   "source": [
    "# 함수 적용하기\n",
    "train_x = scaler.transform(train_x)\n",
    "test_x = scaler.transform(test_x)"
   ]
  },
  {
   "cell_type": "code",
   "execution_count": 66,
   "metadata": {
    "id": "koLDUObZeZTf"
   },
   "outputs": [
    {
     "name": "stdout",
     "output_type": "stream",
     "text": [
      "[0. 0. 0. 0. 0. 0. 0. 0. 0. 0. 0. 0. 0. 0.]\n",
      "[1. 1. 1. 1. 1. 1. 1. 1. 1. 1. 1. 1. 1. 1.]\n"
     ]
    }
   ],
   "source": [
    "# scaling 후\n",
    "print(train_x.min(axis=0))\n",
    "print(train_x.max(axis=0))"
   ]
  },
  {
   "cell_type": "markdown",
   "metadata": {
    "id": "JIbWfk0OcgWF"
   },
   "source": [
    "### 27.Dataframe to Numpy array"
   ]
  },
  {
   "cell_type": "code",
   "execution_count": 67,
   "metadata": {
    "id": "NJBAadVrcgWF"
   },
   "outputs": [
    {
     "data": {
      "text/plain": [
       "numpy.ndarray"
      ]
     },
     "execution_count": 67,
     "metadata": {},
     "output_type": "execute_result"
    }
   ],
   "source": [
    "type(train_x)"
   ]
  },
  {
   "cell_type": "markdown",
   "metadata": {
    "id": "2AKC8d8icgWJ"
   },
   "source": [
    "sk-learn의 transform 함수를 통해 변환된 결과물은 numpy array가 됩니다.  \n",
    "그러므로 다시 할 필요가 없습니다. "
   ]
  },
  {
   "cell_type": "markdown",
   "metadata": {
    "id": "TyrCF1l9cgWL"
   },
   "source": [
    "## 30.모델링 : knn"
   ]
  },
  {
   "cell_type": "markdown",
   "metadata": {
    "id": "TJywgIYtLokA"
   },
   "source": [
    "### 31.import"
   ]
  },
  {
   "cell_type": "markdown",
   "metadata": {
    "id": "tb0weh3tul40"
   },
   "source": [
    "[K-Nearest Neighbors Regression](http://scikit-learn.org/stable/modules/generated/sklearn.neighbors.KNeighborsRegressor.html#sklearn.neighbors.KNeighborsRegressor)\n",
    "\n",
    "검색요령 : sklearn <알고리즘> 회귀?분류?  \n",
    "예 : knn 회귀 ==> sklearn knn regressssor  \n",
    "svm 분류 ==> sklearn svm classifier\n",
    "\n"
   ]
  },
  {
   "cell_type": "code",
   "execution_count": 68,
   "metadata": {
    "id": "0AaUa9aCjTKd"
   },
   "outputs": [],
   "source": [
    "# 검색창에, sklearn knn regressor 로 검색합시다.\n",
    "from sklearn.neighbors import KNeighborsRegressor\n",
    "from sklearn.metrics import mean_squared_error, mean_absolute_error"
   ]
  },
  {
   "cell_type": "markdown",
   "metadata": {
    "id": "4hYE71GCLzDH"
   },
   "source": [
    "### 32.모델선언"
   ]
  },
  {
   "cell_type": "markdown",
   "metadata": {
    "id": "rMBHos9vPuh6"
   },
   "source": [
    "k 값에 따라 성능은 달라집니다. 하지만 여기서는 default(5)로 두고 모델링 합니다."
   ]
  },
  {
   "cell_type": "code",
   "execution_count": 69,
   "metadata": {
    "id": "g5f7fJPQwXIl"
   },
   "outputs": [],
   "source": [
    "model_knn =  KNeighborsRegressor(5)"
   ]
  },
  {
   "cell_type": "markdown",
   "metadata": {
    "id": "iHQutm9-Ly3c"
   },
   "source": [
    "### 33.모델링(학습)"
   ]
  },
  {
   "cell_type": "code",
   "execution_count": 71,
   "metadata": {
    "id": "V2_K0YxnLyvL"
   },
   "outputs": [
    {
     "data": {
      "text/plain": [
       "KNeighborsRegressor()"
      ]
     },
     "execution_count": 71,
     "metadata": {},
     "output_type": "execute_result"
    }
   ],
   "source": [
    "model_knn.fit(train_x, train_y)"
   ]
  },
  {
   "cell_type": "markdown",
   "metadata": {
    "id": "pupybblFLyHc"
   },
   "source": [
    "### 34.예측"
   ]
  },
  {
   "cell_type": "code",
   "execution_count": 72,
   "metadata": {
    "id": "iql6pCwWfhdG"
   },
   "outputs": [],
   "source": [
    "test_pred = model_knn.predict(test_x)"
   ]
  },
  {
   "cell_type": "markdown",
   "metadata": {
    "id": "r1SAysDjMGqf"
   },
   "source": [
    "### 35.평가"
   ]
  },
  {
   "cell_type": "code",
   "execution_count": 73,
   "metadata": {
    "id": "QF_sfH51fhdI"
   },
   "outputs": [
    {
     "name": "stdout",
     "output_type": "stream",
     "text": [
      "760.0147826086957\n",
      "27.5683656136648\n",
      "19.89130434782609\n"
     ]
    }
   ],
   "source": [
    "#test set에서의 성능 확인\n",
    "# MSE, \n",
    "print(mean_squared_error(test_y, test_pred))\n",
    "\n",
    "# RMSE\n",
    "print(mean_squared_error(test_y, test_pred, squared=0))#squared 가 제곱의 의미기에 루트가 제곱을 제거하는 것이기에 0으로 설정하는 것이다.\n",
    "\n",
    "# MAE\n",
    "print(mean_absolute_error(test_y  , test_pred))"
   ]
  },
  {
   "cell_type": "code",
   "execution_count": null,
   "metadata": {
    "id": "8WPJ2U9nXxf4"
   },
   "outputs": [],
   "source": []
  },
  {
   "cell_type": "code",
   "execution_count": null,
   "metadata": {
    "id": "t642SEybDG81"
   },
   "outputs": [],
   "source": []
  },
  {
   "cell_type": "markdown",
   "metadata": {
    "id": "eVao70JBwZ5E"
   },
   "source": [
    "Linear Regression 과 knn 어떤 알고리즘으로 모델링한 결과가 더 나은가요?\n"
   ]
  },
  {
   "cell_type": "code",
   "execution_count": 75,
   "metadata": {
    "id": "ClDKCojGwg-A"
   },
   "outputs": [
    {
     "name": "stdout",
     "output_type": "stream",
     "text": [
      "24.489611047536446\n"
     ]
    }
   ],
   "source": [
    "from sklearn.linear_model import LinearRegression\n",
    "\n",
    "model_lm = LinearRegression()\n",
    "model_lm.fit(train_x, train_y)\n",
    "test_pred_lm = model_lm.predict(test_x)\n",
    "print(mean_squared_error(test_y, test_pred_lm, squared=0))"
   ]
  },
  {
   "cell_type": "code",
   "execution_count": 79,
   "metadata": {
    "id": "ClDKCojGwg-A"
   },
   "outputs": [
    {
     "name": "stdout",
     "output_type": "stream",
     "text": [
      "k:3, RMSE : 32.599494676146385\n",
      "k:4, RMSE : 31.041171817862917\n",
      "k:5, RMSE : 27.5683656136648\n",
      "k:6, RMSE : 27.517572339136557\n",
      "k:7, RMSE : 27.402282626958325\n",
      "k:8, RMSE : 28.301967399734814\n",
      "k:9, RMSE : 28.97110189542141\n",
      "k:10, RMSE : 29.66137145382423\n",
      "k:11, RMSE : 30.3788452123431\n",
      "k:12, RMSE : 30.715661181023595\n",
      "k:13, RMSE : 30.304082344469975\n",
      "k:14, RMSE : 29.719003447747713\n",
      "k:15, RMSE : 29.818875129851257\n",
      "k:16, RMSE : 29.23153565296279\n",
      "k:17, RMSE : 29.136092997340803\n",
      "k:18, RMSE : 29.103386610232295\n",
      "k:19, RMSE : 27.8342139500477\n",
      "k:20, RMSE : 27.693054575816124\n"
     ]
    }
   ],
   "source": [
    "for k in range(3, 21):\n",
    "    model_knn_n = KNeighborsRegressor(n_neighbors=k)\n",
    "    model_knn_n.fit(train_x, train_y)\n",
    "    test_pred_knn_n = model_knn_n.predict(test_x)\n",
    "    print('k:{}, RMSE : {}'.format(k, mean_squared_error(test_y, test_pred_knn_n, squared=0)))"
   ]
  },
  {
   "cell_type": "code",
   "execution_count": null,
   "metadata": {},
   "outputs": [],
   "source": []
  }
 ],
 "metadata": {
  "colab": {
   "collapsed_sections": [],
   "name": "22_Regression_AirQuality3.ipynb",
   "provenance": [],
   "toc_visible": true
  },
  "hide_input": false,
  "kernelspec": {
   "display_name": "Python 3",
   "language": "python",
   "name": "python3"
  },
  "language_info": {
   "codemirror_mode": {
    "name": "ipython",
    "version": 3
   },
   "file_extension": ".py",
   "mimetype": "text/x-python",
   "name": "python",
   "nbconvert_exporter": "python",
   "pygments_lexer": "ipython3",
   "version": "3.7.5"
  },
  "toc": {
   "base_numbering": 1,
   "nav_menu": {},
   "number_sections": true,
   "sideBar": true,
   "skip_h1_title": false,
   "title_cell": "Table of Contents",
   "title_sidebar": "Contents",
   "toc_cell": false,
   "toc_position": {},
   "toc_section_display": true,
   "toc_window_display": true
  }
 },
 "nbformat": 4,
 "nbformat_minor": 1
}
