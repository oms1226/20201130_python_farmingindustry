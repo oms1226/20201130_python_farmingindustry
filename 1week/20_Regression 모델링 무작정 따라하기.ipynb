{
 "cells": [
  {
   "cell_type": "markdown",
   "metadata": {
    "id": "cVB9pY-v8uv5"
   },
   "source": [
    "# 20.Regression 모델링 무작정 따라하기\n",
    "\n",
    "무작정 모델링을 따라 수행해 봅니다.\n",
    "\n",
    "sample data : boston house price\n",
    "\n",
    "\n"
   ]
  },
  {
   "cell_type": "markdown",
   "metadata": {
    "id": "MatD1j8Ytgz5"
   },
   "source": [
    "## 00.환경준비"
   ]
  },
  {
   "cell_type": "markdown",
   "metadata": {
    "id": "gIN5d51gtker"
   },
   "source": [
    "### 01.라이브러리 Import"
   ]
  },
  {
   "cell_type": "code",
   "execution_count": 4,
   "metadata": {
    "id": "GVvCef6A8uv6"
   },
   "outputs": [],
   "source": [
    "#라이브러리들을 불러오자.\n",
    "import numpy as np\n",
    "import pandas as pd\n",
    "import matplotlib.pyplot as plt\n",
    "import ssl\n",
    "ssl._create_default_https_context = ssl._create_unverified_context"
   ]
  },
  {
   "cell_type": "markdown",
   "metadata": {
    "id": "ryA0ffqNS44P"
   },
   "source": [
    "### 02.data 불러오기"
   ]
  },
  {
   "cell_type": "markdown",
   "metadata": {
    "id": "AkxHkzYCSa0o"
   },
   "source": [
    "**sample dataset은 github를 통해서 공유합니다.**"
   ]
  },
  {
   "cell_type": "code",
   "execution_count": 5,
   "metadata": {
    "id": "Vqr7zY5r8uwC"
   },
   "outputs": [],
   "source": [
    "data_path = 'https://raw.githubusercontent.com/DA4BAM/dataset/master/boston.csv'\n",
    "data = pd.read_csv(data_path)"
   ]
  },
  {
   "cell_type": "markdown",
   "metadata": {
    "id": "cjfSdoYZdR2k"
   },
   "source": [
    "* data set 설명\n",
    "\n",
    "\n",
    "![image.png](data:image/png;base64,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)\n"
   ]
  },
  {
   "cell_type": "code",
   "execution_count": 8,
   "metadata": {
    "id": "e4G1N7UCZDCF"
   },
   "outputs": [
    {
     "data": {
      "text/plain": [
       "(506, 14)"
      ]
     },
     "execution_count": 8,
     "metadata": {},
     "output_type": "execute_result"
    }
   ],
   "source": [
    "#데이터셋이 몇 행 몇 열인지 살펴봅니다.\n",
    "data.shape\n"
   ]
  },
  {
   "cell_type": "code",
   "execution_count": 9,
   "metadata": {
    "id": "Wzs1nS348uwE"
   },
   "outputs": [
    {
     "data": {
      "text/html": [
       "<div>\n",
       "<style scoped>\n",
       "    .dataframe tbody tr th:only-of-type {\n",
       "        vertical-align: middle;\n",
       "    }\n",
       "\n",
       "    .dataframe tbody tr th {\n",
       "        vertical-align: top;\n",
       "    }\n",
       "\n",
       "    .dataframe thead th {\n",
       "        text-align: right;\n",
       "    }\n",
       "</style>\n",
       "<table border=\"1\" class=\"dataframe\">\n",
       "  <thead>\n",
       "    <tr style=\"text-align: right;\">\n",
       "      <th></th>\n",
       "      <th>crim</th>\n",
       "      <th>zn</th>\n",
       "      <th>indus</th>\n",
       "      <th>chas</th>\n",
       "      <th>nox</th>\n",
       "      <th>rm</th>\n",
       "      <th>age</th>\n",
       "      <th>dis</th>\n",
       "      <th>rad</th>\n",
       "      <th>tax</th>\n",
       "      <th>ptratio</th>\n",
       "      <th>black</th>\n",
       "      <th>lstat</th>\n",
       "      <th>medv</th>\n",
       "    </tr>\n",
       "  </thead>\n",
       "  <tbody>\n",
       "    <tr>\n",
       "      <th>0</th>\n",
       "      <td>0.00632</td>\n",
       "      <td>18.0</td>\n",
       "      <td>2.31</td>\n",
       "      <td>0</td>\n",
       "      <td>0.538</td>\n",
       "      <td>6.575</td>\n",
       "      <td>65.2</td>\n",
       "      <td>4.0900</td>\n",
       "      <td>1</td>\n",
       "      <td>296</td>\n",
       "      <td>15.3</td>\n",
       "      <td>396.90</td>\n",
       "      <td>4.98</td>\n",
       "      <td>24.0</td>\n",
       "    </tr>\n",
       "    <tr>\n",
       "      <th>1</th>\n",
       "      <td>0.02731</td>\n",
       "      <td>0.0</td>\n",
       "      <td>7.07</td>\n",
       "      <td>0</td>\n",
       "      <td>0.469</td>\n",
       "      <td>6.421</td>\n",
       "      <td>78.9</td>\n",
       "      <td>4.9671</td>\n",
       "      <td>2</td>\n",
       "      <td>242</td>\n",
       "      <td>17.8</td>\n",
       "      <td>396.90</td>\n",
       "      <td>9.14</td>\n",
       "      <td>21.6</td>\n",
       "    </tr>\n",
       "    <tr>\n",
       "      <th>2</th>\n",
       "      <td>0.02729</td>\n",
       "      <td>0.0</td>\n",
       "      <td>7.07</td>\n",
       "      <td>0</td>\n",
       "      <td>0.469</td>\n",
       "      <td>7.185</td>\n",
       "      <td>61.1</td>\n",
       "      <td>4.9671</td>\n",
       "      <td>2</td>\n",
       "      <td>242</td>\n",
       "      <td>17.8</td>\n",
       "      <td>392.83</td>\n",
       "      <td>4.03</td>\n",
       "      <td>34.7</td>\n",
       "    </tr>\n",
       "    <tr>\n",
       "      <th>3</th>\n",
       "      <td>0.03237</td>\n",
       "      <td>0.0</td>\n",
       "      <td>2.18</td>\n",
       "      <td>0</td>\n",
       "      <td>0.458</td>\n",
       "      <td>6.998</td>\n",
       "      <td>45.8</td>\n",
       "      <td>6.0622</td>\n",
       "      <td>3</td>\n",
       "      <td>222</td>\n",
       "      <td>18.7</td>\n",
       "      <td>394.63</td>\n",
       "      <td>2.94</td>\n",
       "      <td>33.4</td>\n",
       "    </tr>\n",
       "    <tr>\n",
       "      <th>4</th>\n",
       "      <td>0.06905</td>\n",
       "      <td>0.0</td>\n",
       "      <td>2.18</td>\n",
       "      <td>0</td>\n",
       "      <td>0.458</td>\n",
       "      <td>7.147</td>\n",
       "      <td>54.2</td>\n",
       "      <td>6.0622</td>\n",
       "      <td>3</td>\n",
       "      <td>222</td>\n",
       "      <td>18.7</td>\n",
       "      <td>396.90</td>\n",
       "      <td>5.33</td>\n",
       "      <td>36.2</td>\n",
       "    </tr>\n",
       "    <tr>\n",
       "      <th>5</th>\n",
       "      <td>0.02985</td>\n",
       "      <td>0.0</td>\n",
       "      <td>2.18</td>\n",
       "      <td>0</td>\n",
       "      <td>0.458</td>\n",
       "      <td>6.430</td>\n",
       "      <td>58.7</td>\n",
       "      <td>6.0622</td>\n",
       "      <td>3</td>\n",
       "      <td>222</td>\n",
       "      <td>18.7</td>\n",
       "      <td>394.12</td>\n",
       "      <td>5.21</td>\n",
       "      <td>28.7</td>\n",
       "    </tr>\n",
       "    <tr>\n",
       "      <th>6</th>\n",
       "      <td>0.08829</td>\n",
       "      <td>12.5</td>\n",
       "      <td>7.87</td>\n",
       "      <td>0</td>\n",
       "      <td>0.524</td>\n",
       "      <td>6.012</td>\n",
       "      <td>66.6</td>\n",
       "      <td>5.5605</td>\n",
       "      <td>5</td>\n",
       "      <td>311</td>\n",
       "      <td>15.2</td>\n",
       "      <td>395.60</td>\n",
       "      <td>12.43</td>\n",
       "      <td>22.9</td>\n",
       "    </tr>\n",
       "    <tr>\n",
       "      <th>7</th>\n",
       "      <td>0.14455</td>\n",
       "      <td>12.5</td>\n",
       "      <td>7.87</td>\n",
       "      <td>0</td>\n",
       "      <td>0.524</td>\n",
       "      <td>6.172</td>\n",
       "      <td>96.1</td>\n",
       "      <td>5.9505</td>\n",
       "      <td>5</td>\n",
       "      <td>311</td>\n",
       "      <td>15.2</td>\n",
       "      <td>396.90</td>\n",
       "      <td>19.15</td>\n",
       "      <td>27.1</td>\n",
       "    </tr>\n",
       "    <tr>\n",
       "      <th>8</th>\n",
       "      <td>0.21124</td>\n",
       "      <td>12.5</td>\n",
       "      <td>7.87</td>\n",
       "      <td>0</td>\n",
       "      <td>0.524</td>\n",
       "      <td>5.631</td>\n",
       "      <td>100.0</td>\n",
       "      <td>6.0821</td>\n",
       "      <td>5</td>\n",
       "      <td>311</td>\n",
       "      <td>15.2</td>\n",
       "      <td>386.63</td>\n",
       "      <td>29.93</td>\n",
       "      <td>16.5</td>\n",
       "    </tr>\n",
       "    <tr>\n",
       "      <th>9</th>\n",
       "      <td>0.17004</td>\n",
       "      <td>12.5</td>\n",
       "      <td>7.87</td>\n",
       "      <td>0</td>\n",
       "      <td>0.524</td>\n",
       "      <td>6.004</td>\n",
       "      <td>85.9</td>\n",
       "      <td>6.5921</td>\n",
       "      <td>5</td>\n",
       "      <td>311</td>\n",
       "      <td>15.2</td>\n",
       "      <td>386.71</td>\n",
       "      <td>17.10</td>\n",
       "      <td>18.9</td>\n",
       "    </tr>\n",
       "  </tbody>\n",
       "</table>\n",
       "</div>"
      ],
      "text/plain": [
       "      crim    zn  indus  chas    nox     rm    age     dis  rad  tax  ptratio  \\\n",
       "0  0.00632  18.0   2.31     0  0.538  6.575   65.2  4.0900    1  296     15.3   \n",
       "1  0.02731   0.0   7.07     0  0.469  6.421   78.9  4.9671    2  242     17.8   \n",
       "2  0.02729   0.0   7.07     0  0.469  7.185   61.1  4.9671    2  242     17.8   \n",
       "3  0.03237   0.0   2.18     0  0.458  6.998   45.8  6.0622    3  222     18.7   \n",
       "4  0.06905   0.0   2.18     0  0.458  7.147   54.2  6.0622    3  222     18.7   \n",
       "5  0.02985   0.0   2.18     0  0.458  6.430   58.7  6.0622    3  222     18.7   \n",
       "6  0.08829  12.5   7.87     0  0.524  6.012   66.6  5.5605    5  311     15.2   \n",
       "7  0.14455  12.5   7.87     0  0.524  6.172   96.1  5.9505    5  311     15.2   \n",
       "8  0.21124  12.5   7.87     0  0.524  5.631  100.0  6.0821    5  311     15.2   \n",
       "9  0.17004  12.5   7.87     0  0.524  6.004   85.9  6.5921    5  311     15.2   \n",
       "\n",
       "    black  lstat  medv  \n",
       "0  396.90   4.98  24.0  \n",
       "1  396.90   9.14  21.6  \n",
       "2  392.83   4.03  34.7  \n",
       "3  394.63   2.94  33.4  \n",
       "4  396.90   5.33  36.2  \n",
       "5  394.12   5.21  28.7  \n",
       "6  395.60  12.43  22.9  \n",
       "7  396.90  19.15  27.1  \n",
       "8  386.63  29.93  16.5  \n",
       "9  386.71  17.10  18.9  "
      ]
     },
     "execution_count": 9,
     "metadata": {},
     "output_type": "execute_result"
    }
   ],
   "source": [
    "# 상위 10개 행을 열어 봅시다.\n",
    "data.head(10)\n"
   ]
  },
  {
   "cell_type": "markdown",
   "metadata": {
    "id": "y9Q6jR6OZjUk"
   },
   "source": [
    "## 20.데이터 준비"
   ]
  },
  {
   "cell_type": "markdown",
   "metadata": {
    "id": "WpJEGpUuuVWm"
   },
   "source": [
    "### 21.변수정리"
   ]
  },
  {
   "cell_type": "markdown",
   "metadata": {
    "id": "mp_5volyuaA1"
   },
   "source": [
    "### 22.NA처리 "
   ]
  },
  {
   "cell_type": "markdown",
   "metadata": {
    "id": "IUVlryeruccS"
   },
   "source": [
    "### 23.Feature Engineering"
   ]
  },
  {
   "cell_type": "markdown",
   "metadata": {
    "id": "nOF9fSLQugGf"
   },
   "source": [
    "### 24.Dummy Variable"
   ]
  },
  {
   "cell_type": "markdown",
   "metadata": {
    "id": "flmaUu-hukPa"
   },
   "source": [
    "### 25.Data Split\n"
   ]
  },
  {
   "cell_type": "markdown",
   "metadata": {
    "id": "wpPMxKF2vJmE"
   },
   "source": [
    "* 필요한 함수 불러온다"
   ]
  },
  {
   "cell_type": "code",
   "execution_count": 10,
   "metadata": {
    "id": "B-Xhdor4uxuN"
   },
   "outputs": [],
   "source": [
    "from sklearn.model_selection import train_test_split"
   ]
  },
  {
   "cell_type": "markdown",
   "metadata": {
    "id": "mXDnmnPIvMsU"
   },
   "source": [
    "* 먼저 x와 y로 나눈다."
   ]
  },
  {
   "cell_type": "code",
   "execution_count": 11,
   "metadata": {
    "id": "k4kbYeKSvJLJ"
   },
   "outputs": [],
   "source": [
    "# features와 target 분리\n",
    "X = data.drop('medv', axis=1)\n",
    "y = data.loc[:, 'medv']"
   ]
  },
  {
   "cell_type": "markdown",
   "metadata": {
    "id": "nuUvAFBYw7_w"
   },
   "source": [
    "* 그 다음 train : test 로 나눕니다.  \n",
    "* 실전에서는 최소한 train : validation : test 로 나눕니다. 이것은 뒤에서 다룹니다."
   ]
  },
  {
   "cell_type": "code",
   "execution_count": 12,
   "metadata": {
    "id": "Q-R_cZxpwjNe"
   },
   "outputs": [],
   "source": [
    "# 전체에서 train : test = 7 : 3 으로 나눕니다.\n",
    "train_x, test_x, train_y, test_y = train_test_split(X, y, test_size=0.3, random_state=1)"
   ]
  },
  {
   "cell_type": "markdown",
   "metadata": {
    "id": "MXUC5Yi3um81"
   },
   "source": [
    "### 26.Scaling"
   ]
  },
  {
   "cell_type": "markdown",
   "metadata": {
    "id": "4X-Vvhbzuixe"
   },
   "source": [
    "### 27.Dataframe to Numpy Array"
   ]
  },
  {
   "cell_type": "markdown",
   "metadata": {
    "id": "BYr1vtpd8uw4"
   },
   "source": [
    "## 30.모델링 : Linear Regression\n",
    "\n",
    "이제 데이터가 다 준비가 되었습니다.  \n",
    "해보자! 무작정 모델링!"
   ]
  },
  {
   "cell_type": "markdown",
   "metadata": {
    "id": "9xfSXhuJZvh0"
   },
   "source": [
    "### 31.불러온다(import package)"
   ]
  },
  {
   "cell_type": "code",
   "execution_count": 13,
   "metadata": {
    "id": "oRB84_HE8uw5"
   },
   "outputs": [],
   "source": [
    "# 모델링을 위해\n",
    "from sklearn.linear_model import LinearRegression\n",
    "\n",
    "# 평가를 위해.\n",
    "from sklearn.metrics import mean_squared_error"
   ]
  },
  {
   "cell_type": "markdown",
   "metadata": {
    "id": "O-vIxbuwZ_1T"
   },
   "source": [
    "### 32.선언한다.(모델링을 어떻게 할 것인지 설정, 선언)"
   ]
  },
  {
   "cell_type": "code",
   "execution_count": 14,
   "metadata": {
    "id": "UCEKvUAu8uw7"
   },
   "outputs": [],
   "source": [
    "# 모델 준비\n",
    "model = LinearRegression()"
   ]
  },
  {
   "cell_type": "markdown",
   "metadata": {
    "id": "adtn9XrxaKhi"
   },
   "source": [
    "### 33.모델링(학습)"
   ]
  },
  {
   "cell_type": "code",
   "execution_count": 15,
   "metadata": {
    "id": "_GJ9dzdAaHkT"
   },
   "outputs": [
    {
     "data": {
      "text/plain": [
       "LinearRegression()"
      ]
     },
     "execution_count": 15,
     "metadata": {},
     "output_type": "execute_result"
    }
   ],
   "source": [
    "# 모델 training : .fit\n",
    "model.fit(train_x, train_y)"
   ]
  },
  {
   "cell_type": "markdown",
   "metadata": {
    "id": "9Psj4F_d8uxA"
   },
   "source": [
    "### 34.예측\n",
    "\n",
    "만든 모델은 얼마나 정확한지 검증해 봅시다.\n",
    "\n"
   ]
  },
  {
   "cell_type": "code",
   "execution_count": 16,
   "metadata": {
    "id": "ATRGnYZQ0kzB"
   },
   "outputs": [],
   "source": [
    "# 예측값을 뽑자.\n",
    "test_pred = model.predict(test_x)"
   ]
  },
  {
   "cell_type": "markdown",
   "metadata": {
    "id": "8CYRhHl0a10K"
   },
   "source": [
    "### 35.평가"
   ]
  },
  {
   "cell_type": "code",
   "execution_count": 17,
   "metadata": {
    "id": "K_0TkLEEhON4"
   },
   "outputs": [
    {
     "data": {
      "text/plain": [
       "4.453237437198157"
      ]
     },
     "execution_count": 17,
     "metadata": {},
     "output_type": "execute_result"
    }
   ],
   "source": [
    "# 성능을 평가해 봅시다.\n",
    "\n",
    "mean_squared_error(test_y, test_pred, squared=False)\n"
   ]
  },
  {
   "cell_type": "markdown",
   "metadata": {
    "id": "_Lw2IoZF0-DI"
   },
   "source": [
    "## 실습1 : 위 코드를 보면서 그대로 입력해보기\n"
   ]
  },
  {
   "cell_type": "markdown",
   "metadata": {
    "id": "djzb4gNT1V6N"
   },
   "source": [
    "### 31.불러온다(import package)"
   ]
  },
  {
   "cell_type": "code",
   "execution_count": 18,
   "metadata": {
    "id": "0L9oUl5e1V6O"
   },
   "outputs": [],
   "source": [
    "import numpy as np\n",
    "import pandas as pd\n",
    "import matplotlib.pyplot as plt\n",
    "import ssl\n",
    "ssl._create_default_https_context = ssl._create_unverified_context\n"
   ]
  },
  {
   "cell_type": "markdown",
   "metadata": {
    "id": "Cq2chufq1V6Q"
   },
   "source": [
    "### 32.선언한다.(모델링을 어떻게 할 것인지 설정, 선언)"
   ]
  },
  {
   "cell_type": "code",
   "execution_count": 19,
   "metadata": {
    "id": "rdhktzLv1V6Q"
   },
   "outputs": [],
   "source": [
    "data_path = 'https://raw.githubusercontent.com/DA4BAM/dataset/master/boston.csv'\n",
    "data = pd.read_csv(data_path)\n",
    "\n",
    "from sklearn.model_selection import train_test_split\n",
    "\n",
    "# features와 target 분리\n",
    "X = data.drop('medv', axis=1)\n",
    "y = data.loc[:, 'medv']\n",
    "\n",
    "# 전체에서 train : test = 7 : 3 으로 나눕니다.\n",
    "train_x, test_x, train_y, test_y = train_test_split(X, y, test_size=0.3, random_state=1)\n",
    "\n",
    "# 모델링을 위해\n",
    "from sklearn.linear_model import LinearRegression\n",
    "\n",
    "# 평가를 위해.\n",
    "from sklearn.metrics import mean_squared_error\n",
    "\n",
    "# 모델 준비\n",
    "model = LinearRegression()"
   ]
  },
  {
   "cell_type": "markdown",
   "metadata": {
    "id": "ROjyyos-1V6U"
   },
   "source": [
    "### 33.모델링(학습)"
   ]
  },
  {
   "cell_type": "code",
   "execution_count": 20,
   "metadata": {
    "id": "ni_XMoF71V6U"
   },
   "outputs": [
    {
     "data": {
      "text/plain": [
       "LinearRegression()"
      ]
     },
     "execution_count": 20,
     "metadata": {},
     "output_type": "execute_result"
    }
   ],
   "source": [
    "# 모델 training : .fit\n",
    "model.fit(train_x, train_y)\n",
    "\n"
   ]
  },
  {
   "cell_type": "markdown",
   "metadata": {
    "id": "oc_hrh2o1V6X"
   },
   "source": [
    "### 34.예측\n",
    "\n",
    "만든 모델은 얼마나 정확한지 검증해 봅시다.\n",
    "\n"
   ]
  },
  {
   "cell_type": "code",
   "execution_count": 21,
   "metadata": {
    "id": "urMUhFRk1V6X"
   },
   "outputs": [],
   "source": [
    "# 예측값을 뽑자.\n",
    "test_pred = model.predict(test_x)\n",
    "\n"
   ]
  },
  {
   "cell_type": "markdown",
   "metadata": {
    "id": "44niogNf1V6Z"
   },
   "source": [
    "### 35.평가"
   ]
  },
  {
   "cell_type": "code",
   "execution_count": 22,
   "metadata": {
    "id": "iNuSOTAC1V6a"
   },
   "outputs": [
    {
     "data": {
      "text/plain": [
       "4.453237437198157"
      ]
     },
     "execution_count": 22,
     "metadata": {},
     "output_type": "execute_result"
    }
   ],
   "source": [
    "# 성능을 평가해 봅시다.\n",
    "\n",
    "mean_squared_error(test_y, test_pred, squared=False)\n",
    "\n",
    "\n"
   ]
  },
  {
   "cell_type": "markdown",
   "metadata": {
    "id": "go_3s_vu6Xlm"
   },
   "source": [
    "## 실습2 : 회귀 모델링 다시 연습하기\n"
   ]
  },
  {
   "cell_type": "markdown",
   "metadata": {
    "id": "pwddeaDL6fx9"
   },
   "source": [
    "### 01. 데이터 불러오기"
   ]
  },
  {
   "cell_type": "code",
   "execution_count": null,
   "metadata": {
    "id": "TbTnQFzu6fsr"
   },
   "outputs": [],
   "source": [
    "wine = pd.read_csv('https://raw.githubusercontent.com/DA4BAM/dataset/master/winequality-white2.csv')\n",
    "wine.drop('quality1', axis = 1, inplace = True)\n"
   ]
  },
  {
   "cell_type": "markdown",
   "metadata": {
    "id": "Jvr3TOiJ9HJa"
   },
   "source": [
    "### 25.Data Split\n"
   ]
  },
  {
   "cell_type": "code",
   "execution_count": null,
   "metadata": {
    "id": "YgGFRMiL9HJa"
   },
   "outputs": [],
   "source": [
    "from sklearn.model_selection import train_test_split\n",
    "# features와 target 분리\n",
    "X = wine.drop('quality2', axis=1)\n",
    "y = wine.loc[:, 'quality2']\n",
    "# 전체에서 train : test = 7 : 3 으로 나눕니다.\n",
    "train_x, test_x, train_y, test_y = train_test_split(X, y, test_size=0.3, random_state=1)"
   ]
  },
  {
   "cell_type": "markdown",
   "metadata": {
    "id": "KaK6vxIM6Xlm"
   },
   "source": [
    "### 31.불러온다(import package)"
   ]
  },
  {
   "cell_type": "code",
   "execution_count": null,
   "metadata": {
    "id": "rd7BwiLT6Xlm"
   },
   "outputs": [],
   "source": [
    "\n"
   ]
  },
  {
   "cell_type": "markdown",
   "metadata": {
    "id": "K-jQskwy6Xlm"
   },
   "source": [
    "### 32.선언한다.(모델링을 어떻게 할 것인지 설정, 선언)"
   ]
  },
  {
   "cell_type": "code",
   "execution_count": null,
   "metadata": {
    "id": "MbbNSiPP6Xlm"
   },
   "outputs": [],
   "source": [
    "\n",
    "\n"
   ]
  },
  {
   "cell_type": "markdown",
   "metadata": {
    "id": "c4Gycf2j6Xlm"
   },
   "source": [
    "### 33.모델링(학습)"
   ]
  },
  {
   "cell_type": "code",
   "execution_count": null,
   "metadata": {
    "id": "6LYJOKMF6Xlm"
   },
   "outputs": [],
   "source": [
    "\n",
    "\n"
   ]
  },
  {
   "cell_type": "markdown",
   "metadata": {
    "id": "OAgJ9p3M6Xlo"
   },
   "source": [
    "### 34.예측\n",
    "\n",
    "만든 모델은 얼마나 정확한지 검증해 봅시다.\n",
    "\n"
   ]
  },
  {
   "cell_type": "code",
   "execution_count": null,
   "metadata": {
    "id": "fB5uEbmq6Xlo"
   },
   "outputs": [],
   "source": [
    "\n",
    "\n"
   ]
  },
  {
   "cell_type": "markdown",
   "metadata": {
    "id": "cCJUHPnx6Xlo"
   },
   "source": [
    "### 35.평가"
   ]
  },
  {
   "cell_type": "code",
   "execution_count": null,
   "metadata": {
    "id": "iK5I7xLf6Xlo"
   },
   "outputs": [],
   "source": [
    "\n",
    "\n"
   ]
  }
 ],
 "metadata": {
  "colab": {
   "collapsed_sections": [
    "9xfSXhuJZvh0",
    "O-vIxbuwZ_1T",
    "adtn9XrxaKhi",
    "9Psj4F_d8uxA",
    "8CYRhHl0a10K"
   ],
   "name": "20_Regression 모델링 무작정 따라하기.ipynb",
   "provenance": [],
   "toc_visible": true
  },
  "hide_input": false,
  "kernelspec": {
   "display_name": "Python 3",
   "language": "python",
   "name": "python3"
  },
  "language_info": {
   "codemirror_mode": {
    "name": "ipython",
    "version": 3
   },
   "file_extension": ".py",
   "mimetype": "text/x-python",
   "name": "python",
   "nbconvert_exporter": "python",
   "pygments_lexer": "ipython3",
   "version": "3.7.5"
  },
  "toc": {
   "base_numbering": 1,
   "nav_menu": {},
   "number_sections": true,
   "sideBar": true,
   "skip_h1_title": false,
   "title_cell": "Table of Contents",
   "title_sidebar": "Contents",
   "toc_cell": false,
   "toc_position": {},
   "toc_section_display": true,
   "toc_window_display": false
  }
 },
 "nbformat": 4,
 "nbformat_minor": 1
}
