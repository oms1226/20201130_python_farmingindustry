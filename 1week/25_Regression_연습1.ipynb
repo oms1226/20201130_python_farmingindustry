{
 "cells": [
  {
   "cell_type": "markdown",
   "metadata": {
    "id": "cVB9pY-v8uv5"
   },
   "source": [
    "# Regression 연습1 : Boston House Price\n",
    "\n",
    "#### 머신러닝 코드 구조 <br>\n",
    "\n",
    "![이미지](https://github.com/DA4BAM/dataset/blob/master/new_code.png?raw=true \"code step1\")\n",
    "\n"
   ]
  },
  {
   "cell_type": "markdown",
   "metadata": {
    "id": "jnCv9u_Wy9e1"
   },
   "source": [
    "## 00 환경준비"
   ]
  },
  {
   "cell_type": "markdown",
   "metadata": {
    "id": "O1uL0UIEzBPw"
   },
   "source": [
    "### 01.Import"
   ]
  },
  {
   "cell_type": "code",
   "execution_count": 1,
   "metadata": {
    "id": "GVvCef6A8uv6"
   },
   "outputs": [],
   "source": [
    "#라이브러리들을 불러오자.\n",
    "\n",
    "import numpy as np\n",
    "import pandas as pd\n",
    "import matplotlib.pyplot as plt\n",
    "import matplotlib.image as mpimg\n",
    "import ssl\n",
    "ssl._create_default_https_context = ssl._create_unverified_context"
   ]
  },
  {
   "cell_type": "markdown",
   "metadata": {
    "id": "VHy5s1OOzItm"
   },
   "source": [
    "### 02.Data Loading"
   ]
  },
  {
   "cell_type": "code",
   "execution_count": 3,
   "metadata": {
    "id": "3GgFpOB4zQ7h"
   },
   "outputs": [],
   "source": [
    "data_path = 'https://raw.githubusercontent.com/DA4BAM/dataset/master/boston.csv'\n",
    "data = pd.read_csv(data_path)"
   ]
  },
  {
   "cell_type": "markdown",
   "metadata": {
    "id": "qmYaWr9ka_Gv"
   },
   "source": [
    "* data set 설명\n",
    "\n",
    "\n",
    "![image.png](data:image/png;base64,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)\n"
   ]
  },
  {
   "cell_type": "markdown",
   "metadata": {
    "id": "UX8y2AkEzgiW"
   },
   "source": [
    "* medv : target\n",
    "* chas : 범주형.(그러나 이미 1,0이므로 더미변수로 만들 필요 없음)"
   ]
  },
  {
   "cell_type": "markdown",
   "metadata": {
    "id": "ZJOddHq2zfcU"
   },
   "source": [
    "## 10.데이터 이해\n",
    "\n",
    "![이미지](https://github.com/DA4BAM/dataset/blob/master/new_code.png?raw=true \"code step1\")"
   ]
  },
  {
   "cell_type": "markdown",
   "metadata": {
    "id": "Vqr7zY5r8uwC"
   },
   "source": [
    "### 11.둘러보기"
   ]
  },
  {
   "cell_type": "code",
   "execution_count": 4,
   "metadata": {
    "id": "Wzs1nS348uwE"
   },
   "outputs": [
    {
     "data": {
      "text/html": [
       "<div>\n",
       "<style scoped>\n",
       "    .dataframe tbody tr th:only-of-type {\n",
       "        vertical-align: middle;\n",
       "    }\n",
       "\n",
       "    .dataframe tbody tr th {\n",
       "        vertical-align: top;\n",
       "    }\n",
       "\n",
       "    .dataframe thead th {\n",
       "        text-align: right;\n",
       "    }\n",
       "</style>\n",
       "<table border=\"1\" class=\"dataframe\">\n",
       "  <thead>\n",
       "    <tr style=\"text-align: right;\">\n",
       "      <th></th>\n",
       "      <th>crim</th>\n",
       "      <th>zn</th>\n",
       "      <th>indus</th>\n",
       "      <th>chas</th>\n",
       "      <th>nox</th>\n",
       "      <th>rm</th>\n",
       "      <th>age</th>\n",
       "      <th>dis</th>\n",
       "      <th>rad</th>\n",
       "      <th>tax</th>\n",
       "      <th>ptratio</th>\n",
       "      <th>black</th>\n",
       "      <th>lstat</th>\n",
       "      <th>medv</th>\n",
       "    </tr>\n",
       "  </thead>\n",
       "  <tbody>\n",
       "    <tr>\n",
       "      <th>0</th>\n",
       "      <td>0.00632</td>\n",
       "      <td>18.0</td>\n",
       "      <td>2.31</td>\n",
       "      <td>0</td>\n",
       "      <td>0.538</td>\n",
       "      <td>6.575</td>\n",
       "      <td>65.2</td>\n",
       "      <td>4.0900</td>\n",
       "      <td>1</td>\n",
       "      <td>296</td>\n",
       "      <td>15.3</td>\n",
       "      <td>396.90</td>\n",
       "      <td>4.98</td>\n",
       "      <td>24.0</td>\n",
       "    </tr>\n",
       "    <tr>\n",
       "      <th>1</th>\n",
       "      <td>0.02731</td>\n",
       "      <td>0.0</td>\n",
       "      <td>7.07</td>\n",
       "      <td>0</td>\n",
       "      <td>0.469</td>\n",
       "      <td>6.421</td>\n",
       "      <td>78.9</td>\n",
       "      <td>4.9671</td>\n",
       "      <td>2</td>\n",
       "      <td>242</td>\n",
       "      <td>17.8</td>\n",
       "      <td>396.90</td>\n",
       "      <td>9.14</td>\n",
       "      <td>21.6</td>\n",
       "    </tr>\n",
       "    <tr>\n",
       "      <th>2</th>\n",
       "      <td>0.02729</td>\n",
       "      <td>0.0</td>\n",
       "      <td>7.07</td>\n",
       "      <td>0</td>\n",
       "      <td>0.469</td>\n",
       "      <td>7.185</td>\n",
       "      <td>61.1</td>\n",
       "      <td>4.9671</td>\n",
       "      <td>2</td>\n",
       "      <td>242</td>\n",
       "      <td>17.8</td>\n",
       "      <td>392.83</td>\n",
       "      <td>4.03</td>\n",
       "      <td>34.7</td>\n",
       "    </tr>\n",
       "    <tr>\n",
       "      <th>3</th>\n",
       "      <td>0.03237</td>\n",
       "      <td>0.0</td>\n",
       "      <td>2.18</td>\n",
       "      <td>0</td>\n",
       "      <td>0.458</td>\n",
       "      <td>6.998</td>\n",
       "      <td>45.8</td>\n",
       "      <td>6.0622</td>\n",
       "      <td>3</td>\n",
       "      <td>222</td>\n",
       "      <td>18.7</td>\n",
       "      <td>394.63</td>\n",
       "      <td>2.94</td>\n",
       "      <td>33.4</td>\n",
       "    </tr>\n",
       "    <tr>\n",
       "      <th>4</th>\n",
       "      <td>0.06905</td>\n",
       "      <td>0.0</td>\n",
       "      <td>2.18</td>\n",
       "      <td>0</td>\n",
       "      <td>0.458</td>\n",
       "      <td>7.147</td>\n",
       "      <td>54.2</td>\n",
       "      <td>6.0622</td>\n",
       "      <td>3</td>\n",
       "      <td>222</td>\n",
       "      <td>18.7</td>\n",
       "      <td>396.90</td>\n",
       "      <td>5.33</td>\n",
       "      <td>36.2</td>\n",
       "    </tr>\n",
       "  </tbody>\n",
       "</table>\n",
       "</div>"
      ],
      "text/plain": [
       "      crim    zn  indus  chas    nox     rm   age     dis  rad  tax  ptratio  \\\n",
       "0  0.00632  18.0   2.31     0  0.538  6.575  65.2  4.0900    1  296     15.3   \n",
       "1  0.02731   0.0   7.07     0  0.469  6.421  78.9  4.9671    2  242     17.8   \n",
       "2  0.02729   0.0   7.07     0  0.469  7.185  61.1  4.9671    2  242     17.8   \n",
       "3  0.03237   0.0   2.18     0  0.458  6.998  45.8  6.0622    3  222     18.7   \n",
       "4  0.06905   0.0   2.18     0  0.458  7.147  54.2  6.0622    3  222     18.7   \n",
       "\n",
       "    black  lstat  medv  \n",
       "0  396.90   4.98  24.0  \n",
       "1  396.90   9.14  21.6  \n",
       "2  392.83   4.03  34.7  \n",
       "3  394.63   2.94  33.4  \n",
       "4  396.90   5.33  36.2  "
      ]
     },
     "execution_count": 4,
     "metadata": {},
     "output_type": "execute_result"
    }
   ],
   "source": [
    "# 상/하위 몇개 행을 살펴 봅시다.\n",
    "data.head()"
   ]
  },
  {
   "cell_type": "code",
   "execution_count": 35,
   "metadata": {
    "id": "Wzs1nS348uwE"
   },
   "outputs": [
    {
     "data": {
      "text/html": [
       "<div>\n",
       "<style scoped>\n",
       "    .dataframe tbody tr th:only-of-type {\n",
       "        vertical-align: middle;\n",
       "    }\n",
       "\n",
       "    .dataframe tbody tr th {\n",
       "        vertical-align: top;\n",
       "    }\n",
       "\n",
       "    .dataframe thead th {\n",
       "        text-align: right;\n",
       "    }\n",
       "</style>\n",
       "<table border=\"1\" class=\"dataframe\">\n",
       "  <thead>\n",
       "    <tr style=\"text-align: right;\">\n",
       "      <th></th>\n",
       "      <th>crim</th>\n",
       "      <th>zn</th>\n",
       "      <th>indus</th>\n",
       "      <th>chas</th>\n",
       "      <th>nox</th>\n",
       "      <th>rm</th>\n",
       "      <th>age</th>\n",
       "      <th>dis</th>\n",
       "      <th>rad</th>\n",
       "      <th>tax</th>\n",
       "      <th>ptratio</th>\n",
       "      <th>black</th>\n",
       "      <th>lstat</th>\n",
       "      <th>medv</th>\n",
       "    </tr>\n",
       "  </thead>\n",
       "  <tbody>\n",
       "    <tr>\n",
       "      <th>501</th>\n",
       "      <td>0.06263</td>\n",
       "      <td>0.0</td>\n",
       "      <td>11.93</td>\n",
       "      <td>0</td>\n",
       "      <td>0.573</td>\n",
       "      <td>6.593</td>\n",
       "      <td>69.1</td>\n",
       "      <td>2.4786</td>\n",
       "      <td>1</td>\n",
       "      <td>273</td>\n",
       "      <td>21.0</td>\n",
       "      <td>391.99</td>\n",
       "      <td>9.67</td>\n",
       "      <td>22.4</td>\n",
       "    </tr>\n",
       "    <tr>\n",
       "      <th>502</th>\n",
       "      <td>0.04527</td>\n",
       "      <td>0.0</td>\n",
       "      <td>11.93</td>\n",
       "      <td>0</td>\n",
       "      <td>0.573</td>\n",
       "      <td>6.120</td>\n",
       "      <td>76.7</td>\n",
       "      <td>2.2875</td>\n",
       "      <td>1</td>\n",
       "      <td>273</td>\n",
       "      <td>21.0</td>\n",
       "      <td>396.90</td>\n",
       "      <td>9.08</td>\n",
       "      <td>20.6</td>\n",
       "    </tr>\n",
       "    <tr>\n",
       "      <th>503</th>\n",
       "      <td>0.06076</td>\n",
       "      <td>0.0</td>\n",
       "      <td>11.93</td>\n",
       "      <td>0</td>\n",
       "      <td>0.573</td>\n",
       "      <td>6.976</td>\n",
       "      <td>91.0</td>\n",
       "      <td>2.1675</td>\n",
       "      <td>1</td>\n",
       "      <td>273</td>\n",
       "      <td>21.0</td>\n",
       "      <td>396.90</td>\n",
       "      <td>5.64</td>\n",
       "      <td>23.9</td>\n",
       "    </tr>\n",
       "    <tr>\n",
       "      <th>504</th>\n",
       "      <td>0.10959</td>\n",
       "      <td>0.0</td>\n",
       "      <td>11.93</td>\n",
       "      <td>0</td>\n",
       "      <td>0.573</td>\n",
       "      <td>6.794</td>\n",
       "      <td>89.3</td>\n",
       "      <td>2.3889</td>\n",
       "      <td>1</td>\n",
       "      <td>273</td>\n",
       "      <td>21.0</td>\n",
       "      <td>393.45</td>\n",
       "      <td>6.48</td>\n",
       "      <td>22.0</td>\n",
       "    </tr>\n",
       "    <tr>\n",
       "      <th>505</th>\n",
       "      <td>0.04741</td>\n",
       "      <td>0.0</td>\n",
       "      <td>11.93</td>\n",
       "      <td>0</td>\n",
       "      <td>0.573</td>\n",
       "      <td>6.030</td>\n",
       "      <td>80.8</td>\n",
       "      <td>2.5050</td>\n",
       "      <td>1</td>\n",
       "      <td>273</td>\n",
       "      <td>21.0</td>\n",
       "      <td>396.90</td>\n",
       "      <td>7.88</td>\n",
       "      <td>11.9</td>\n",
       "    </tr>\n",
       "  </tbody>\n",
       "</table>\n",
       "</div>"
      ],
      "text/plain": [
       "        crim   zn  indus  chas    nox     rm   age     dis  rad  tax  ptratio  \\\n",
       "501  0.06263  0.0  11.93     0  0.573  6.593  69.1  2.4786    1  273     21.0   \n",
       "502  0.04527  0.0  11.93     0  0.573  6.120  76.7  2.2875    1  273     21.0   \n",
       "503  0.06076  0.0  11.93     0  0.573  6.976  91.0  2.1675    1  273     21.0   \n",
       "504  0.10959  0.0  11.93     0  0.573  6.794  89.3  2.3889    1  273     21.0   \n",
       "505  0.04741  0.0  11.93     0  0.573  6.030  80.8  2.5050    1  273     21.0   \n",
       "\n",
       "      black  lstat  medv  \n",
       "501  391.99   9.67  22.4  \n",
       "502  396.90   9.08  20.6  \n",
       "503  396.90   5.64  23.9  \n",
       "504  393.45   6.48  22.0  \n",
       "505  396.90   7.88  11.9  "
      ]
     },
     "execution_count": 35,
     "metadata": {},
     "output_type": "execute_result"
    }
   ],
   "source": [
    "# 상/하위 몇개 행을 살펴 봅시다.\n",
    "data.tail()"
   ]
  },
  {
   "cell_type": "code",
   "execution_count": 37,
   "metadata": {
    "id": "1ZsXdcfp8uwI"
   },
   "outputs": [
    {
     "data": {
      "text/plain": [
       "crim       float64\n",
       "zn         float64\n",
       "indus      float64\n",
       "chas         int64\n",
       "nox        float64\n",
       "rm         float64\n",
       "age        float64\n",
       "dis        float64\n",
       "rad          int64\n",
       "tax          int64\n",
       "ptratio    float64\n",
       "black      float64\n",
       "lstat      float64\n",
       "medv       float64\n",
       "dtype: object"
      ]
     },
     "execution_count": 37,
     "metadata": {},
     "output_type": "execute_result"
    }
   ],
   "source": [
    "# 각 칼럼의 타입을 살펴 봅시다.\n",
    "data.dtypes\n",
    "\n"
   ]
  },
  {
   "cell_type": "code",
   "execution_count": 7,
   "metadata": {
    "id": "4bD117Q3bVuf"
   },
   "outputs": [
    {
     "data": {
      "text/plain": [
       "(506, 14)"
      ]
     },
     "execution_count": 7,
     "metadata": {},
     "output_type": "execute_result"
    }
   ],
   "source": [
    "# 행, 열의 개수를 살펴 봅시다.\n",
    "data.shape\n"
   ]
  },
  {
   "cell_type": "markdown",
   "metadata": {
    "id": "EEMtr74j0N41"
   },
   "source": [
    "### 12.기초통계량"
   ]
  },
  {
   "cell_type": "code",
   "execution_count": 8,
   "metadata": {
    "id": "LhAk04Uy4Occ"
   },
   "outputs": [
    {
     "data": {
      "text/html": [
       "<div>\n",
       "<style scoped>\n",
       "    .dataframe tbody tr th:only-of-type {\n",
       "        vertical-align: middle;\n",
       "    }\n",
       "\n",
       "    .dataframe tbody tr th {\n",
       "        vertical-align: top;\n",
       "    }\n",
       "\n",
       "    .dataframe thead th {\n",
       "        text-align: right;\n",
       "    }\n",
       "</style>\n",
       "<table border=\"1\" class=\"dataframe\">\n",
       "  <thead>\n",
       "    <tr style=\"text-align: right;\">\n",
       "      <th></th>\n",
       "      <th>crim</th>\n",
       "      <th>zn</th>\n",
       "      <th>indus</th>\n",
       "      <th>chas</th>\n",
       "      <th>nox</th>\n",
       "      <th>rm</th>\n",
       "      <th>age</th>\n",
       "      <th>dis</th>\n",
       "      <th>rad</th>\n",
       "      <th>tax</th>\n",
       "      <th>ptratio</th>\n",
       "      <th>black</th>\n",
       "      <th>lstat</th>\n",
       "      <th>medv</th>\n",
       "    </tr>\n",
       "  </thead>\n",
       "  <tbody>\n",
       "    <tr>\n",
       "      <th>count</th>\n",
       "      <td>506.000000</td>\n",
       "      <td>506.000000</td>\n",
       "      <td>506.000000</td>\n",
       "      <td>506.000000</td>\n",
       "      <td>506.000000</td>\n",
       "      <td>506.000000</td>\n",
       "      <td>506.000000</td>\n",
       "      <td>506.000000</td>\n",
       "      <td>506.000000</td>\n",
       "      <td>506.000000</td>\n",
       "      <td>506.000000</td>\n",
       "      <td>506.000000</td>\n",
       "      <td>506.000000</td>\n",
       "      <td>506.000000</td>\n",
       "    </tr>\n",
       "    <tr>\n",
       "      <th>mean</th>\n",
       "      <td>3.613524</td>\n",
       "      <td>11.363636</td>\n",
       "      <td>11.136779</td>\n",
       "      <td>0.069170</td>\n",
       "      <td>0.554695</td>\n",
       "      <td>6.284634</td>\n",
       "      <td>68.574901</td>\n",
       "      <td>3.795043</td>\n",
       "      <td>9.549407</td>\n",
       "      <td>408.237154</td>\n",
       "      <td>18.455534</td>\n",
       "      <td>356.674032</td>\n",
       "      <td>12.653063</td>\n",
       "      <td>22.532806</td>\n",
       "    </tr>\n",
       "    <tr>\n",
       "      <th>std</th>\n",
       "      <td>8.601545</td>\n",
       "      <td>23.322453</td>\n",
       "      <td>6.860353</td>\n",
       "      <td>0.253994</td>\n",
       "      <td>0.115878</td>\n",
       "      <td>0.702617</td>\n",
       "      <td>28.148861</td>\n",
       "      <td>2.105710</td>\n",
       "      <td>8.707259</td>\n",
       "      <td>168.537116</td>\n",
       "      <td>2.164946</td>\n",
       "      <td>91.294864</td>\n",
       "      <td>7.141062</td>\n",
       "      <td>9.197104</td>\n",
       "    </tr>\n",
       "    <tr>\n",
       "      <th>min</th>\n",
       "      <td>0.006320</td>\n",
       "      <td>0.000000</td>\n",
       "      <td>0.460000</td>\n",
       "      <td>0.000000</td>\n",
       "      <td>0.385000</td>\n",
       "      <td>3.561000</td>\n",
       "      <td>2.900000</td>\n",
       "      <td>1.129600</td>\n",
       "      <td>1.000000</td>\n",
       "      <td>187.000000</td>\n",
       "      <td>12.600000</td>\n",
       "      <td>0.320000</td>\n",
       "      <td>1.730000</td>\n",
       "      <td>5.000000</td>\n",
       "    </tr>\n",
       "    <tr>\n",
       "      <th>25%</th>\n",
       "      <td>0.082045</td>\n",
       "      <td>0.000000</td>\n",
       "      <td>5.190000</td>\n",
       "      <td>0.000000</td>\n",
       "      <td>0.449000</td>\n",
       "      <td>5.885500</td>\n",
       "      <td>45.025000</td>\n",
       "      <td>2.100175</td>\n",
       "      <td>4.000000</td>\n",
       "      <td>279.000000</td>\n",
       "      <td>17.400000</td>\n",
       "      <td>375.377500</td>\n",
       "      <td>6.950000</td>\n",
       "      <td>17.025000</td>\n",
       "    </tr>\n",
       "    <tr>\n",
       "      <th>50%</th>\n",
       "      <td>0.256510</td>\n",
       "      <td>0.000000</td>\n",
       "      <td>9.690000</td>\n",
       "      <td>0.000000</td>\n",
       "      <td>0.538000</td>\n",
       "      <td>6.208500</td>\n",
       "      <td>77.500000</td>\n",
       "      <td>3.207450</td>\n",
       "      <td>5.000000</td>\n",
       "      <td>330.000000</td>\n",
       "      <td>19.050000</td>\n",
       "      <td>391.440000</td>\n",
       "      <td>11.360000</td>\n",
       "      <td>21.200000</td>\n",
       "    </tr>\n",
       "    <tr>\n",
       "      <th>75%</th>\n",
       "      <td>3.677082</td>\n",
       "      <td>12.500000</td>\n",
       "      <td>18.100000</td>\n",
       "      <td>0.000000</td>\n",
       "      <td>0.624000</td>\n",
       "      <td>6.623500</td>\n",
       "      <td>94.075000</td>\n",
       "      <td>5.188425</td>\n",
       "      <td>24.000000</td>\n",
       "      <td>666.000000</td>\n",
       "      <td>20.200000</td>\n",
       "      <td>396.225000</td>\n",
       "      <td>16.955000</td>\n",
       "      <td>25.000000</td>\n",
       "    </tr>\n",
       "    <tr>\n",
       "      <th>max</th>\n",
       "      <td>88.976200</td>\n",
       "      <td>100.000000</td>\n",
       "      <td>27.740000</td>\n",
       "      <td>1.000000</td>\n",
       "      <td>0.871000</td>\n",
       "      <td>8.780000</td>\n",
       "      <td>100.000000</td>\n",
       "      <td>12.126500</td>\n",
       "      <td>24.000000</td>\n",
       "      <td>711.000000</td>\n",
       "      <td>22.000000</td>\n",
       "      <td>396.900000</td>\n",
       "      <td>37.970000</td>\n",
       "      <td>50.000000</td>\n",
       "    </tr>\n",
       "  </tbody>\n",
       "</table>\n",
       "</div>"
      ],
      "text/plain": [
       "             crim          zn       indus        chas         nox          rm  \\\n",
       "count  506.000000  506.000000  506.000000  506.000000  506.000000  506.000000   \n",
       "mean     3.613524   11.363636   11.136779    0.069170    0.554695    6.284634   \n",
       "std      8.601545   23.322453    6.860353    0.253994    0.115878    0.702617   \n",
       "min      0.006320    0.000000    0.460000    0.000000    0.385000    3.561000   \n",
       "25%      0.082045    0.000000    5.190000    0.000000    0.449000    5.885500   \n",
       "50%      0.256510    0.000000    9.690000    0.000000    0.538000    6.208500   \n",
       "75%      3.677082   12.500000   18.100000    0.000000    0.624000    6.623500   \n",
       "max     88.976200  100.000000   27.740000    1.000000    0.871000    8.780000   \n",
       "\n",
       "              age         dis         rad         tax     ptratio       black  \\\n",
       "count  506.000000  506.000000  506.000000  506.000000  506.000000  506.000000   \n",
       "mean    68.574901    3.795043    9.549407  408.237154   18.455534  356.674032   \n",
       "std     28.148861    2.105710    8.707259  168.537116    2.164946   91.294864   \n",
       "min      2.900000    1.129600    1.000000  187.000000   12.600000    0.320000   \n",
       "25%     45.025000    2.100175    4.000000  279.000000   17.400000  375.377500   \n",
       "50%     77.500000    3.207450    5.000000  330.000000   19.050000  391.440000   \n",
       "75%     94.075000    5.188425   24.000000  666.000000   20.200000  396.225000   \n",
       "max    100.000000   12.126500   24.000000  711.000000   22.000000  396.900000   \n",
       "\n",
       "            lstat        medv  \n",
       "count  506.000000  506.000000  \n",
       "mean    12.653063   22.532806  \n",
       "std      7.141062    9.197104  \n",
       "min      1.730000    5.000000  \n",
       "25%      6.950000   17.025000  \n",
       "50%     11.360000   21.200000  \n",
       "75%     16.955000   25.000000  \n",
       "max     37.970000   50.000000  "
      ]
     },
     "execution_count": 8,
     "metadata": {},
     "output_type": "execute_result"
    }
   ],
   "source": [
    "# 숫자형 변수들의 통계량을 살펴 봅니다.\n",
    "data.describe()\n"
   ]
  },
  {
   "cell_type": "code",
   "execution_count": 9,
   "metadata": {
    "id": "nRYIgZxT0pXk"
   },
   "outputs": [
    {
     "data": {
      "text/plain": [
       "crim       0\n",
       "zn         0\n",
       "indus      0\n",
       "chas       0\n",
       "nox        0\n",
       "rm         0\n",
       "age        0\n",
       "dis        0\n",
       "rad        0\n",
       "tax        0\n",
       "ptratio    0\n",
       "black      0\n",
       "lstat      0\n",
       "medv       0\n",
       "dtype: int64"
      ]
     },
     "execution_count": 9,
     "metadata": {},
     "output_type": "execute_result"
    }
   ],
   "source": [
    "# 각 변수별 NaN 현황 파악하기\n",
    "data.isna().sum()\n"
   ]
  },
  {
   "cell_type": "markdown",
   "metadata": {
    "id": "BsF_cjfK0Y5P"
   },
   "source": [
    "### 13.탐색하기"
   ]
  },
  {
   "cell_type": "code",
   "execution_count": 10,
   "metadata": {},
   "outputs": [
    {
     "data": {
      "text/plain": [
       "Index(['crim', 'zn', 'indus', 'chas', 'nox', 'rm', 'age', 'dis', 'rad', 'tax',\n",
       "       'ptratio', 'black', 'lstat', 'medv'],\n",
       "      dtype='object')"
      ]
     },
     "execution_count": 10,
     "metadata": {},
     "output_type": "execute_result"
    }
   ],
   "source": [
    "data.columns"
   ]
  },
  {
   "cell_type": "code",
   "execution_count": 12,
   "metadata": {
    "id": "okEyRbFKRqPR"
   },
   "outputs": [
    {
     "data": {
      "text/plain": [
       "<AxesSubplot:xlabel='indus', ylabel='medv'>"
      ]
     },
     "execution_count": 12,
     "metadata": {},
     "output_type": "execute_result"
    },
    {
     "data": {
      "image/png": "[encoded data removed]",
      "text/plain": [
       "<Figure size 432x288 with 1 Axes>"
      ]
     },
     "metadata": {
      "needs_background": "light"
     },
     "output_type": "display_data"
    }
   ],
   "source": [
    "# indus와 medv의 관계를 산점도로 그려봅시다.\n",
    "data.plot(kind = \"scatter\", x= \"indus\", y= \"medv\")\n"
   ]
  },
  {
   "cell_type": "code",
   "execution_count": 13,
   "metadata": {
    "id": "3Jjzr3eNuM-4"
   },
   "outputs": [
    {
     "data": {
      "text/plain": [
       "<AxesSubplot:xlabel='crim', ylabel='medv'>"
      ]
     },
     "execution_count": 13,
     "metadata": {},
     "output_type": "execute_result"
    },
    {
     "data": {
      "image/png": "[encoded data removed]",
      "text/plain": [
       "<Figure size 432x288 with 1 Axes>"
      ]
     },
     "metadata": {
      "needs_background": "light"
     },
     "output_type": "display_data"
    }
   ],
   "source": [
    "# crim과 medv의 관계를 산점도로 그려봅시다.\n",
    "data.plot(kind = \"scatter\", x= \"crim\", y= \"medv\")"
   ]
  },
  {
   "cell_type": "code",
   "execution_count": 14,
   "metadata": {
    "id": "Gu46JGg736Q3"
   },
   "outputs": [
    {
     "data": {
      "text/plain": [
       "<AxesSubplot:xlabel='ptratio', ylabel='medv'>"
      ]
     },
     "execution_count": 14,
     "metadata": {},
     "output_type": "execute_result"
    },
    {
     "data": {
      "image/png": "[encoded data removed]",
      "text/plain": [
       "<Figure size 432x288 with 1 Axes>"
      ]
     },
     "metadata": {
      "needs_background": "light"
     },
     "output_type": "display_data"
    }
   ],
   "source": [
    "# 위 두 변수 이외에도 2개 정도를 더 살펴봅시다.\n",
    "data.plot(kind = \"scatter\", x= \"ptratio\", y= \"medv\")\n",
    "\n",
    "\n"
   ]
  },
  {
   "cell_type": "code",
   "execution_count": 15,
   "metadata": {
    "id": "Gu46JGg736Q3"
   },
   "outputs": [
    {
     "data": {
      "text/plain": [
       "<AxesSubplot:xlabel='chas', ylabel='medv'>"
      ]
     },
     "execution_count": 15,
     "metadata": {},
     "output_type": "execute_result"
    },
    {
     "data": {
      "image/png": "[encoded data removed]",
      "text/plain": [
       "<Figure size 432x288 with 1 Axes>"
      ]
     },
     "metadata": {
      "needs_background": "light"
     },
     "output_type": "display_data"
    }
   ],
   "source": [
    "# 위 두 변수 이외에도 2개 정도를 더 살펴봅시다.\n",
    "data.plot(kind = \"scatter\", x= \"chas\", y= \"medv\")\n",
    "\n",
    "\n"
   ]
  },
  {
   "cell_type": "markdown",
   "metadata": {
    "id": "wW0d0eGmCYJM"
   },
   "source": [
    "## 20.데이터 준비\n",
    "\n",
    "![이미지](https://github.com/DA4BAM/dataset/blob/master/new_code.png?raw=true \"code step1\")"
   ]
  },
  {
   "cell_type": "markdown",
   "metadata": {
    "id": "TfOiIj7lCfiG"
   },
   "source": [
    "### 21.변수 정리"
   ]
  },
  {
   "cell_type": "markdown",
   "metadata": {
    "id": "mIxcFuf0CoxF"
   },
   "source": [
    "### 22.NA 처리"
   ]
  },
  {
   "cell_type": "markdown",
   "metadata": {
    "id": "fE-ltcIxKHl_"
   },
   "source": [
    "### 23.Feature Engineering"
   ]
  },
  {
   "cell_type": "markdown",
   "metadata": {
    "id": "xN4Pa1qp8uwm"
   },
   "source": [
    "### 24.Dummy Variable\n",
    "\n",
    "\n",
    "익혀야 할 방법들\n",
    "pd.get_dummies, pd.concat, (Pandas Dataframe).drop"
   ]
  },
  {
   "cell_type": "markdown",
   "metadata": {
    "id": "RSOF5WWn8uwy"
   },
   "source": [
    "### 25.Data Split"
   ]
  },
  {
   "cell_type": "code",
   "execution_count": 16,
   "metadata": {
    "id": "uHnuBUJu8uwz"
   },
   "outputs": [],
   "source": [
    "from sklearn.model_selection import train_test_split"
   ]
  },
  {
   "cell_type": "code",
   "execution_count": 18,
   "metadata": {
    "id": "UR-DXZ8n1pd9"
   },
   "outputs": [],
   "source": [
    "X = data.drop('medv', axis=1)\n",
    "y = data['medv']"
   ]
  },
  {
   "cell_type": "code",
   "execution_count": 19,
   "metadata": {
    "id": "0eJi2ihz1pk0"
   },
   "outputs": [],
   "source": [
    "train_x, test_x, train_y, test_y = train_test_split(X, y, test_size=0.3, random_state=1)"
   ]
  },
  {
   "cell_type": "markdown",
   "metadata": {
    "id": "bFdWsejU8uwp"
   },
   "source": [
    "### 26.Scaling features\n",
    "\n",
    "\n"
   ]
  },
  {
   "cell_type": "code",
   "execution_count": 21,
   "metadata": {
    "id": "wJ5es-HA1sCf"
   },
   "outputs": [],
   "source": [
    "from sklearn.preprocessing import MinMaxScaler"
   ]
  },
  {
   "cell_type": "code",
   "execution_count": 22,
   "metadata": {
    "id": "V4Xwr05P1spf"
   },
   "outputs": [
    {
     "data": {
      "text/plain": [
       "MinMaxScaler()"
      ]
     },
     "execution_count": 22,
     "metadata": {},
     "output_type": "execute_result"
    }
   ],
   "source": [
    "# 함수 선언\n",
    "scaler = MinMaxScaler()\n",
    "\n",
    "# 함수 만들기\n",
    "scaler.fit(train_x)"
   ]
  },
  {
   "cell_type": "code",
   "execution_count": 24,
   "metadata": {
    "id": "VeKXzPLL1s4w"
   },
   "outputs": [],
   "source": [
    "# 함수 적용하기\n",
    "train_x = scaler.transform(train_x)\n",
    "test_x = scaler.transform(test_x)"
   ]
  },
  {
   "cell_type": "markdown",
   "metadata": {
    "id": "zbwpz0ek8uw2"
   },
   "source": [
    "### 27.Dataframe to Numpy array"
   ]
  },
  {
   "cell_type": "markdown",
   "metadata": {
    "id": "BYr1vtpd8uw4"
   },
   "source": [
    "## 30.모델링\n",
    "\n",
    "# ![이미지](https://github.com/DA4BAM/dataset/blob/master/new_code.png?raw=true \"code step1\")"
   ]
  },
  {
   "cell_type": "markdown",
   "metadata": {
    "id": "OFsDsREp10Cr"
   },
   "source": [
    "### 선형회귀분석으로 모델링을 수행해 봅시다."
   ]
  },
  {
   "cell_type": "code",
   "execution_count": 26,
   "metadata": {},
   "outputs": [],
   "source": [
    "from sklearn.neighbors import KNeighborsRegressor\n",
    "from sklearn.linear_model import LinearRegression\n",
    "from sklearn.metrics import mean_squared_error, mean_absolute_error"
   ]
  },
  {
   "cell_type": "code",
   "execution_count": 27,
   "metadata": {
    "id": "ihCSVpgd19aE"
   },
   "outputs": [
    {
     "name": "stdout",
     "output_type": "stream",
     "text": [
      "4.453237437198149\n"
     ]
    }
   ],
   "source": [
    "\n",
    "\n",
    "model_lm = LinearRegression()\n",
    "model_lm.fit(train_x, train_y)\n",
    "test_pred_lm = model_lm.predict(test_x)\n",
    "print(mean_squared_error(test_y, test_pred_lm, squared=0))"
   ]
  },
  {
   "cell_type": "code",
   "execution_count": null,
   "metadata": {
    "id": "9LyfUv-61-fH"
   },
   "outputs": [],
   "source": []
  },
  {
   "cell_type": "code",
   "execution_count": null,
   "metadata": {
    "id": "xsXpgMo_1-o3"
   },
   "outputs": [],
   "source": []
  },
  {
   "cell_type": "code",
   "execution_count": null,
   "metadata": {
    "id": "myQ_MDyy1-xQ"
   },
   "outputs": [],
   "source": []
  },
  {
   "cell_type": "code",
   "execution_count": null,
   "metadata": {
    "id": "qTfm0PSy1-4v"
   },
   "outputs": [],
   "source": []
  },
  {
   "cell_type": "markdown",
   "metadata": {
    "id": "Z31_h2AHGsjB"
   },
   "source": [
    "### knn으로 모델링을 수행해 봅시다."
   ]
  },
  {
   "cell_type": "code",
   "execution_count": 28,
   "metadata": {
    "id": "jiAFxEHp2EIB"
   },
   "outputs": [
    {
     "name": "stdout",
     "output_type": "stream",
     "text": [
      "k:3, RMSE : 4.213096574793653\n",
      "k:4, RMSE : 4.418882367927319\n",
      "k:5, RMSE : 4.5546300907052695\n",
      "k:6, RMSE : 4.771285602557196\n",
      "k:7, RMSE : 5.028138598511697\n",
      "k:8, RMSE : 5.065112832886196\n",
      "k:9, RMSE : 5.217583792980917\n",
      "k:10, RMSE : 5.3518277743510945\n",
      "k:11, RMSE : 5.475917956695895\n",
      "k:12, RMSE : 5.458740735766963\n",
      "k:13, RMSE : 5.506284948434297\n",
      "k:14, RMSE : 5.394871499262546\n",
      "k:15, RMSE : 5.42851513843216\n",
      "k:16, RMSE : 5.462594421004377\n",
      "k:17, RMSE : 5.514176465815847\n",
      "k:18, RMSE : 5.514870267078188\n",
      "k:19, RMSE : 5.647919183785769\n",
      "k:20, RMSE : 5.7033914771919045\n"
     ]
    }
   ],
   "source": [
    "for k in range(3, 21):\n",
    "    model_knn_n = KNeighborsRegressor(n_neighbors=k)\n",
    "    model_knn_n.fit(train_x, train_y)\n",
    "    test_pred_knn_n = model_knn_n.predict(test_x)\n",
    "    print('k:{}, RMSE : {}'.format(k, mean_squared_error(test_y, test_pred_knn_n, squared=0)))"
   ]
  },
  {
   "cell_type": "code",
   "execution_count": null,
   "metadata": {
    "id": "bdAm1vp62Esr"
   },
   "outputs": [],
   "source": []
  },
  {
   "cell_type": "code",
   "execution_count": null,
   "metadata": {
    "id": "-hq_iy1e2E_C"
   },
   "outputs": [],
   "source": []
  },
  {
   "cell_type": "code",
   "execution_count": null,
   "metadata": {
    "id": "QxiU6Gno2EgC"
   },
   "outputs": [],
   "source": []
  },
  {
   "cell_type": "code",
   "execution_count": null,
   "metadata": {
    "id": "ArTKEV_92DsT"
   },
   "outputs": [],
   "source": []
  },
  {
   "cell_type": "markdown",
   "metadata": {
    "id": "yUCXCy8T2Hpv"
   },
   "source": [
    "### 선형회귀분석과 knn 결과를 비교해 봅시다."
   ]
  },
  {
   "cell_type": "code",
   "execution_count": 31,
   "metadata": {
    "executionInfo": {
     "elapsed": 1283,
     "status": "ok",
     "timestamp": 1606986392942,
     "user": {
      "displayName": "한기영",
      "photoUrl": "",
      "userId": "13049187003176135487"
     },
     "user_tz": -540
    },
    "id": "8DNTdTbm2QbH"
   },
   "outputs": [
    {
     "ename": "ImportError",
     "evalue": "cannot import name 'check_arrays' from 'sklearn.utils.validation' (/Library/Frameworks/Python.framework/Versions/3.7/lib/python3.7/site-packages/sklearn/utils/validation.py)",
     "output_type": "error",
     "traceback": [
      "\u001b[0;31m---------------------------------------------------------------------------\u001b[0m",
      "\u001b[0;31mImportError\u001b[0m                               Traceback (most recent call last)",
      "\u001b[0;32m<ipython-input-31-aede741a7ed4>\u001b[0m in \u001b[0;36m<module>\u001b[0;34m\u001b[0m\n\u001b[1;32m      2\u001b[0m \u001b[0;31m#[20/12/4|13:39:56]➜  ~/_workspace/20201130_python_farmingindustry/1week git:(master) ✗ pip3 install sklearn.utils\u001b[0m\u001b[0;34m\u001b[0m\u001b[0;34m\u001b[0m\u001b[0;34m\u001b[0m\u001b[0m\n\u001b[1;32m      3\u001b[0m \u001b[0;31m#from sklearn.utils import check_arrays\u001b[0m\u001b[0;34m\u001b[0m\u001b[0;34m\u001b[0m\u001b[0;34m\u001b[0m\u001b[0m\n\u001b[0;32m----> 4\u001b[0;31m \u001b[0;32mfrom\u001b[0m \u001b[0msklearn\u001b[0m\u001b[0;34m.\u001b[0m\u001b[0mutils\u001b[0m\u001b[0;34m.\u001b[0m\u001b[0mvalidation\u001b[0m \u001b[0;32mimport\u001b[0m \u001b[0mcheck_arrays\u001b[0m\u001b[0;34m\u001b[0m\u001b[0;34m\u001b[0m\u001b[0m\n\u001b[0m\u001b[1;32m      5\u001b[0m \u001b[0;32mdef\u001b[0m \u001b[0mmean_absolute_percentage_error\u001b[0m\u001b[0;34m(\u001b[0m\u001b[0my_true\u001b[0m\u001b[0;34m,\u001b[0m \u001b[0my_pred\u001b[0m\u001b[0;34m)\u001b[0m\u001b[0;34m:\u001b[0m\u001b[0;34m\u001b[0m\u001b[0;34m\u001b[0m\u001b[0m\n\u001b[1;32m      6\u001b[0m     \u001b[0my_true\u001b[0m\u001b[0;34m,\u001b[0m \u001b[0my_pred\u001b[0m \u001b[0;34m=\u001b[0m \u001b[0mcheck_arrays\u001b[0m\u001b[0;34m(\u001b[0m\u001b[0my_true\u001b[0m\u001b[0;34m,\u001b[0m \u001b[0my_pred\u001b[0m\u001b[0;34m)\u001b[0m\u001b[0;34m\u001b[0m\u001b[0;34m\u001b[0m\u001b[0m\n",
      "\u001b[0;31mImportError\u001b[0m: cannot import name 'check_arrays' from 'sklearn.utils.validation' (/Library/Frameworks/Python.framework/Versions/3.7/lib/python3.7/site-packages/sklearn/utils/validation.py)"
     ]
    }
   ],
   "source": [
    "# MAPE 함수입니다. 생성해서 사용해 봅시다.\n",
    "#[20/12/4|13:39:56]➜  ~/_workspace/20201130_python_farmingindustry/1week git:(master) ✗ pip3 install sklearn.utils\n",
    "#from sklearn.utils import check_arrays\n",
    "from sklearn.utils.validation import check_arrays\n",
    "def mean_absolute_percentage_error(y_true, y_pred): \n",
    "    y_true, y_pred = check_arrays(y_true, y_pred)\n",
    "\n",
    "    ## Note: does not handle mix 1d representation\n",
    "    #if _is_1d(y_true): \n",
    "    #    y_true, y_pred = _check_1d_array(y_true, y_pred)\n",
    "\n",
    "    return np.mean(np.abs((y_true - y_pred) / y_true))"
   ]
  },
  {
   "cell_type": "code",
   "execution_count": 32,
   "metadata": {
    "executionInfo": {
     "elapsed": 1283,
     "status": "ok",
     "timestamp": 1606986392942,
     "user": {
      "displayName": "한기영",
      "photoUrl": "",
      "userId": "13049187003176135487"
     },
     "user_tz": -540
    },
    "id": "8DNTdTbm2QbH"
   },
   "outputs": [],
   "source": [
    "# 위에 check_arrays 패키지를 설치할수 없어 아래와 같이 변경함\n",
    "def mean_absolute_percentage_error2(y_true, y_pred): \n",
    "    y_true, y_pred = np.array(y_true), np.array(y_pred)\n",
    "    return np.mean(np.abs((y_true - y_pred) / y_true))"
   ]
  },
  {
   "cell_type": "code",
   "execution_count": 34,
   "metadata": {
    "id": "pPs0UlmC2ce4"
   },
   "outputs": [
    {
     "name": "stdout",
     "output_type": "stream",
     "text": [
      "linear:0.16207536032281433, kn : 0.16337952654509075\n"
     ]
    }
   ],
   "source": [
    "print('linear:{}, kn : {}'.format(mean_absolute_percentage_error2(test_y, test_pred_lm), mean_absolute_percentage_error2(test_y, test_pred_knn_n)))"
   ]
  },
  {
   "cell_type": "code",
   "execution_count": 38,
   "metadata": {
    "id": "g8s1loJa2cnm"
   },
   "outputs": [
    {
     "data": {
      "text/html": [
       "<div>\n",
       "<style scoped>\n",
       "    .dataframe tbody tr th:only-of-type {\n",
       "        vertical-align: middle;\n",
       "    }\n",
       "\n",
       "    .dataframe tbody tr th {\n",
       "        vertical-align: top;\n",
       "    }\n",
       "\n",
       "    .dataframe thead th {\n",
       "        text-align: right;\n",
       "    }\n",
       "</style>\n",
       "<table border=\"1\" class=\"dataframe\">\n",
       "  <thead>\n",
       "    <tr style=\"text-align: right;\">\n",
       "      <th></th>\n",
       "      <th>y</th>\n",
       "      <th>y_lm</th>\n",
       "      <th>y_knn</th>\n",
       "    </tr>\n",
       "  </thead>\n",
       "  <tbody>\n",
       "    <tr>\n",
       "      <th>307</th>\n",
       "      <td>28.2</td>\n",
       "      <td>32.391465</td>\n",
       "      <td>27.160</td>\n",
       "    </tr>\n",
       "    <tr>\n",
       "      <th>343</th>\n",
       "      <td>23.9</td>\n",
       "      <td>27.944013</td>\n",
       "      <td>26.075</td>\n",
       "    </tr>\n",
       "    <tr>\n",
       "      <th>47</th>\n",
       "      <td>16.6</td>\n",
       "      <td>17.837628</td>\n",
       "      <td>19.595</td>\n",
       "    </tr>\n",
       "    <tr>\n",
       "      <th>67</th>\n",
       "      <td>22.0</td>\n",
       "      <td>21.669414</td>\n",
       "      <td>22.675</td>\n",
       "    </tr>\n",
       "    <tr>\n",
       "      <th>362</th>\n",
       "      <td>20.8</td>\n",
       "      <td>18.936396</td>\n",
       "      <td>20.530</td>\n",
       "    </tr>\n",
       "    <tr>\n",
       "      <th>...</th>\n",
       "      <td>...</td>\n",
       "      <td>...</td>\n",
       "      <td>...</td>\n",
       "    </tr>\n",
       "    <tr>\n",
       "      <th>467</th>\n",
       "      <td>19.1</td>\n",
       "      <td>17.329959</td>\n",
       "      <td>15.820</td>\n",
       "    </tr>\n",
       "    <tr>\n",
       "      <th>95</th>\n",
       "      <td>28.4</td>\n",
       "      <td>28.360234</td>\n",
       "      <td>26.825</td>\n",
       "    </tr>\n",
       "    <tr>\n",
       "      <th>122</th>\n",
       "      <td>20.5</td>\n",
       "      <td>20.794228</td>\n",
       "      <td>17.980</td>\n",
       "    </tr>\n",
       "    <tr>\n",
       "      <th>260</th>\n",
       "      <td>33.8</td>\n",
       "      <td>33.698157</td>\n",
       "      <td>29.605</td>\n",
       "    </tr>\n",
       "    <tr>\n",
       "      <th>23</th>\n",
       "      <td>14.5</td>\n",
       "      <td>13.518827</td>\n",
       "      <td>17.340</td>\n",
       "    </tr>\n",
       "  </tbody>\n",
       "</table>\n",
       "<p>152 rows × 3 columns</p>\n",
       "</div>"
      ],
      "text/plain": [
       "        y       y_lm   y_knn\n",
       "307  28.2  32.391465  27.160\n",
       "343  23.9  27.944013  26.075\n",
       "47   16.6  17.837628  19.595\n",
       "67   22.0  21.669414  22.675\n",
       "362  20.8  18.936396  20.530\n",
       "..    ...        ...     ...\n",
       "467  19.1  17.329959  15.820\n",
       "95   28.4  28.360234  26.825\n",
       "122  20.5  20.794228  17.980\n",
       "260  33.8  33.698157  29.605\n",
       "23   14.5  13.518827  17.340\n",
       "\n",
       "[152 rows x 3 columns]"
      ]
     },
     "execution_count": 38,
     "metadata": {},
     "output_type": "execute_result"
    }
   ],
   "source": [
    "result = {'y':test_y, 'y_lm':test_pred_lm, 'y_knn':test_pred_knn_n}\n",
    "pd.DataFrame(result)"
   ]
  },
  {
   "cell_type": "code",
   "execution_count": null,
   "metadata": {
    "id": "CkcOu6L42cuW"
   },
   "outputs": [],
   "source": []
  }
 ],
 "metadata": {
  "colab": {
   "collapsed_sections": [],
   "name": "25_Regression_연습1.ipynb",
   "provenance": [],
   "toc_visible": true
  },
  "hide_input": false,
  "kernelspec": {
   "display_name": "Python 3",
   "language": "python",
   "name": "python3"
  },
  "language_info": {
   "codemirror_mode": {
    "name": "ipython",
    "version": 3
   },
   "file_extension": ".py",
   "mimetype": "text/x-python",
   "name": "python",
   "nbconvert_exporter": "python",
   "pygments_lexer": "ipython3",
   "version": "3.7.5"
  },
  "toc": {
   "base_numbering": 1,
   "nav_menu": {},
   "number_sections": true,
   "sideBar": true,
   "skip_h1_title": false,
   "title_cell": "Table of Contents",
   "title_sidebar": "Contents",
   "toc_cell": false,
   "toc_position": {},
   "toc_section_display": true,
   "toc_window_display": false
  }
 },
 "nbformat": 4,
 "nbformat_minor": 1
}
