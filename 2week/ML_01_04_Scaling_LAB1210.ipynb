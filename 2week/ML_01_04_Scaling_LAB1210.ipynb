{
  "nbformat": 4,
  "nbformat_minor": 0,
  "metadata": {
    "colab": {
      "name": "ML_01_04_Scaling_LAB1210.ipynb",
      "provenance": [],
      "collapsed_sections": [],
      "toc_visible": true
    },
    "kernelspec": {
      "name": "python3",
      "display_name": "Python 3"
    }
  },
  "cells": [
    {
      "cell_type": "markdown",
      "metadata": {
        "id": "rLw18MspXWlN"
      },
      "source": [
        "## ML Part 1-4. 스케일링(Scaling)\n",
        "- 값의 스케일이 다른 두 개의 변수가 있을 때, 이 변수들의 스케일 차이를 제거해 주는 것"
      ]
    },
    {
      "cell_type": "markdown",
      "metadata": {
        "id": "sz9G19DO5Lni"
      },
      "source": [
        "## 1.어떤 스케일러를 사용할 것인가?\n",
        "- 데이터 모델링 전에 '스케일링' 과정이 필요함 \n",
        "- '스케일링'을 통해 다차원의 값들을 비교 분석하기 쉽게 만듦\n",
        "- 자료의 오버플로우(overflow), 언더플로우(underflow) 방지\n",
        "- 독립 변수의 공분산 행렬의 조건수 (condition number)를 감소시켜 최적화 과정에서 안정성 및 수렴 속도를 향상시킴\n",
        "- 특히 거리 기반 알고리즘에서 '스케일링'은 매우 중요함 \n",
        "    - 예) kNN, k-means \n",
        "- 스케일러 사용 전에 이상치(Outlier)에 대한 제거 필요: 이상치가 스케일링 결과에 영향을 주기 때문임"
      ]
    },
    {
      "cell_type": "markdown",
      "metadata": {
        "id": "2lBdOvQT1gEW"
      },
      "source": [
        "## 2.StandardScaler \n",
        "- **표준화(Standardization)** : 표준 정규 분포가 되도록 스케일링함\n",
        "- 표준 정규 분포(Standard Normal Distribution) : 평균이 0 이고 표준편차가 1인 가우시안 분포\n",
        "- sklearn.preprocessing.StandardScaler\n",
        "- https://scikit-learn.org/stable/modules/generated/sklearn.preprocessing.StandardScaler.html\n",
        "\n",
        "- StandardScaler.fit() : Compute the mean and std to be used for later scaling\n",
        "- StandardScaler.transform() : Perform standardization by centering and scaling\n",
        "- StandardScaler.fit_transform() : Fit to data, then transform it"
      ]
    },
    {
      "cell_type": "code",
      "metadata": {
        "colab": {
          "base_uri": "https://localhost:8080/"
        },
        "id": "xRrn2naUnw-1",
        "outputId": "1372f3e2-7275-4ebd-a2b1-be28df137fa5"
      },
      "source": [
        "# np를 사용하여 데이터 생성\n",
        "import numpy as np\n",
        "arr = np.array([2, 8, 10], dtype=np.float32)\n",
        "arr"
      ],
      "execution_count": null,
      "outputs": [
        {
          "output_type": "execute_result",
          "data": {
            "text/plain": [
              "array([ 2.,  8., 10.], dtype=float32)"
            ]
          },
          "metadata": {
            "tags": []
          },
          "execution_count": 2
        }
      ]
    },
    {
      "cell_type": "code",
      "metadata": {
        "colab": {
          "base_uri": "https://localhost:8080/"
        },
        "id": "IJUORbx_n2Vn",
        "outputId": "30cd0f0a-1fdd-4519-94b1-d9955c8bd98a"
      },
      "source": [
        "# arr의 평균, 표준편차 구하기\n"
      ],
      "execution_count": null,
      "outputs": [
        {
          "output_type": "execute_result",
          "data": {
            "text/plain": [
              "(6.6666665, 3.3993464)"
            ]
          },
          "metadata": {
            "tags": []
          },
          "execution_count": 3
        }
      ]
    },
    {
      "cell_type": "code",
      "metadata": {
        "colab": {
          "base_uri": "https://localhost:8080/"
        },
        "id": "_a_pyBDroq_A",
        "outputId": "834a5f15-8025-47b8-d320-7b933ce1cce1"
      },
      "source": [
        "# 식에 의한 표준화 : arr에서 arr의 평균을 뺀것을 arr의 표준편차로 나누어서 하게 됨\n",
        "(arr - arr.mean()) / arr.std()"
      ],
      "execution_count": null,
      "outputs": [
        {
          "output_type": "execute_result",
          "data": {
            "text/plain": [
              "array([-1.3728129 ,  0.39223233,  0.98058075], dtype=float32)"
            ]
          },
          "metadata": {
            "tags": []
          },
          "execution_count": 5
        }
      ]
    },
    {
      "cell_type": "code",
      "metadata": {
        "colab": {
          "base_uri": "https://localhost:8080/",
          "height": 70
        },
        "id": "YHS6mpKrn-rw",
        "outputId": "5561a0c7-6468-4039-f81d-4d0cd1af70a7"
      },
      "source": [
        "# StancardScaler 사용하여 정규 분포 만들기\n",
        "from sklearn.preprocessing import StandardScaler\n",
        "\n",
        "# StandardScaler에 의한 스케일링\n",
        "\n",
        "\n",
        "display(scaled)"
      ],
      "execution_count": null,
      "outputs": [
        {
          "output_type": "display_data",
          "data": {
            "text/plain": [
              "array([[-1.3728129],\n",
              "       [ 0.3922323],\n",
              "       [ 0.9805807]], dtype=float32)"
            ]
          },
          "metadata": {
            "tags": []
          }
        }
      ]
    },
    {
      "cell_type": "markdown",
      "metadata": {
        "id": "INTem3LToFov"
      },
      "source": [
        "## 2.iris 데이터 스케일링 - StandardScaler"
      ]
    },
    {
      "cell_type": "code",
      "metadata": {
        "colab": {
          "base_uri": "https://localhost:8080/",
          "height": 281
        },
        "id": "VBwVWgXy2OjN",
        "outputId": "a8985277-38c5-4733-b01b-3927530caad7"
      },
      "source": [
        "from sklearn.preprocessing import StandardScaler\n",
        "from sklearn.datasets import load_iris\n",
        "import matplotlib.pyplot as plt\n",
        "import warnings   # Suppress Deprecation and Incorrect Usage Warnings\n",
        "warnings.filterwarnings('ignore')\n",
        "\n",
        "# 데이터를 가져와 StandardScaler로 스케일링 하세요\n",
        "iris = \n",
        "data = \n",
        "mm_scaled =  \n",
        "\n",
        "plt.figure(figsize=(10,4))\n",
        "plt.subplot(1, 2, 1)\n",
        "plt.plot(data[:, 0], data[:, 1], '.')\n",
        "plt.title(f'mean: {data[:,0].mean():.2}, {data[:,1].mean():.2}, std: {data[:,0].std():.2}, {data[:,1].std():.2}')\n",
        "plt.subplot(1, 2, 2)\n",
        "plt.plot(mm_scaled[:,0], mm_scaled[:, 1], '.')\n",
        "plt.title(f'mean: {mm_scaled[:,0].mean():.2}, {mm_scaled[:,1].mean():.2}, std: {mm_scaled[:,0].std():.2}, {mm_scaled[:,1].std():.2}')\n",
        "plt.show()\n",
        "# 동일한 분포이지만 scale이 달라짐"
      ],
      "execution_count": null,
      "outputs": [
        {
          "output_type": "display_data",
          "data": {
            "image/png": "[encoded data removed]",
            "text/plain": [
              "<Figure size 720x288 with 2 Axes>"
            ]
          },
          "metadata": {
            "tags": [],
            "needs_background": "light"
          }
        }
      ]
    },
    {
      "cell_type": "code",
      "metadata": {
        "colab": {
          "base_uri": "https://localhost:8080/",
          "height": 595
        },
        "id": "numHubID8FiF",
        "outputId": "56b4a758-de07-48ee-e739-5dd71fd2d7b9"
      },
      "source": [
        "from sklearn.preprocessing import StandardScaler\n",
        "from sklearn.datasets import load_iris\n",
        "import matplotlib.pyplot as plt\n",
        "import seaborn as sns\n",
        "import warnings   # Suppress Deprecation and Incorrect Usage Warnings\n",
        "warnings.filterwarnings('ignore')\n",
        "\n",
        "# 데이터를 가져와 StandardScaler로 스케일링 하세요\n",
        "iris = \n",
        "data = \n",
        "mm_scaled =  \n",
        "\n",
        "plt.figure(figsize=(10,10))\n",
        "plt.subplot(2, 2, 1)\n",
        "sns.distplot(data[:, 0])\n",
        "plt.subplot(2, 2, 2)\n",
        "sns.distplot(data[:, 1])\n",
        "plt.subplot(2, 2, 3)\n",
        "sns.distplot(mm_scaled[:, 0])\n",
        "plt.grid(True)\n",
        "plt.subplot(2, 2, 4)\n",
        "sns.distplot(mm_scaled[:, 1])\n",
        "plt.grid()\n",
        "plt.show()\n"
      ],
      "execution_count": null,
      "outputs": [
        {
          "output_type": "display_data",
          "data": {
            "image/png": "[encoded data removed]",
            "text/plain": [
              "<Figure size 720x720 with 4 Axes>"
            ]
          },
          "metadata": {
            "tags": [],
            "needs_background": "light"
          }
        }
      ]
    },
    {
      "cell_type": "code",
      "metadata": {
        "id": "1OKcXptbz_Vz"
      },
      "source": [
        "# 위의 코드를 for statement를 사용하여 수정해 보세요!\r\n",
        "\r\n",
        "from sklearn.preprocessing import StandardScaler\r\n",
        "from sklearn.datasets import load_iris\r\n",
        "import matplotlib.pyplot as plt\r\n",
        "import seaborn as sns\r\n",
        "import warnings   # Suppress Deprecation and Incorrect Usage Warnings\r\n",
        "warnings.filterwarnings('ignore')\r\n",
        "\r\n",
        "iris = load_iris()\r\n",
        "data = iris.data\r\n",
        "mm_scaled =  StandardScaler().fit_transform(data)\r\n",
        "\r\n",
        "# 이곳에 작성하세요!\r\n",
        "plt.figure(figsize=(10,10))\r\n",
        "\r\n",
        "plt.show()\r\n",
        "# 10, 2 라는 숫자도 이름을 붙여서 식으로 사용하는 것이 좋음"
      ],
      "execution_count": null,
      "outputs": []
    },
    {
      "cell_type": "code",
      "metadata": {
        "id": "x9rELBYb0mbJ"
      },
      "source": [
        "# 위의 코드를 for statement를 사용하여 수정해 보세요!\r\n",
        "\r\n",
        "from sklearn.preprocessing import StandardScaler\r\n",
        "from sklearn.datasets import load_iris\r\n",
        "import matplotlib.pyplot as plt\r\n",
        "import seaborn as sns\r\n",
        "import warnings   # Suppress Deprecation and Incorrect Usage Warnings\r\n",
        "warnings.filterwarnings('ignore')\r\n",
        "\r\n",
        "iris = load_iris()\r\n",
        "data = iris.data\r\n",
        "mm_scaled =  StandardScaler().fit_transform(data)\r\n",
        "\r\n",
        "# 이곳에 작성하세요!\r\n",
        "plt.figure(figsize=(10,10))\r\n",
        "\r\n",
        "plt.show()\r\n",
        "# 10, 2 라는 숫자도 이름을 붙여서 식으로 사용하는 것이 좋음"
      ],
      "execution_count": null,
      "outputs": []
    },
    {
      "cell_type": "markdown",
      "metadata": {
        "id": "e6hapwaI4o1d"
      },
      "source": [
        "## 3.MinMaxScaler\n",
        "- 정규화(Nomalization) : 서로 다른 규모의 특징 값을 같은 규모(단위)로 통일\n",
        "- MinMaxScaler : 모든 특징 값을 0 ~1 사이로 변환, 표준 정규분포 \n",
        "- sklearn.preprocessing.MinMaxScaler(feature_range)\n",
        "   - feature_range = (0, 1)\n",
        "   - 정규화 목표 구간 : tuple => (min, max)\n",
        "   - https://scikit-learn.org/stable/modules/generated/sklearn.preprocessing.MinMaxScaler.html"
      ]
    },
    {
      "cell_type": "code",
      "metadata": {
        "id": "QphljLDntmp3"
      },
      "source": [
        "# np를 사용하여 데이터 생성\n",
        "import numpy as np\n",
        "arr = np.array([2, 8, 10], dtype=np.float32)\n",
        "arr"
      ],
      "execution_count": null,
      "outputs": []
    },
    {
      "cell_type": "code",
      "metadata": {
        "id": "PZdIoW7ctqFH"
      },
      "source": [
        "# 식에 의한 정규화 : min,max 스케일링\n",
        "(arr - arr.min()) / (arr.max() - arr.min())"
      ],
      "execution_count": null,
      "outputs": []
    },
    {
      "cell_type": "code",
      "metadata": {
        "colab": {
          "base_uri": "https://localhost:8080/"
        },
        "id": "hxtj_oQgt8yW",
        "outputId": "7796870b-fe48-4f55-eb78-378396ce4766"
      },
      "source": [
        "from sklearn.preprocessing import MinMaxScaler\n",
        "\n",
        "# MinMaxScaler에 의한 스케일링\n",
        "mm_scaler = \n",
        "scaled"
      ],
      "execution_count": null,
      "outputs": [
        {
          "output_type": "execute_result",
          "data": {
            "text/plain": [
              "array([[0.  ],\n",
              "       [0.75],\n",
              "       [1.  ]], dtype=float32)"
            ]
          },
          "metadata": {
            "tags": []
          },
          "execution_count": 9
        }
      ]
    },
    {
      "cell_type": "markdown",
      "metadata": {
        "id": "qY7Ygq2vvsNS"
      },
      "source": [
        "## 4.iris 데이터 스케일링 - MinMaxScaler"
      ]
    },
    {
      "cell_type": "code",
      "metadata": {
        "colab": {
          "base_uri": "https://localhost:8080/"
        },
        "id": "GmP7JECFv2nF",
        "outputId": "76e2c116-010c-4eaa-d75e-3d78dd5d3f6c"
      },
      "source": [
        "from sklearn.preprocessing import MinMaxScaler\n",
        "from sklearn.datasets import load_iris\n",
        "import matplotlib.pyplot as plt\n",
        "import seaborn as sns\n",
        "import warnings   # Suppress Deprecation and Incorrect Usage Warnings\n",
        "warnings.filterwarnings('ignore')\n",
        "\n",
        "# iris 데이터 셋 가져오기\n",
        "iris = \n",
        "data = \n",
        "\n",
        "# data 타입이 ndarray입니다.  첫 3개 데이터를 출력해 보세요.\n"
      ],
      "execution_count": null,
      "outputs": [
        {
          "output_type": "execute_result",
          "data": {
            "text/plain": [
              "array([[5.1, 3.5, 1.4, 0.2],\n",
              "       [4.9, 3. , 1.4, 0.2],\n",
              "       [4.7, 3.2, 1.3, 0.2]])"
            ]
          },
          "metadata": {
            "tags": []
          },
          "execution_count": 19
        }
      ]
    },
    {
      "cell_type": "code",
      "metadata": {
        "colab": {
          "base_uri": "https://localhost:8080/"
        },
        "id": "vZExyDTuvoGz",
        "outputId": "0dade5f1-c876-4a58-c73e-6c6a7870c37b"
      },
      "source": [
        "# MinMaxScaler를 사용하여 data를 스케일링 하고, mm_scaled로 저장 후 3개 데이터 출력\n",
        "mm_scaler = \n",
        "\n",
        "\n",
        "mm_scaled[:3]"
      ],
      "execution_count": null,
      "outputs": [
        {
          "output_type": "execute_result",
          "data": {
            "text/plain": [
              "array([[0.22222222, 0.625     , 0.06779661, 0.04166667],\n",
              "       [0.16666667, 0.41666667, 0.06779661, 0.04166667],\n",
              "       [0.11111111, 0.5       , 0.05084746, 0.04166667]])"
            ]
          },
          "metadata": {
            "tags": []
          },
          "execution_count": 18
        }
      ]
    },
    {
      "cell_type": "code",
      "metadata": {
        "id": "AEZLs60Svpr9"
      },
      "source": [
        "# MinMaxScaler 사용하는 다른 방법\n",
        "mm_scaler = MinMaxScaler()\n",
        "mm_scaled = mm_scaler.fit_transform(data)"
      ],
      "execution_count": null,
      "outputs": []
    },
    {
      "cell_type": "code",
      "metadata": {
        "colab": {
          "base_uri": "https://localhost:8080/",
          "height": 268
        },
        "id": "hxf0Zg_xwazr",
        "outputId": "ade97bae-6f45-488a-bc10-be33f1644516"
      },
      "source": [
        "# 그래프를 그려 차이를 확인합니다.\n",
        "plt.figure(figsize=(10,4))\n",
        "plt.subplot(1, 2, 1)\n",
        "plt.plot(data[:, 0], data[:, 1], '.')\n",
        "plt.subplot(1, 2, 2)\n",
        "plt.plot(mm_scaled[:,0], mm_scaled[:, 1], '.')\n",
        "plt.show()"
      ],
      "execution_count": null,
      "outputs": [
        {
          "output_type": "display_data",
          "data": {
            "image/png": "[encoded data removed]",
            "text/plain": [
              "<Figure size 720x288 with 2 Axes>"
            ]
          },
          "metadata": {
            "tags": [],
            "needs_background": "light"
          }
        }
      ]
    },
    {
      "cell_type": "code",
      "metadata": {
        "colab": {
          "base_uri": "https://localhost:8080/"
        },
        "id": "4XzEzCEpxh9V",
        "outputId": "bf5a01c9-4ddb-4aa0-a366-6be3598a86d3"
      },
      "source": [
        "# 평균과 표준편차를 구해 변경 상태를 확인합니다.\r\n",
        "print(f'mean = {mm_scaled.mean():.2f}, std = {mm_scaled.std():.2f}')"
      ],
      "execution_count": null,
      "outputs": [
        {
          "output_type": "stream",
          "text": [
            "mean = -0.00, std = 1.00\n"
          ],
          "name": "stdout"
        }
      ]
    },
    {
      "cell_type": "markdown",
      "metadata": {
        "id": "RYRnD5OJ2eFm"
      },
      "source": [
        "## 5.그외 스케일러 "
      ]
    },
    {
      "cell_type": "markdown",
      "metadata": {
        "id": "iZvdKUpuFFsn"
      },
      "source": [
        "### 5-01. RobustScaler\n",
        "- 중앙값 = 0/ IQR = 1\n",
        "   - IQR : Q3 - Q1\n",
        "- 이상치(outlier) 영향을 최소화\n",
        "- 더 넓게 분포\n"
      ]
    },
    {
      "cell_type": "code",
      "metadata": {
        "id": "5ELylSXfFcJR"
      },
      "source": [
        "from sklearn.preprocessing import RobusterScaler\n",
        "\n",
        "# 중앙값 0 / IQR 1\n",
        "scaler = RobusterScaler()"
      ],
      "execution_count": null,
      "outputs": []
    },
    {
      "cell_type": "markdown",
      "metadata": {
        "id": "0ld_7ylYFhZJ"
      },
      "source": [
        "### 5-02. MaxAbsScaler\n",
        "- 0을 기준으로 절대값이 가장 큰 수가 1 또는 -1이 되도록 변환"
      ]
    },
    {
      "cell_type": "code",
      "metadata": {
        "id": "9DHJwd-wFdnQ"
      },
      "source": [
        "from sklearn.preprocessing import MaxAbsScaler\n",
        "\n",
        "# 절대값\n",
        "scaler = MaxAbsScaler()"
      ],
      "execution_count": null,
      "outputs": []
    }
  ]
}