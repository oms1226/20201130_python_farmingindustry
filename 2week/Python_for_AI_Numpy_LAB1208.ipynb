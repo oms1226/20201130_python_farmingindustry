{
 "cells": [
  {
   "cell_type": "markdown",
   "metadata": {
    "id": "QjJAO1FVjAxH"
   },
   "source": [
    "## PART 03. Numpy 모듈\n",
    "- https://numpy.org/doc/stable/reference/index.html\n",
    "- Numpy basics : https://numpy.org/devdocs/user/basics.html"
   ]
  },
  {
   "cell_type": "markdown",
   "metadata": {
    "id": "nvMCPQGk0eB-"
   },
   "source": [
    "##1.ndarray 성능확인\n"
   ]
  },
  {
   "cell_type": "code",
   "execution_count": 2,
   "metadata": {
    "id": "bDRChRKYXai7"
   },
   "outputs": [],
   "source": [
    "import numpy as np"
   ]
  },
  {
   "cell_type": "code",
   "execution_count": 3,
   "metadata": {
    "colab": {
     "base_uri": "https://localhost:8080/",
     "height": 34
    },
    "id": "DMvqY88lXcig",
    "outputId": "1766599f-3cc1-462a-a7f4-3d8920de7d39"
   },
   "outputs": [
    {
     "name": "stdout",
     "output_type": "stream",
     "text": [
      "[5, 7, 9]\n"
     ]
    }
   ],
   "source": [
    "# Python에서 두 list의 합을 구하는 방법\n",
    "A = [1, 2, 3]\n",
    "B = [4, 5, 6]\n",
    "C = []\n",
    "for a, b in zip(A, B):\n",
    "  C.append(a + b)\n",
    "\n",
    "print(C)"
   ]
  },
  {
   "cell_type": "code",
   "execution_count": 4,
   "metadata": {
    "colab": {
     "base_uri": "https://localhost:8080/",
     "height": 34
    },
    "id": "FNpu7HAJXq5c",
    "outputId": "30cbc5eb-ec62-4ada-866d-233577118630"
   },
   "outputs": [
    {
     "name": "stdout",
     "output_type": "stream",
     "text": [
      "[5 7 9] <class 'numpy.ndarray'>\n"
     ]
    }
   ],
   "source": [
    "# numpy를 사용하여 두 배열의 합을 구하는 방법\n",
    "A = np.array([1, 2, 3])\n",
    "B = np.array([4, 5, 6])\n",
    "C = A + B\n",
    "print(C, type(C))"
   ]
  },
  {
   "cell_type": "code",
   "execution_count": 5,
   "metadata": {
    "id": "J-RgB4fX0Psj"
   },
   "outputs": [],
   "source": [
    "a = [ [ 1, 2, 3, 4 ] for _ in range(1000000)]  # a 1000000 행, 4 열 - list\n",
    "b = np.array(a) # ndarray\n",
    "\n",
    "# python list에서의 열 변경\n",
    "def exchange_list(a):\n",
    "  c = []\n",
    "  for x in a:\n",
    "      x[2], x[3], x[0], x[1] = x\n",
    "      c.append(x)\n",
    "  return c\n",
    "\n",
    "# Numpy를 사용하여 열 변경\n",
    "def exchange_ndarray(a):\n",
    "   return a[ : ,[2, 3, 0, 1]]"
   ]
  },
  {
   "cell_type": "code",
   "execution_count": 6,
   "metadata": {
    "colab": {
     "base_uri": "https://localhost:8080/",
     "height": 69
    },
    "id": "74TT0lJUV3HL",
    "outputId": "f931453a-0c57-422b-aa4d-7e8ef9168279"
   },
   "outputs": [
    {
     "name": "stdout",
     "output_type": "stream",
     "text": [
      "[[1, 2, 3, 4], [1, 2, 3, 4]]\n",
      "[[1 2 3 4]\n",
      " [1 2 3 4]]\n"
     ]
    }
   ],
   "source": [
    "print(a[:2], b[:2], sep='\\n')"
   ]
  },
  {
   "cell_type": "code",
   "execution_count": 7,
   "metadata": {
    "colab": {
     "base_uri": "https://localhost:8080/",
     "height": 69
    },
    "id": "1UpQlMg21gZo",
    "outputId": "aa0053fc-fcd3-41b7-c68f-97e9b9a3dd5b"
   },
   "outputs": [
    {
     "name": "stdout",
     "output_type": "stream",
     "text": [
      "[[3, 4, 1, 2], [3, 4, 1, 2]]\n",
      "[[3 4 1 2]\n",
      " [3 4 1 2]]\n"
     ]
    }
   ],
   "source": [
    "c = exchange_list(a)\n",
    "d = exchange_ndarray(b)\n",
    "print(c[:2], d[:2], sep='\\n')  "
   ]
  },
  {
   "cell_type": "code",
   "execution_count": 8,
   "metadata": {
    "colab": {
     "base_uri": "https://localhost:8080/",
     "height": 34
    },
    "id": "b-w7jMVYVyeD",
    "outputId": "751c3398-f748-4cc1-c4a3-5b5efaa3d763"
   },
   "outputs": [
    {
     "name": "stdout",
     "output_type": "stream",
     "text": [
      "193 ms ± 33 ms per loop (mean ± std. dev. of 7 runs, 1 loop each)\n"
     ]
    }
   ],
   "source": [
    "%timeit exchange_list(a)"
   ]
  },
  {
   "cell_type": "code",
   "execution_count": 9,
   "metadata": {
    "colab": {
     "base_uri": "https://localhost:8080/",
     "height": 34
    },
    "id": "x_hIaQgpV0Ie",
    "outputId": "3c63efcd-d22e-4bc6-f951-5586e3c08e42"
   },
   "outputs": [
    {
     "name": "stdout",
     "output_type": "stream",
     "text": [
      "14.7 ms ± 1.44 ms per loop (mean ± std. dev. of 7 runs, 100 loops each)\n"
     ]
    }
   ],
   "source": [
    "%timeit exchange_ndarray(b) "
   ]
  },
  {
   "cell_type": "markdown",
   "metadata": {
    "id": "oCa83IylZ1OA"
   },
   "source": [
    "## 2.ndarray 속성\n",
    "- ndarray : https://numpy.org/doc/stable/reference/arrays.ndarray.html"
   ]
  },
  {
   "cell_type": "markdown",
   "metadata": {
    "id": "x-pIp6iNMDJh"
   },
   "source": [
    "### 2-01. ndarray 속성\n",
    "- a.ndim : 차원, 배열의 깊이\n",
    "- a.shape : 생성된 배열의 구조에 대한 정보, tuple 형태, 각 차원(축)별 요소 개수 정보\n",
    "- a.size : 배열의 element 개수\n",
    "- a.dtype : 배열의 데이터 타입(자료형)에 대한 정보\n",
    "   > https://numpy.org/devdocs/user/basics.types.html\n",
    "- a.itemsize : element의 메모리 사용 byte 수\n",
    "- a.strides : 메모리에서 데이터의 간격에 대한 정보, shape, dtype과 관련 있음, tuple 형태, 각 차원별 데이터 간격 정보"
   ]
  },
  {
   "cell_type": "code",
   "execution_count": null,
   "metadata": {
    "id": "gs7lgMK0tWaO"
   },
   "outputs": [],
   "source": [
    "import numpy as np"
   ]
  },
  {
   "cell_type": "code",
   "execution_count": null,
   "metadata": {
    "colab": {
     "base_uri": "https://localhost:8080/"
    },
    "id": "R2KFZHEO2IMa",
    "outputId": "e26da526-745e-40c8-f41e-f9053ec578d3"
   },
   "outputs": [
    {
     "name": "stdout",
     "output_type": "stream",
     "text": [
      "[[0 1 2]\n",
      " [3 4 5]]\n",
      "--------------------\n",
      "a.ndim      2\n",
      "a.shape     (2, 3)\n",
      "a.size      6\n",
      "a.dtype     int64\n",
      "a.itemsize  8\n",
      "a.strides   (24, 8)\n",
      "--------------------\n",
      "2 (2, 3) 6 int64 8 (24, 8)\n"
     ]
    }
   ],
   "source": [
    "#print array information\n",
    "def printInfo(a):\n",
    "    data = ['a.ndim', 'a.shape', 'a.size', 'a.dtype', 'a.itemsize', 'a.strides']\n",
    "    for x in data:\n",
    "        print('%-11s' % x, eval(x))\n",
    "    print('-' * 20)\n",
    "\n",
    "a = np.array([[0,1,2],[3,4,5]]) #, dtype=np.int32)\n",
    "print(a)\n",
    "print('-' * 20)\n",
    "printInfo(a)\n",
    "\n",
    "print(a.ndim, a.shape, a.size, a.dtype, a.itemsize, a.strides)"
   ]
  },
  {
   "cell_type": "markdown",
   "metadata": {
    "id": "ZSlxI-fsLmNM"
   },
   "source": [
    "### 2-02. axis 개념\n",
    "- shape 표기법에 따라 앞에 표기되는 축이 0번 그 뒤로 1씩 증가한 번호\n",
    "- 축 번호를 음수로 사용할 수 있으며, 뒤에서부터 -1, 그 앞으로 1씩 감소한 번호 사용\n",
    "![image.png](data:image/png;base64,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)"
   ]
  },
  {
   "cell_type": "markdown",
   "metadata": {
    "id": "fAya-kGlZ1K-"
   },
   "source": [
    "## 3.ndarray 생성"
   ]
  },
  {
   "cell_type": "code",
   "execution_count": 11,
   "metadata": {
    "id": "m-EkRfePwavl"
   },
   "outputs": [],
   "source": [
    "import numpy as np"
   ]
  },
  {
   "cell_type": "code",
   "execution_count": 12,
   "metadata": {
    "id": "yxyJwtur2a4_"
   },
   "outputs": [],
   "source": [
    "def printary(*a):\n",
    "    for x in a:\n",
    "        print(f'{type(x)}\\n{x.dtype}\\n{x}', end='\\n\\n')\n",
    "            \n",
    "    print(\"-\" * 30)"
   ]
  },
  {
   "cell_type": "markdown",
   "metadata": {
    "id": "nAQcclcqRjpl"
   },
   "source": [
    "### 1-01. np.array 사용"
   ]
  },
  {
   "cell_type": "code",
   "execution_count": 13,
   "metadata": {
    "colab": {
     "base_uri": "https://localhost:8080/"
    },
    "id": "2drjTnoJ2cVS",
    "outputId": "b14f159a-ecee-46e6-c947-a057ca50567b"
   },
   "outputs": [
    {
     "name": "stdout",
     "output_type": "stream",
     "text": [
      "<class 'numpy.ndarray'>\n",
      "int64\n",
      "[1 2 3]\n",
      "\n",
      "<class 'numpy.ndarray'>\n",
      "int64\n",
      "[[1 2 3]\n",
      " [4 5 6]]\n",
      "\n",
      "<class 'numpy.ndarray'>\n",
      "object\n",
      "[list([1, 2, 3]) list([4, 5])]\n",
      "\n",
      "------------------------------\n"
     ]
    },
    {
     "name": "stderr",
     "output_type": "stream",
     "text": [
      "/Library/Frameworks/Python.framework/Versions/3.7/lib/python3.7/site-packages/ipykernel_launcher.py:4: VisibleDeprecationWarning: Creating an ndarray from ragged nested sequences (which is a list-or-tuple of lists-or-tuples-or ndarrays with different lengths or shapes) is deprecated. If you meant to do this, you must specify 'dtype=object' when creating the ndarray\n",
      "  after removing the cwd from sys.path.\n"
     ]
    }
   ],
   "source": [
    "#np.array(object : array_like, dtype=None)\n",
    "a = np.array([1, 2, 3])\n",
    "b = np.array([[1, 2, 3], [4, 5, 6]])\n",
    "c = np.array([[1, 2, 3], [4, 5]])  # array_like가 아님\n",
    "printary(a, b, c)"
   ]
  },
  {
   "cell_type": "code",
   "execution_count": null,
   "metadata": {
    "colab": {
     "base_uri": "https://localhost:8080/"
    },
    "id": "rTXLYJJZ2lNL",
    "outputId": "5082d4f3-da58-4543-ed6e-741382652f22"
   },
   "outputs": [
    {
     "name": "stdout",
     "output_type": "stream",
     "text": [
      "<class 'numpy.ndarray'>\n",
      "[('name', '<U10'), ('height', '<i4'), ('weight', '<f4')]\n",
      "[('Tom', 178, 98.5) ('Jim', 183, 79.5) ('Adam', 175, 82.8)]\n",
      "\n",
      "------------------------------\n"
     ]
    },
    {
     "data": {
      "text/plain": [
       "array([('Tom', 178, 98.5), ('Jim', 183, 79.5), ('Adam', 175, 82.8)],\n",
       "      dtype=[('name', '<U10'), ('height', '<i4'), ('weight', '<f4')])"
      ]
     },
     "execution_count": 9,
     "metadata": {
      "tags": []
     },
     "output_type": "execute_result"
    }
   ],
   "source": [
    "# Structured Array\n",
    "sdtype = [('name', '<U10'), ('height', '<i4'), ('weight', np.float32)]\n",
    "value =  [('Tom', 178, 98.5), ('Jim', 183, 79.5), ('Adam',  175, 82.8)]\n",
    "    \n",
    "a = np.array(value, dtype=sdtype)\n",
    "printary(a)\n",
    "a"
   ]
  },
  {
   "cell_type": "code",
   "execution_count": null,
   "metadata": {
    "id": "y_h2M3cZzD5d"
   },
   "outputs": [],
   "source": [
    "printary(a['name'], a['height'], a['weight'])\n",
    "printary(a[0], a[1], a[2])\n",
    "print(a.shape, a.strides, a[0])   # a.strides - 1개 row에 해당하는 메모리 크기"
   ]
  },
  {
   "cell_type": "markdown",
   "metadata": {
    "id": "fd3KaKnjRuPx"
   },
   "source": [
    "### 1-02. np.arange 사용"
   ]
  },
  {
   "cell_type": "code",
   "execution_count": null,
   "metadata": {
    "colab": {
     "base_uri": "https://localhost:8080/",
     "height": 244
    },
    "id": "BXykk-bv2vpx",
    "outputId": "d0f8090a-207b-4623-8c38-ef99efceebce"
   },
   "outputs": [
    {
     "name": "stdout",
     "output_type": "stream",
     "text": [
      "<class 'numpy.ndarray'>\n",
      "int64\n",
      "[0 1 2 3 4]\n",
      "\n",
      "<class 'numpy.ndarray'>\n",
      "int64\n",
      "[1 3 5 7 9]\n",
      "\n",
      "<class 'numpy.ndarray'>\n",
      "float64\n",
      "[1.  1.1 1.2 1.3 1.4 1.5 1.6 1.7 1.8 1.9]\n",
      "\n",
      "------------------------------\n"
     ]
    }
   ],
   "source": [
    "# np.arange(stop:number, dtype=None), np.arange(start, stop), np.arange(start, stop, step)\n",
    "# 아래와 같은 결과가 출력되도록 arange의 argument를 채워보세요\n",
    "a = np.arange( )\n",
    "b = np.arange( )\n",
    "c = np.arange( )\n",
    "printary(a, b, c)"
   ]
  },
  {
   "cell_type": "code",
   "execution_count": null,
   "metadata": {
    "colab": {
     "base_uri": "https://localhost:8080/",
     "height": 265
    },
    "id": "Ja3Vmvp7XRKE",
    "outputId": "d1636d06-0b89-4b94-8d63-813ed4d722d2"
   },
   "outputs": [
    {
     "data": {
      "image/png": "[encoded data removed]",
      "text/plain": [
       "<Figure size 432x288 with 1 Axes>"
      ]
     },
     "metadata": {
      "needs_background": "light",
      "tags": []
     },
     "output_type": "display_data"
    }
   ],
   "source": [
    "#그래프 그릴때 축설정으로 사용 예\n",
    "import matplotlib.pyplot as plt\n",
    "x = np.arange(0, 10, 0.5)\n",
    "y = np.sin(x)\n",
    "plt.plot(x, y)   \n",
    "plt.show()"
   ]
  },
  {
   "cell_type": "code",
   "execution_count": null,
   "metadata": {
    "colab": {
     "base_uri": "https://localhost:8080/",
     "height": 35
    },
    "id": "VffWhSum7NdP",
    "outputId": "8931e9ce-096d-4365-cb33-8cc698100706"
   },
   "outputs": [
    {
     "name": "stdout",
     "output_type": "stream",
     "text": [
      "1 <class 'numpy.ndarray'>\n"
     ]
    }
   ],
   "source": [
    "# 1개 값도 array_like 이다\n",
    "x = np.array(1)    #  스칼라\n",
    "print(x, type(x))"
   ]
  },
  {
   "cell_type": "markdown",
   "metadata": {
    "id": "izOR5P5FRzoq"
   },
   "source": [
    "### 1-03. np.linspace 사용"
   ]
  },
  {
   "cell_type": "code",
   "execution_count": null,
   "metadata": {
    "colab": {
     "base_uri": "https://localhost:8080/"
    },
    "id": "SomZfC8i2v4t",
    "outputId": "cd0e3037-53e4-4fc8-b5d5-6713a6ac1085"
   },
   "outputs": [
    {
     "name": "stdout",
     "output_type": "stream",
     "text": [
      "  1.00   1.50   2.00   2.50   3.00   3.50   4.00   4.50   5.00\n",
      "  1.00   1.40   1.80   2.20   2.60   3.00   3.40   3.80   4.20   4.60\n",
      "  1.00   1.50   2.00   2.50   3.00   3.50   4.00   4.50   5.00\n"
     ]
    }
   ],
   "source": [
    "# np.linspace(start:array_like, stop, num=50, endpoint=True, retstep=False, dtype=None)\n",
    "\n",
    "# 1에서 5까지, 9개 숫자\n",
    "a = np.linspace( )\n",
    "\n",
    "# 1에서 5보다 작은수까지 10개 (endpoint=False 사용)\n",
    "b = np.linspace( )\n",
    "\n",
    "# 1에서 5까지 9개 숫자, step도 반환 (retstep=True 사용)\n",
    "c = np.linspace( )\n",
    "\n",
    "#print(a, b, c, sep=\"\\n\")\n",
    "\n",
    "for arr in a, b, c[0]:\n",
    "    print(' '.join( f'{x:6.2f}' for x in arr ))"
   ]
  },
  {
   "cell_type": "code",
   "execution_count": null,
   "metadata": {
    "colab": {
     "base_uri": "https://localhost:8080/",
     "height": 108
    },
    "id": "iN3D9iNX7ff2",
    "outputId": "6ab58a85-2e07-4741-f659-c1eabb9867dc"
   },
   "outputs": [
    {
     "name": "stdout",
     "output_type": "stream",
     "text": [
      "[[1.   2.   3.  ]\n",
      " [1.25 2.5  3.75]\n",
      " [1.5  3.   4.5 ]\n",
      " [1.75 3.5  5.25]\n",
      " [2.   4.   6.  ]]\n"
     ]
    }
   ],
   "source": [
    "# start, stop을 list로 사용할 수 있음\n",
    "x = np.linspace([1, 2, 3], [2, 4, 6], num=5)\n",
    "print(x)"
   ]
  },
  {
   "cell_type": "code",
   "execution_count": null,
   "metadata": {
    "colab": {
     "base_uri": "https://localhost:8080/",
     "height": 265
    },
    "id": "xtwBbyt3YQGD",
    "outputId": "ab6460ca-7c74-41db-92d4-77a6a9982e52"
   },
   "outputs": [
    {
     "data": {
      "image/png": "[encoded data removed]",
      "text/plain": [
       "<Figure size 432x288 with 1 Axes>"
      ]
     },
     "metadata": {
      "needs_background": "light",
      "tags": []
     },
     "output_type": "display_data"
    }
   ],
   "source": [
    "# 그래프 그리기에 linspace 활용\n",
    "x = np.linspace(0, 10, 60)\n",
    "y = np.sin(x)\n",
    "plt.plot(x, y)\n",
    "plt.show()"
   ]
  },
  {
   "cell_type": "markdown",
   "metadata": {
    "id": "9O5V_mLvRYut"
   },
   "source": [
    "### 1-04. random 사용"
   ]
  },
  {
   "cell_type": "code",
   "execution_count": null,
   "metadata": {
    "id": "NeEBTlxPJoXq"
   },
   "outputs": [],
   "source": [
    "import numpy as np\n",
    "import matplotlib.pyplot as plt"
   ]
  },
  {
   "cell_type": "code",
   "execution_count": null,
   "metadata": {
    "id": "E2KeXp0vNmKl"
   },
   "outputs": [],
   "source": [
    "np.set_printoptions(threshold=999,\n",
    "                    suppress=True,\n",
    "                    precision=4,\n",
    "                    edgeitems=3)"
   ]
  },
  {
   "cell_type": "code",
   "execution_count": null,
   "metadata": {
    "id": "elDSwjaDYz5h"
   },
   "outputs": [],
   "source": [
    "def printary(*a):\n",
    "    for x in a :\n",
    "        print(f\"shape : {x.shape}\")\n",
    "        print(f\"array : %s{x} \" % ('' if x.ndim == 1 else '\\n'))\n",
    "        print(\"mean  : %.3f, std : %.3f\" % (x.mean(), x.std()))\n",
    "        print(\"-\" * 30)"
   ]
  },
  {
   "cell_type": "code",
   "execution_count": null,
   "metadata": {
    "id": "a-XJWhgzJUXV"
   },
   "outputs": [],
   "source": [
    "def showHist(x):\n",
    "  plt.hist(x)\n",
    "  plt.show()"
   ]
  },
  {
   "cell_type": "code",
   "execution_count": null,
   "metadata": {
    "colab": {
     "base_uri": "https://localhost:8080/",
     "height": 244
    },
    "id": "V8bwah-tY3yn",
    "outputId": "afa65a7c-4e57-4390-d85a-2589559996da"
   },
   "outputs": [
    {
     "name": "stdout",
     "output_type": "stream",
     "text": [
      "shape : (5,)\n",
      "array : [0.5488 0.7152 0.6028 0.5449 0.4237] \n",
      "mean  : 0.567, std : 0.094\n",
      "------------------------------\n",
      "shape : (2, 2, 3)\n",
      "array : \n",
      "[[[0.6459 0.4376 0.8918]\n",
      "  [0.9637 0.3834 0.7917]]\n",
      "\n",
      " [[0.5289 0.568  0.9256]\n",
      "  [0.071  0.0871 0.0202]]] \n",
      "mean  : 0.526, std : 0.323\n",
      "------------------------------\n"
     ]
    }
   ],
   "source": [
    "# np.random.randint(e, size=n)\n",
    "# np.random.randint(s, e, size=n)\n",
    "# 0~e-1, s~e-1 범위의 값을 갖는 균일 분포의 정수 난수 생성\n",
    "# size : 정수(1차원), tuple(1차원 이상)로 shape 지정\n",
    "\n",
    "# (5,) shape으로 0~9 범위를 갖는 균일 분포의 정수 난수 생성\n",
    "a = np.random.randint(5, size=(5,))\n",
    "\n",
    "# (2,4) shape으로 50~99 범위를 갖는 균일 분포의 정수 난수 생성\n",
    "b = np.random.randint(50, 100, (2,4)) \n",
    "printary(a, b)"
   ]
  },
  {
   "cell_type": "code",
   "execution_count": null,
   "metadata": {
    "colab": {
     "base_uri": "https://localhost:8080/",
     "height": 265
    },
    "id": "JUZGLTYwKUOp",
    "outputId": "ce2b293f-733c-482f-8439-70576845f1bd"
   },
   "outputs": [
    {
     "data": {
      "image/png": "[encoded data removed]",
      "text/plain": [
       "<Figure size 432x288 with 1 Axes>"
      ]
     },
     "metadata": {
      "needs_background": "light",
      "tags": []
     },
     "output_type": "display_data"
    }
   ],
   "source": [
    "showHist(np.random.rand(500000))"
   ]
  },
  {
   "cell_type": "code",
   "execution_count": null,
   "metadata": {
    "colab": {
     "base_uri": "https://localhost:8080/",
     "height": 192
    },
    "id": "ENjYBYktZAW6",
    "outputId": "ec71d160-9d51-42aa-a51b-13aef390136a"
   },
   "outputs": [
    {
     "name": "stdout",
     "output_type": "stream",
     "text": [
      "shape : (5,)\n",
      "array : [0 8 3 3 8] \n",
      "mean  : 4.400, std : 3.137\n",
      "------------------------------\n",
      "shape : (2, 4)\n",
      "array : \n",
      "[[79 64 52 57]\n",
      " [79 53 85 90]] \n",
      "mean  : 69.875, std : 14.164\n",
      "------------------------------\n"
     ]
    }
   ],
   "source": [
    "# np.random.randint(e, size=n)\n",
    "# np.random.randint(s, e, size=n)\n",
    "# 0~e-1, s~e-1 범위의 값을 갖는 균일 분포의 정수 난수 생성\n",
    "# size : 정수(1차원), tuple(1차원 이상)로 shape 지정\n",
    "\n",
    "# (5,) shape으로 0~9 범위를 갖는 균일 분포의 정수 난수 생성\n",
    "a = \n",
    "\n",
    "# (2,4) shape으로 50~99 범위를 갖는 균일 분포의 정수 난수 생성\n",
    "b = \n",
    "printary(a, b)"
   ]
  },
  {
   "cell_type": "code",
   "execution_count": null,
   "metadata": {
    "colab": {
     "base_uri": "https://localhost:8080/",
     "height": 265
    },
    "id": "quiwa313KgQP",
    "outputId": "b44471cb-6355-4c8b-9b6c-6927572c73b6"
   },
   "outputs": [
    {
     "data": {
      "image/png": "[encoded data removed]",
      "text/plain": [
       "<Figure size 432x288 with 1 Axes>"
      ]
     },
     "metadata": {
      "needs_background": "light",
      "tags": []
     },
     "output_type": "display_data"
    }
   ],
   "source": [
    "showHist(np.random.randint(10, size=500000))"
   ]
  },
  {
   "cell_type": "code",
   "execution_count": null,
   "metadata": {
    "colab": {
     "base_uri": "https://localhost:8080/",
     "height": 279
    },
    "id": "CDtECsWcZAt5",
    "outputId": "39342500-0c03-42cb-c6c3-579ba23a67a1"
   },
   "outputs": [
    {
     "name": "stdout",
     "output_type": "stream",
     "text": [
      "shape : (5,)\n",
      "array : [ 0.5186  0.8347  0.2313 -0.3582 -0.2234] \n",
      "mean  : 0.201, std : 0.446\n",
      "------------------------------\n",
      "shape : (200, 50)\n",
      "array : \n",
      "[[ 0.0594  0.0172 -0.5536 ...  0.4019 -1.4134  2.141 ]\n",
      " [ 0.7986  1.1502 -1.7717 ... -2.1855  0.5192 -1.9197]\n",
      " [-0.4164  0.0653  0.0266 ... -1.0678 -0.8063  0.1602]\n",
      " ...\n",
      " [ 0.6942  0.1601  0.4242 ... -0.2508  1.4569  1.3178]\n",
      " [ 0.0489 -1.6666 -1.6475 ... -0.5733  0.1646 -0.0153]\n",
      " [ 2.0257 -1.5143 -1.1048 ... -0.3525 -0.3502  0.2941]] \n",
      "mean  : -0.023, std : 0.996\n",
      "------------------------------\n"
     ]
    }
   ],
   "source": [
    "# np.random.randn(d0, d1, ... dn)\n",
    "# 평균 0, 표준편차 1을 갖는 가우시안 표준 정규 분포로 난수 배열 생성(음수 포함)\n",
    "\n",
    "# (5,) shape을 갖는 평균 0, 표준편차 1을 갖는 가우시안 표준 정규 분포 난수 배열 생성\n",
    "a = \n",
    "\n",
    "# (200, 50) shape을 갖는 평균 0, 표준편차 1을 갖는 가우시안 표준 정규 분포 난수 배열 생성\n",
    "b = \n",
    "printary(a, b)"
   ]
  },
  {
   "cell_type": "code",
   "execution_count": null,
   "metadata": {
    "colab": {
     "base_uri": "https://localhost:8080/",
     "height": 265
    },
    "id": "jYacgdPSLx40",
    "outputId": "b60bf1d9-e093-4def-c40a-0bf99adabd6f"
   },
   "outputs": [
    {
     "data": {
      "image/png": "[encoded data removed]",
      "text/plain": [
       "<Figure size 432x288 with 1 Axes>"
      ]
     },
     "metadata": {
      "needs_background": "light",
      "tags": []
     },
     "output_type": "display_data"
    }
   ],
   "source": [
    "showHist(np.random.randn(500000))"
   ]
  },
  {
   "cell_type": "code",
   "execution_count": null,
   "metadata": {
    "colab": {
     "base_uri": "https://localhost:8080/",
     "height": 209
    },
    "id": "wygHi7PjZEvG",
    "outputId": "792cc026-b723-4b79-d544-a412b4b4094f"
   },
   "outputs": [
    {
     "name": "stdout",
     "output_type": "stream",
     "text": [
      "shape : (100, 20)\n",
      "array : \n",
      "[[ 2.4375  5.7631  8.8411 ...  6.1862  8.2629  2.2378]\n",
      " [ 4.2665  7.4651  4.7042 ...  3.1145 -4.5185  5.4591]\n",
      " [ 5.9646  4.4424  8.26   ... -0.7143  1.8544  7.2505]\n",
      " ...\n",
      " [ 4.0245  0.3288  2.9779 ... -0.6544  3.2303  3.4702]\n",
      " [ 2.7203 -3.1442  1.6762 ...  1.9211  3.3268  5.3657]\n",
      " [-3.6286  2.5346  0.6768 ...  7.077   3.1236  4.0424]] \n",
      "mean  : 2.021, std : 3.046\n",
      "------------------------------\n"
     ]
    }
   ],
   "source": [
    "# np.random.normal(평균, 표준편차, size)\n",
    "# 생략하면 평균=0, 표준편차=1, size=1이 됨\n",
    "\n",
    "# 평균 2, 표준편차 3, size는 (100, 20)인 배열 생성 \n",
    "a = \n",
    "printary(a)"
   ]
  },
  {
   "cell_type": "code",
   "execution_count": null,
   "metadata": {
    "colab": {
     "base_uri": "https://localhost:8080/",
     "height": 265
    },
    "id": "dW9EHc4KMFHq",
    "outputId": "88b095b2-5f75-453c-816d-14f1dea53a2f"
   },
   "outputs": [
    {
     "data": {
      "image/png": "[encoded data removed]",
      "text/plain": [
       "<Figure size 432x288 with 1 Axes>"
      ]
     },
     "metadata": {
      "needs_background": "light",
      "tags": []
     },
     "output_type": "display_data"
    }
   ],
   "source": [
    "showHist(np.random.normal(2, 1, (5000,)))"
   ]
  },
  {
   "cell_type": "code",
   "execution_count": null,
   "metadata": {
    "colab": {
     "base_uri": "https://localhost:8080/",
     "height": 302
    },
    "id": "RlkVVwimZGPU",
    "outputId": "a2f65958-1658-4b4c-aee7-174abac6c980"
   },
   "outputs": [
    {
     "name": "stdout",
     "output_type": "stream",
     "text": [
      "shape : (10,)\n",
      "array : [6 0 4 2 1 3 8 7 9 5] \n",
      "mean  : 4.500, std : 2.872\n",
      "------------------------------\n",
      "shape : (7,)\n",
      "array : [1 3 4 3 3 1 5] \n",
      "mean  : 2.857, std : 1.355\n",
      "------------------------------\n",
      "shape : (4, 3)\n",
      "array : \n",
      "[[7 8 9]\n",
      " [1 2 3]\n",
      " [3 2 1]\n",
      " [4 5 6]] \n",
      "mean  : 4.250, std : 2.618\n",
      "------------------------------\n"
     ]
    }
   ],
   "source": [
    "#np.random.permutation(e) : 0 ~ e-1 값을 갖는 정수의 무작위 순서 1차원 배열 생성\n",
    "#np.random.permutation(c) : c 요소들에 대해 무작위 순서로 변경된 1차원 배열 생성\n",
    "# e : 정수, c : array_like 객체\n",
    "\n",
    "# 0~9까지의 정수로 구성된 무작위 순서 1차원 배열 생성\n",
    "a = \n",
    "\n",
    "# data를 무작위 순서로 변경한 배열 생성\n",
    "data = np.array([1,3,4,5,3,1,3])\n",
    "b = \n",
    "\n",
    "# mylist를 무작위 순서로 변경한 배열 생성\n",
    "mylist = [[1,2,3],[4,5,6],[7,8,9],[3,2,1]]\n",
    "c = \n",
    "printary(a, b, c)"
   ]
  },
  {
   "cell_type": "markdown",
   "metadata": {
    "id": "N5wKSDBISP9s"
   },
   "source": [
    "### 1-05. 특정값으로 채워진 ndarray생성"
   ]
  },
  {
   "cell_type": "code",
   "execution_count": null,
   "metadata": {
    "id": "go9HTvACVz0o"
   },
   "outputs": [],
   "source": [
    "import numpy as np"
   ]
  },
  {
   "cell_type": "code",
   "execution_count": null,
   "metadata": {
    "id": "giV_NupJM07F"
   },
   "outputs": [],
   "source": [
    "def printary(*a):\n",
    "    for x in a:\n",
    "        print(f'{x.dtype}\\n{x}')\n",
    "    print(\"-\" * 30)"
   ]
  },
  {
   "cell_type": "code",
   "execution_count": null,
   "metadata": {
    "colab": {
     "base_uri": "https://localhost:8080/",
     "height": 124
    },
    "id": "V-FFUiygW80K",
    "outputId": "f8afd130-f2bf-4209-8a04-6696728dd9e9"
   },
   "outputs": [
    {
     "name": "stdout",
     "output_type": "stream",
     "text": [
      "int32\n",
      "[0 0 0 0 0 0 0 0 0 0]\n",
      "float64\n",
      "[[0. 0. 0.]\n",
      " [0. 0. 0.]]\n",
      "------------------------------\n"
     ]
    }
   ],
   "source": [
    "#np.zeros(shape, dtype=float64)\n",
    "#shape: 정수(1차원), tuple(1차원 이상)\n",
    "mshape = (2, 3)\n",
    "\n",
    "# 0으로 채워진 (10,) shape의 배열, dtype = np.int32\n",
    "a = \n",
    "\n",
    "# 0으로 채워진 mshape => (2, 3) shape 크기의 배열\n",
    "b = \n",
    "printary(a, b)"
   ]
  },
  {
   "cell_type": "code",
   "execution_count": null,
   "metadata": {
    "colab": {
     "base_uri": "https://localhost:8080/",
     "height": 192
    },
    "id": "JVQ-9uQ8NBiC",
    "outputId": "4393394a-763f-4710-bd72-5224ea4fa6bc"
   },
   "outputs": [
    {
     "name": "stdout",
     "output_type": "stream",
     "text": [
      "shape : (10,)\n",
      "array : [5 0 6 0 7 0 8 0 9 0] \n",
      "mean  : 3.500, std : 3.640\n",
      "------------------------------\n",
      "shape : (2, 3)\n",
      "array : \n",
      "[[17.2 17.2 17.2]\n",
      " [17.2 17.2 24.2]] \n",
      "mean  : 18.367, std : 2.609\n",
      "------------------------------\n"
     ]
    }
   ],
   "source": [
    "#np.empty(shape, dtype=float64)\n",
    "\n",
    "# 별도 채우기가 되지 않은 10 크기의 배열, dtype = np.int32\n",
    "a = \n",
    "\n",
    "# 별도 채우기가 되지 않은 mshape 크기의 배열\n",
    "b = \n",
    "printary(a, b)"
   ]
  },
  {
   "cell_type": "code",
   "execution_count": null,
   "metadata": {
    "colab": {
     "base_uri": "https://localhost:8080/",
     "height": 141
    },
    "id": "N6hR3FHBND2r",
    "outputId": "387d312e-bfc3-4f25-94f8-dfb9a39cde5c"
   },
   "outputs": [
    {
     "name": "stdout",
     "output_type": "stream",
     "text": [
      "float64\n",
      "[[1. 1. 1.]\n",
      " [1. 1. 1.]]\n",
      "int64\n",
      "[[5 5 5]\n",
      " [5 5 5]]\n",
      "------------------------------\n"
     ]
    }
   ],
   "source": [
    "#np.ones(shape,dtype=float64)\n",
    "#np.full(shape, value, dtype=None)\n",
    "\n",
    "# 1로 채우기 된 mshape 크기의 배열\n",
    "a = \n",
    "\n",
    "# 5로 채우기 된 mshape 크기의 배열\n",
    "b = \n",
    "printary(a, b)"
   ]
  },
  {
   "cell_type": "code",
   "execution_count": null,
   "metadata": {
    "colab": {
     "base_uri": "https://localhost:8080/",
     "height": 248
    },
    "id": "DofBjBf_V6yg",
    "outputId": "95a1d5e6-9a65-4361-bea0-920dcd6d5119"
   },
   "outputs": [
    {
     "name": "stdout",
     "output_type": "stream",
     "text": [
      "float64\n",
      "[[1. 0. 0.]\n",
      " [0. 1. 0.]\n",
      " [0. 0. 1.]]\n",
      "float64\n",
      "[[0. 0. 1. 0. 0.]\n",
      " [0. 0. 0. 1. 0.]\n",
      " [0. 0. 0. 0. 1.]]\n",
      "float64\n",
      "[[0. 0. 0. 0. 0.]\n",
      " [1. 0. 0. 0. 0.]\n",
      " [0. 1. 0. 0. 0.]]\n",
      "------------------------------\n"
     ]
    }
   ],
   "source": [
    "#np.eye(N, M=None, k=0, dtype=float64)  \n",
    "\n",
    "# 대각선이 1로 채워진 3*3 배열 (나머지는 0으로 채워짐)\n",
    "a = \n",
    "\n",
    "# [0,2] 위치부터 대각선이 1로 채워진 3*3 배열 (나머지는 0으로 채워짐)\n",
    "b = \n",
    "\n",
    "# [1,0] 위치부터 대각선이 1로 채워진 3*3 배열 (나머지는 0으로 채워짐)\n",
    "c = \n",
    "printary(a, b, c)"
   ]
  },
  {
   "cell_type": "code",
   "execution_count": null,
   "metadata": {
    "colab": {
     "base_uri": "https://localhost:8080/",
     "height": 106
    },
    "id": "15p7gou2NHYX",
    "outputId": "840b905a-0a7c-48b0-a5e0-3d66650d92c5"
   },
   "outputs": [
    {
     "name": "stdout",
     "output_type": "stream",
     "text": [
      "int64\n",
      "[0 0 0]\n",
      "int64\n",
      "[    63714208 481036337152 433791696997]\n",
      "------------------------------\n"
     ]
    }
   ],
   "source": [
    "#np.zeros_like(array_like, dtype=None)\n",
    "\n",
    "# 주어진 배열과 같은 크기의 0으로 채워진 배열\n",
    "a = \n",
    "\n",
    "# 주어진 배열과 같은 크기의 채워지지 않은 배열\n",
    "b = \n",
    "printary(a, b)"
   ]
  },
  {
   "cell_type": "code",
   "execution_count": null,
   "metadata": {
    "colab": {
     "base_uri": "https://localhost:8080/",
     "height": 124
    },
    "id": "nYL2G9CyWb4C",
    "outputId": "4f9f8b8a-0be5-43c1-e974-eecf618ec4e5"
   },
   "outputs": [
    {
     "name": "stdout",
     "output_type": "stream",
     "text": [
      "float32\n",
      "[[1. 1. 1.]\n",
      " [1. 1. 1.]]\n",
      "int64\n",
      "[5 5 5 5 5]\n",
      "------------------------------\n"
     ]
    }
   ],
   "source": [
    "# 주어진 배열과 같은 크기의 1로 채워진 배열\n",
    "a = \n",
    "# 주어진 배열과 같은 크기의 5로 채워진 배열\n",
    "b = \n",
    "printary(a, b)"
   ]
  },
  {
   "cell_type": "markdown",
   "metadata": {
    "id": "HDM07aLpZ0QY"
   },
   "source": [
    "## 4.view or copy"
   ]
  },
  {
   "cell_type": "markdown",
   "metadata": {
    "id": "JWzSYO02NO8W"
   },
   "source": [
    "![image.png](data:image/png;base64,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)"
   ]
  },
  {
   "cell_type": "code",
   "execution_count": null,
   "metadata": {
    "id": "pMXJUkFkaPf2"
   },
   "outputs": [],
   "source": [
    "def npinfo(n, a, x):\n",
    "    print(\"name    :\", n)    \n",
    "    print(\"share   :\", np.may_share_memory(a, x) )\n",
    "    print(\"data    :\", x.tolist())    \n",
    "    print(\"ndim    :\", x.ndim)\n",
    "    print(\"shape   :\", x.shape)\n",
    "    print(\"dtype   :\", x.dtype)\n",
    "    print(\"-\" * 30)"
   ]
  },
  {
   "cell_type": "code",
   "execution_count": null,
   "metadata": {
    "colab": {
     "base_uri": "https://localhost:8080/",
     "height": 266
    },
    "id": "WkEdtd79abHO",
    "outputId": "bf642708-3971-4daf-f439-d1d58270ac72"
   },
   "outputs": [
    {
     "name": "stdout",
     "output_type": "stream",
     "text": [
      "name    : original\n",
      "share   : True\n",
      "data    : [[True, True], [False, False]]\n",
      "ndim    : 2\n",
      "shape   : (2, 2)\n",
      "dtype   : bool\n",
      "------------------------------\n",
      "name    : copy\n",
      "share   : False\n",
      "data    : [[False, True], [False, False]]\n",
      "ndim    : 2\n",
      "shape   : (2, 2)\n",
      "dtype   : bool\n",
      "------------------------------\n"
     ]
    }
   ],
   "source": [
    "# copy\n",
    "a = np.array([[True, True], [False, False]], dtype=np.bool)\n",
    "b = a.copy()\n",
    "b[0, 0] = False  # 0 also can use\n",
    "npinfo(\"original\", a, a)\n",
    "npinfo(\"copy\", a, b)"
   ]
  },
  {
   "cell_type": "code",
   "execution_count": null,
   "metadata": {
    "colab": {
     "base_uri": "https://localhost:8080/",
     "height": 266
    },
    "id": "ek_KJjLDabUn",
    "outputId": "e469cbcd-eec9-49e5-af28-8b069eca9b2b"
   },
   "outputs": [
    {
     "name": "stdout",
     "output_type": "stream",
     "text": [
      "name    : original\n",
      "share   : True\n",
      "data    : [[False, True], [False, False]]\n",
      "ndim    : 2\n",
      "shape   : (2, 2)\n",
      "dtype   : bool\n",
      "------------------------------\n",
      "name    : view\n",
      "share   : True\n",
      "data    : [[False, True], [False, False]]\n",
      "ndim    : 2\n",
      "shape   : (2, 2)\n",
      "dtype   : bool\n",
      "------------------------------\n"
     ]
    }
   ],
   "source": [
    "# view\n",
    "a = np.array([[True, True], [False, False]], dtype=np.bool)\n",
    "b = a.view(np.bool)\n",
    "b[0, 0] = 0\n",
    "npinfo(\"original\", a, a)\n",
    "npinfo(\"view\", a, b)  "
   ]
  },
  {
   "cell_type": "markdown",
   "metadata": {
    "id": "9KmFk1z7bK2q"
   },
   "source": [
    "## 5.ndarray 변환 (reshape, flatten)"
   ]
  },
  {
   "cell_type": "code",
   "execution_count": 14,
   "metadata": {
    "id": "zgGKTwcGbS3R"
   },
   "outputs": [],
   "source": [
    "import sys\n",
    "def npinfo(n, a, x):\n",
    "    print(\"name   :\", n)\n",
    "    print(\"share  :\", np.may_share_memory(a, x))\n",
    "    print(\"data   :\", x.tolist())  \n",
    "    print(\"shape  :\", x.shape)\n",
    "    print(\"dtype  :\", x.dtype)\n",
    "    print(\"stride :\", x.strides)\n",
    "    print(\"addr   :\", x.__array_interface__['data'][0])    \n",
    "    print(\"sizeof :\", sys.getsizeof(x))\n",
    "    print(\"-\" * 30)"
   ]
  },
  {
   "cell_type": "code",
   "execution_count": 15,
   "metadata": {
    "colab": {
     "base_uri": "https://localhost:8080/",
     "height": 34
    },
    "id": "9bkijYh2vSap",
    "outputId": "0fc2b5dd-1a67-4c91-9904-776248bc61a3"
   },
   "outputs": [
    {
     "data": {
      "text/plain": [
       "3"
      ]
     },
     "execution_count": 15,
     "metadata": {},
     "output_type": "execute_result"
    }
   ],
   "source": [
    "a = np.array([[[1]]])\n",
    "a.ndim"
   ]
  },
  {
   "cell_type": "code",
   "execution_count": 16,
   "metadata": {
    "id": "usUyWzzc9r5I"
   },
   "outputs": [],
   "source": [
    "##  reshape은 반드시 익혀 주세요!"
   ]
  },
  {
   "cell_type": "code",
   "execution_count": 24,
   "metadata": {},
   "outputs": [
    {
     "data": {
      "text/plain": [
       "array([ 0,  1,  2,  3,  4,  5,  6,  7,  8,  9, 10, 11, 12, 13, 14, 15, 16,\n",
       "       17, 18, 19, 20, 21, 22, 23])"
      ]
     },
     "execution_count": 24,
     "metadata": {},
     "output_type": "execute_result"
    }
   ],
   "source": [
    "a = np.arange(24).reshape(12, -1)\n",
    "b = a.reshape(-1)\n",
    "b"
   ]
  },
  {
   "cell_type": "code",
   "execution_count": 19,
   "metadata": {
    "colab": {
     "base_uri": "https://localhost:8080/",
     "height": 367
    },
    "id": "FuKowQEnbaD1",
    "outputId": "8e820cbb-0b35-4dc5-c082-86acb992ef9f"
   },
   "outputs": [
    {
     "name": "stdout",
     "output_type": "stream",
     "text": [
      "name   : a.reshape(1, -1)\n",
      "share  : True\n",
      "data   : [[1, 2, 3, 4, 5, 6]]\n",
      "shape  : (1, 6)\n",
      "dtype  : int64\n",
      "stride : (48, 8)\n",
      "addr   : 140656511144800\n",
      "sizeof : 112\n",
      "------------------------------\n",
      "name   : a.reshape(-1)\n",
      "share  : True\n",
      "data   : [1, 2, 3, 4, 5, 6]\n",
      "shape  : (6,)\n",
      "dtype  : int64\n",
      "stride : (8,)\n",
      "addr   : 140656511144800\n",
      "sizeof : 96\n",
      "------------------------------\n",
      "name   : a.reshape(-1, 1)\n",
      "share  : True\n",
      "data   : [[1], [2], [3], [4], [5], [6]]\n",
      "shape  : (6, 1)\n",
      "dtype  : int64\n",
      "stride : (8, 8)\n",
      "addr   : 140656511144800\n",
      "sizeof : 112\n",
      "------------------------------\n"
     ]
    }
   ],
   "source": [
    "#np.reshape(a, newshape: int or tuple or ints, order='C')\n",
    "#arr.reshape(newshape: int or tuple or ints, order='C')\n",
    "import numpy as np\n",
    "a = np.array([[1,2,3],[4,5,6]])   \n",
    "b = a.reshape(1, -1)   # axis=0, axis=1  (축 번호)    # 1 * x = 6\n",
    "c = a.reshape(-1)\n",
    "d = a.reshape(-1, 1)\n",
    "#print(a.size)    # a.shape => (2, 3)\n",
    "npinfo(\"a.reshape(1, -1)\", a, b)\n",
    "npinfo(\"a.reshape(-1)\", a, c)\n",
    "npinfo(\"a.reshape(-1, 1)\", a, d)\n",
    "#b[0,0] = 100\n",
    "#c[1] = 200\n",
    "#print(a)"
   ]
  },
  {
   "cell_type": "code",
   "execution_count": null,
   "metadata": {
    "colab": {
     "base_uri": "https://localhost:8080/",
     "height": 192
    },
    "id": "9C5cNwsBgG-a",
    "outputId": "1b58880b-76ff-47e2-ec7c-eee07b2d82f1"
   },
   "outputs": [
    {
     "name": "stdout",
     "output_type": "stream",
     "text": [
      "name   : a.reshape(-1)\n",
      "share  : True\n",
      "data   : [100, 200, 3, 4, 5, 6]\n",
      "shape  : (6,)\n",
      "dtype  : int64\n",
      "stride : (8,)\n",
      "addr   : 33135264\n",
      "sizeof : 96\n",
      "------------------------------\n"
     ]
    },
    {
     "data": {
      "text/plain": [
       "([[100, 200, 3], [4, 5, 6]], [100, 200, 3, 4, 5, 6])"
      ]
     },
     "execution_count": 52,
     "metadata": {
      "tags": []
     },
     "output_type": "execute_result"
    }
   ],
   "source": [
    "# 1차원 변경\n",
    "b = \n",
    "npinfo(\"a.reshape(-1)\", a, b)\n",
    "a.tolist(), b.tolist()"
   ]
  },
  {
   "cell_type": "code",
   "execution_count": null,
   "metadata": {
    "colab": {
     "base_uri": "https://localhost:8080/",
     "height": 174
    },
    "id": "lYYJy0iUgV46",
    "outputId": "068ac301-cc89-4846-c309-3ace3a6bb97a"
   },
   "outputs": [
    {
     "name": "stdout",
     "output_type": "stream",
     "text": [
      "name   : a.reshape(-1, 1)\n",
      "share  : True\n",
      "data   : [[1], [2], [3], [4], [5], [6]]\n",
      "shape  : (6, 1)\n",
      "dtype  : int64\n",
      "stride : (8, 8)\n",
      "addr   : 33135360\n",
      "sizeof : 112\n",
      "------------------------------\n"
     ]
    }
   ],
   "source": [
    "# 6행 1열의 배열\n",
    "b = \n",
    "npinfo(\"a.reshape(-1, 1)\", a, b)"
   ]
  },
  {
   "cell_type": "code",
   "execution_count": null,
   "metadata": {
    "colab": {
     "base_uri": "https://localhost:8080/",
     "height": 52
    },
    "id": "9zqDDVlOmy71",
    "outputId": "92bbf5df-37c1-404c-b0c4-4b31cae0e97b"
   },
   "outputs": [
    {
     "name": "stdout",
     "output_type": "stream",
     "text": [
      "[[1 2 3]\n",
      " [4 5 6]] int16\n"
     ]
    }
   ],
   "source": [
    "a = np.array([[1,2,3], [4, 5, 6]], dtype=np.int16)\n",
    "print(a, a.dtype)"
   ]
  },
  {
   "cell_type": "code",
   "execution_count": null,
   "metadata": {
    "colab": {
     "base_uri": "https://localhost:8080/",
     "height": 349
    },
    "id": "GLsPy4mtglYe",
    "outputId": "c1ff8284-0bbc-414f-f122-8d06df8b804e"
   },
   "outputs": [
    {
     "name": "stdout",
     "output_type": "stream",
     "text": [
      "name   : a.flatten()\n",
      "share  : False\n",
      "data   : [100, 2, 3, 4, 5, 6]\n",
      "shape  : (6,)\n",
      "dtype  : int16\n",
      "stride : (2,)\n",
      "addr   : 49204128\n",
      "sizeof : 108\n",
      "------------------------------\n",
      "name   : a.reshape(-1)\n",
      "share  : True\n",
      "data   : [1, 200, 3, 4, 5, 6]\n",
      "shape  : (6,)\n",
      "dtype  : int16\n",
      "stride : (2,)\n",
      "addr   : 53411296\n",
      "sizeof : 96\n",
      "------------------------------\n"
     ]
    },
    {
     "data": {
      "text/plain": [
       "([[1, 200, 3], [4, 5, 6]], [100, 2, 3, 4, 5, 6])"
      ]
     },
     "execution_count": 66,
     "metadata": {
      "tags": []
     },
     "output_type": "execute_result"
    }
   ],
   "source": [
    "b = a.flatten()\n",
    "c = a.reshape(-1)\n",
    "b[0] = 100\n",
    "c[1] = 200\n",
    "npinfo(\"a.flatten()\", a, b)\n",
    "npinfo(\"a.reshape(-1)\", a, c)\n",
    "a.tolist(), b.tolist()"
   ]
  },
  {
   "cell_type": "code",
   "execution_count": null,
   "metadata": {
    "colab": {
     "base_uri": "https://localhost:8080/",
     "height": 174
    },
    "id": "41sZIwcRbaQq",
    "outputId": "80955631-8782-4b62-aad1-faa1e704d620"
   },
   "outputs": [
    {
     "name": "stdout",
     "output_type": "stream",
     "text": [
      "name   : a.astype(np.int32)\n",
      "share  : False\n",
      "data   : [[1, 2, 3], [4, 5, 6]]\n",
      "shape  : (2, 3)\n",
      "dtype  : int32\n",
      "stride : (12, 4)\n",
      "addr   : 39613216\n",
      "sizeof : 136\n",
      "------------------------------\n"
     ]
    }
   ],
   "source": [
    "# ndarray.astype을 사용하여 type을 변경할 수 있다\n",
    "a = np.array([[1,2,3],[4,5,6]], dtype = np.int64) \n",
    "\n",
    "# astype을 사용하여 np.int32로 타입을 변경하라\n",
    "b = \n",
    "npinfo(\"a.astype(np.int32)\", a, b)"
   ]
  },
  {
   "cell_type": "markdown",
   "metadata": {
    "id": "2n6eI33UErrP"
   },
   "source": [
    "## 6.ndarray의 연산\n",
    "- element-wise : 같은 shape을 갖는 두 배열 간의 연산, numpy 연산의 기본\n",
    "![image.png](data:image/png;base64,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)"
   ]
  },
  {
   "cell_type": "markdown",
   "metadata": {
    "id": "rncb5OyWbKyj"
   },
   "source": [
    "### 6-01. ndarray 산술연산"
   ]
  },
  {
   "cell_type": "code",
   "execution_count": null,
   "metadata": {
    "id": "xJhvY3vAr4xK"
   },
   "outputs": [],
   "source": [
    "import numpy as np"
   ]
  },
  {
   "cell_type": "code",
   "execution_count": null,
   "metadata": {
    "colab": {
     "base_uri": "https://localhost:8080/",
     "height": 52
    },
    "id": "XBILwgJ3HPNm",
    "outputId": "dfb91fc6-ad0a-44e3-fe5c-e704c9f31dd8"
   },
   "outputs": [
    {
     "data": {
      "text/plain": [
       "array([1, 2, 3, 4, 5, 6])"
      ]
     },
     "metadata": {
      "tags": []
     },
     "output_type": "display_data"
    },
    {
     "data": {
      "text/plain": [
       "array([ 7,  8,  9, 10, 11, 12])"
      ]
     },
     "metadata": {
      "tags": []
     },
     "output_type": "display_data"
    }
   ],
   "source": [
    "a = np.array( range(1, 7) )\n",
    "b = np.array( range(7, 13) )\n",
    "display(a, b)"
   ]
  },
  {
   "cell_type": "code",
   "execution_count": null,
   "metadata": {
    "colab": {
     "base_uri": "https://localhost:8080/",
     "height": 192
    },
    "id": "Y97R6B34b5E4",
    "outputId": "68ea7bd2-4621-4d9e-fb5c-833603be2b48"
   },
   "outputs": [
    {
     "name": "stdout",
     "output_type": "stream",
     "text": [
      "a = [1 2 3 4 5 6]\n",
      "b = [ 7  8  9 10 11 12]\n",
      "a +  b = [ 8 10 12 14 16 18]\n",
      "b -  a = [6 6 6 6 6 6]\n",
      "a *  b = [ 7 16 27 40 55 72]\n",
      "b /  a = [7.  4.  3.  2.5 2.2 2. ]\n",
      "b // a = [7 4 3 2 2 2]\n",
      "b %  a = [0 0 0 2 1 0]\n",
      "a +  2 = [3 4 5 6 7 8]\n",
      "b -  1 = [ 6  7  8  9 10 11]\n"
     ]
    }
   ],
   "source": [
    "#element-wise 방식으로 연산이 이루어짐\n",
    "a = np.array( range(1, 7) )\n",
    "b = np.array( range(7, 13) )\n",
    "print('a =', a)\n",
    "print('b =', b)\n",
    "print('a +  b =', a + b)\n",
    "print('b -  a =', b - a)\n",
    "print('a *  b =', a * b)\n",
    "print('b /  a =', b / a)\n",
    "print('b // a =', b // a)\n",
    "print('b %  a =', b % a)\n",
    "\n",
    "print('a +  2 =', a + 2)   # broadcasting => element-wise 연산을 위해 확장하는 것\n",
    "print('b -  1 =', b - 1)"
   ]
  },
  {
   "cell_type": "code",
   "execution_count": null,
   "metadata": {
    "colab": {
     "base_uri": "https://localhost:8080/",
     "height": 141
    },
    "id": "0Fby-36PcqHj",
    "outputId": "8e14dac4-fb4d-47dc-928d-4c7c3342bc3d"
   },
   "outputs": [
    {
     "name": "stdout",
     "output_type": "stream",
     "text": [
      "[[1 2 3]\n",
      " [4 5 6]]\n",
      "<class 'list'>\n",
      "a = [[1, 2, 3], [4, 5, 6]]\n",
      "b = [[7, 8, 9], [10, 11, 12]]\n",
      "a + b = [[8, 10, 12], [14, 16, 18]]\n",
      "a * b = [[7, 16, 27], [40, 55, 72]]\n"
     ]
    }
   ],
   "source": [
    "# tolist()를 사용하여 list로 변환\n",
    "a = np.array(range(1, 7)).reshape(2,3)\n",
    "b = np.array(range(7, 13)).reshape(2,3)\n",
    "print(a)\n",
    "print(type(a.tolist()))\n",
    "print('a =', a.tolist())\n",
    "print('b =', b.tolist())\n",
    "print('a + b =', (a + b).tolist())\n",
    "print('a * b =', (a * b).tolist())"
   ]
  },
  {
   "cell_type": "code",
   "execution_count": null,
   "metadata": {
    "id": "oqOIqJHNcThO"
   },
   "outputs": [],
   "source": [
    "# element-wise 성립하지 않음 (broadcasting안됨)\n",
    "a = np.array( [1, 3, 5] )\n",
    "c = np.array( [7, 9] )\n",
    "print('a + c =', a + c)"
   ]
  },
  {
   "cell_type": "markdown",
   "metadata": {
    "id": "U25cgbTwco-C"
   },
   "source": [
    "### 6-02. ndarray broadcasting\n",
    "- broadcasting 이란?\n",
    "- element-wise가 성립하지 않는 경우 두 배열의 크기를 동일하게 만들어 연산가능하도록 하는 것  \n",
    "- broadcasting의 배열 전환 원리\n",
    "   - 한 배열 shape이 다른 배열 shape의 부분 shape이면 차원이 높은 배열 shape을 따름\n",
    "   > (4, 2) + (2, ) => (4, 2)\n",
    "   - 요소 개수가 1인 차원에 대해 다른 배열의 동일 차원의 요소 수를 따름\n",
    "   > (5, 1) + (3, ) => (5, 3), (5, 1, 4) + (3, 1) => (5, 3, 4)\n",
    "   - 스칼라 값은 상대 배열의 shape과 같은 shape, 동일 값으로 구성된 배열이 됨\n",
    "   > (2, 3) + 2 => (2, 3)\n",
    "\n"
   ]
  },
  {
   "cell_type": "markdown",
   "metadata": {
    "id": "x7JfrTpARGjH"
   },
   "source": [
    "![image.png](data:image/png;base64,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)"
   ]
  },
  {
   "cell_type": "markdown",
   "metadata": {
    "id": "83xoHNBsRQcc"
   },
   "source": [
    "![image.png](data:image/png;base64,iVBORw0KGgoAAAANSUhEUgAAAfAAAACgCAYAAADzVT6lAAAgAElEQVR4Ae2dB3gU1fqHJ5tsQuhF6SgogqJ0Ra6oEKp0gwhYQKVKVRCkSZEmV0EUEREpgvWKF0UBUaqAXBVEmnQE8geEGJCSkIQkvP9ndneyk8nuZpPsJLvLt88zOzNnznznfL8zu++cM+ecUZCPKCAKiAKigCggCgScAkrA5VgyLAqIAqKAKCAKiAIIwOUiEAVEAVFAFBAFAlABAXgAFppkWRQQBUQBUUAUyATwS5cuceDAAVlEg6C8Bg4fPpzrX31KSgqJiYmyiAYBfw1cu3Yt178HMZB/CmQC+O7du5kwYQKffvqpLKJBUF0DixYtsl3buf25rVu3zmZn2rRpyCIaBOo1oP7Pr169Orc/Bzk/HxVwCfBly5blY5YkaVHAHAXi4+OZPn16ro2rAN+0aVOu7YgBUSA/Fdi2bZsAPD8LwAdpC8B9IKKYCAwFBOCBUU6Sy7xRQACeNzqbmYoA3Ex1xbZfKSAA96vikMzkswIC8HwuAB8kLwD3gYhiIjAUEIAHRjlJLvNGAQF43uhsZioCcDPVFdt+pYAA3K+KQzKTzwoIwPO5AHyQvADcByKKicBQQAAeGOUkucwbBQTgeaOzmakIwM1UV2z7lQICcL8qDslMPisgAM/nAvBB8gJwH4goJgJDgfwE+PXr11EXTx93cfTh+m2jLf0x/bY+njFc3Td+jHGMx7V9b+K5i6NP11Mc/TH9tpYHdW0MV/eNH2Mc43Ft35t47uLo0/UUJ6fxtDxqa3dpaMezWgvAs1LI/48LwP2/jCSHPlJAAB6YsNOA5w5YxnAtvv6yMcbRH9NvexPPXRx9up7i5DSePp/qtrs0jPHc7QvA3SkTOOGmAXzhwoX06/dMUC29eok//l6m6nXn7iMAz/ynr4eJppu3YPAmnrs4+nQ9xdEf029reVXXxnB13/gxxjEe1/a9iecujj5dT3FyGk/Lo7Z2l4Z2PKu1ADwrhfz/uGkA79u3F9hedqYmEfjL+fMKo0YFvh/6slD9Uf3ShwX6tv26c/3Dyw+A9+/fn169egXNEh0dTZMmTYLGH7VsatWqFVT+REVF8euvv7r+EehCBeA6MQJ0U/33zvBR50LPzVSq2l1hnz49uX5dCZolLk5h5Mjg8UctG9Uf1a9gKif7def6eXN+ALxfv36235f2u8jwYzPsuIujD9dvG07PUBN1F88Yru4bP8Y4+uMqGD744ANbkKd42jnu4ujT9RRHf0y/rdlX18Zwdd/4McbRH9fKyJUtfTxt250tfbqe4uQ0npa+tnaXhtoK9fPPP2vR3K4F4G6lCZgDAnAvbzIE4IEBegG4HV7u/tyN4XqYaP9axjhauLoWgGe+YdD00WvpTkNjuHFfb8toTzumrd2dKwDXFAr+tc8BrkkmTej+3zQtTeja1Zq9dXZeZqLV7tz92epTdhdHH67f1p+rbuuP6bf18Yzh6r7xY4yjPy4Az6izXhu9lu40NIYb9zV7xnB13/gxxtGOBxTAk+B0DMQlaLn3bp14HmJOQTZP82hctXkqFtI8xnJ/MD4WTp93f9yMIwJwL5/PyzNw/78hUZ/f+9szcAG468cZeiC5A5EWrsXV9o1/hMZwLb4+njGO/phWRmqYp3jaOe7i6NP1FCen8bT0tbW7NPwB4GePwdEzWk4hMRYOHYGLqXBkDtxZDSb9DJcXQ4QCTd7KCM6YzTDlJejVG0bNgB2xTlvq1vzWoITDzOMZw3O6l7QXmpaEeydAUg6N7JoChYvD9N9zaCAHpwnABeDSiS2bPxypgcszcD2EtctHH+YOrsZw477eltGedkxbuzvXlwBfOwxuqQgVK8Gtt0HtB2HALIhJ0XLhYp0AHSMgPApiHNXZr7qDxQqT9sHuCWANhQHrnQBvPMsB8DTYMBZKhEKZmtChHVQrAdZyMPh1mD3bvjx9DyhWmPGni/SzG5QM0x4A6+2w9rL95L9+hBE9oFEduKMa3N8chs6FM6kejMfDkGpQqAHsyOldgAfzrg4FPsATFdZ8qjD+XYWka+bVEvOqBv7DcoVJkxTGj1dYvkXhqok+md2EnpaqsHm1wquvKoyfoPD2ZwpnrppXRlIDd9Z23f25G8P1kND+IIxxtHB1LU3o7mvpei3daWgMN+5rWhvD1X3jxxhHO+5LgNvAGwrRU2HJBzCyA0RaoPoQcLBOS9a5zgXAU36FWlYo1xliHLBM2gdNikKIFSrXgLvvhopFswZ42jmY0ReGfui5qf3UIigVClFvgcbnY+9BVDSMfR3mz4G+TSAiBO4cDP84Pc20dXwOFAmFNu9nbFHIFNFHAT4HuHZRmd0LPeWSws5NCk+3VSgYoaDUVLiUYF5HK7M7sSXGKbzUQaFgAQVFsS8FCiv0mKwQ72VHu+z2Jje7F/ryCQqFIp3+hEYo1OyssPe8eeV0I3Ziu349jYRzR5k1th9PjF1g+2vQfofG/wljuLpv/Bjj6I+bDvDrqcT+32+8Obk/nTt35slnhrN4zV6SUz2DU++HflvLuyefzG1CTyP2z++ZOPYFmz+de/Rg5udr+PuavQrrLl/G8Oz45HOAW2HsdoeSCdDvFggtD6vd1TJzAfAzcyA8BDp9opUcNhK++TBYSsCXifbw+Y9kDfCzc+3QDa0Aa9zlNQUm3weW4rDknC5N42YSjK4JIcXhC08P3uOgc0mw1oVdnlopjPZzuB+wAN/1kULF4goWq0JISOAD/MwhheYNFYa+r/DtGoX3xyiEKwrFqiisOWQO8MwG+Mp/K4yYpbByjcLSxQr3FFJQwhWmfWOOP+oNzI0G8MSz/8eqpW/Q4K4ithu/iAcG2f4KjADQ/h+M4dkBg2rDbICf3fUl91csmn4Ta7uZDSnBy0v2kOhmOtrc+mQuwM/wWJXwjP6ERfLAy3NNKydTAZ4C4+uApSQsd8BUu7bS1w6Ah1WGQSNh5Eh4vJa9Bp1VE3r8cihtgXrjIZ1/V+D5yhBSGLoOt9trWzVrgKfGwOhO0H2W+9aC1P3QwAqF28I5T73XUmHq/Xa/v/QEcGBxB7uvE/ekK2Lahs8BruXU7F7oW+YolG2kMGi0HeRKLYXLJjbPmt2EfuWKwpEzCtcdz+TT0hQaF1FQSios3GBOs7PZTej6SWHSEhXGdlBQrHaA64/5cvtG68S29o1nKRphJbRgIduNbKADfOfK2bR/5hkW/riD/fu3M3NgWyIUhdIPPMvR2Ku2Tmbaf4y29m+A/82bw17m65+2c+DAARa++hQ3R4RiKfgQ+zx0msuNT2YAfMRmiDsNa2bALWFwcyc44w54DoCrkH8wCqKioE55A8BVSD8OA1tDmALpz8CTYGojCC0E0WPhw0UwtAWEW6FmY7st1V6Nm7IGuHZ9eFr/swQKhUAd/Q2DdkIyXDwPBzbDpMehsAVqjYAr2nE3632TwBoCbe2NYW5i+SY4YAGekqxwJVHh+FaFu29WCHSAGyF2JUahSohC0coKaw4GJsDTUhS2rVL45BOFN8cplApVqNNK4fcYc/xRNbzRAP7ta12o2r47E6e8SOnCCoEO8Li4c/wdb6/aqRA7/tvH3KU+hqn6CHtjLgYgwPV/1Ne5tGs591QoSOhNLTkWKABXQNEt1tvgy9N6vwzb3jShh0CVhtCyLoTqAa62mF+ARS9Bw+pQthzUjIKpqyFZl4w3Tei66G43bbBVoI0L2P4xBaya3xao/yKc1h6Su7UIV5ZApLubAg/n5eRQwAJcA17MT8EH8FN7FJ5/REGxKLQYpHDFpI5sZtfAr11V6F7L8Qw8RKFMHYX53ykkmOTPjQhw7Ud/9Pu53Fos8AGu+aOuVYD//PnLlFQUKjcfyIkLyQEJ8EunDvDJwrnMnTuNxx+8hUIFK9Jj0nKbq8aatua/MVzdN36McbTjZtTABy6DLT/A7CFQzgpVnoKT7mDmDcDd9ULXnMhivX8FzJoNu+KziJjF4Z3j7LXlRz/KHDH5LOz8Fdb/F4Y/AgUKQY+PdU37mU+xhSR8BkVCoMbIjDcdbqLnKlgA7mfDyA6uVmhSxQ69uo8qHDZxrnKzAZ6aovD9Jwpvv63wymCFcoUVIkspzFgpNXBXv1p3f8j6cP223kbwATyZXd/M44FqpVDCSzD6o19ITnX2stf7btRE3Td+jHH0x819Bg7HNy7mjpKOG9mCBXmw21A2HfjblgV3+TKGZ8cnMwCuPrvWPl8+ZR8SNtrddOsOgFvrw9q9sG8fvNXW0ISeBcBTD0G726CiOoTN1VIJqjaCje6ew2uZzWL95wx7LTtqdha9xpNg1D1guRmWXfRs9Nx7EK5Aw9ecvdo9n5Hzoz4HuHbhmd0LXetxfXKrQo2bAr8Tm+rPwVUKN4UqRBZR6PGSwt+p5nX2UtMzuxObVka2dZrCtzMVCocoVO1qnl83Wic27acfVABPjmfz/GncWlDtM1GMDsPmo1a0tP8WzWdtbQzPDuxUG2YDXF8D79GyJpFhoZS+pyt7L5rjk9kA3/sqWC3Q42utBAzrJBh8O4Rozc+OdehNsPRsFuPANVMXYeUSWLTI9dK7jn0il3f/0k7IvE6LhVkDYMRH4I7ziSuhrAUqD8x6ApcFbexpvnkic1r6kM0vQpgFun+lDzVnWwDu5RAts4eRnT+m0O4uhfAiCq8vVohPNA9yGljNBHhqkkLMUYVL1xTSriskJiq8P0IhMkThnmfM800AHti90NX+wsunPUeRkBBKlruLifN+4FKqvbeUEdTaX6Ix3N8AruUTrpOacoJBD9yOEhLKmC+PmXJTYirAU2BWFFgi4N8HnZ5l2kqBC3EQG+tY4uCyYyiXx4lcNEOpsHE+TJ4MkyZlXjpVzxrgXg0ji4Po4mCtB7vTu71rmXCu005BpzIQVg226h/GO6PYt1JhSgMIKQILzhoP+n5fAO4nAN/9iX3YWJHyCl27K/TubV8GjFDYedIc4JkJ8CvHFbo1UmjzlELP3gpdHlcooY5xj1AY/qE5/qg3JgLwwAb4n1s+pHaZAkQUa8BXW46SdC01/bm3EdTa36Ex3J8AnnIljtN//U1imv0m5J+4nXSvWwklxMKr35wKDICHQtP+MPJFiK5vr33XfxkuuOuFrhWMm7U3AE89Co2s9rHf9zaABsblfngoGn52N74bSD0BIzrCE2+Ap1bvL560PxIYt9OR4Qvw2K3QsjuMeRUmjYKmVcBSFF5cpWtqT4O9m2DdRjjr0CJlD9S3wk2PQ2wO9XEjm8tgnwNcS8XsYWTB1olt1WTnhCfaRC7qOrKCwvKdajH5fjHzGXhSnMJrAxUqRCpYHBPT1KinMG2RwlUTfNH0udF6oWu/t2BpQv94RDPC1GFjNZszbNiw9OWVtz4m9vK1dJhrfqtrfwb4me+mUateI3oMGWLz5ZGoWkSEKliK38PWs5nzrvmVG598WQPfNh2aRUHTptCyDXQfCPPXe57ZTPPB3dorgB+EhlYoFA1x8RDvaknANsGPu3S8DU/+He6NhEq9HKBPhs2LYWhPeLQNdOgKA8fBmqMZLSb/BNXDMk7asqYfhEXAOHf9AzKayPVewAM8OV7h0B8Kew4rpKb5HnIaGMweB37pnMKePZmXvfsVLpo0vt1MgKu6qWVzbL/CXodfp/4yt4zUNAXggV0Dn9KpcsZJTxw3fyUbPMmRc4kBB/ALO5fzwN1VKGqx2PyyWktxX7NH+Xjjfttbr4yg1v7RjeHqvvFjjKMd9yXANZu+XJ/8DNq3g3l7nXOhN9HmQncklHYaWhbMOHxNP5RN275vim9ytnUUFCwIk3d7b2/PRHsPdm0K1pR90Kgw1BzufuIY7617FzPgAa4B1uy12QA3O/+u7JsNcFdpmh12owI84e8YNq1bww8//2H75bv7czeGZwcMqmGzZ2I7+vuPfP/997ZlzZo1aMv6/+0mPsnZnK7/e8utT2Z3YjtzZB8/rV1r82ndup859bfznZPGvGt+GcOzU07+DnDNR3Wd9g/s2gFH4/Sh9u1/jsOOHbB9u5tlBxwyvKUssxUvQ5Jg0SDo+baXrQtpsKATlKkGnzvysGMOdBkAu931mPMyK9mJJgD3sjlXAG5e64YvoX6jAlz90ev/9PXb+j8EY3h2wKDaMRvgrvKq5dGYdy2uMVyLrx1X18Y4+mNmA1yfljEfxn0trjFc3Td+jHG044EEcC3Pss6ZAgJwAbgpz9d9CeXs2BKA2//o3f25G8OzAwb1L0YA7v5mQK+lUWft79kYbtz3FE87pq3dnSsA1xQK/rUAXAAuAM/m71zeBy7vA1fhafzow9zB1Rhu3NdsGsPVfePHGEc7LgDXlAj+tWkA7927F++9pwTNMmOGQqtWweOPWjaqP6pfwVRO6nXn7hMfH8/06dPdHfY6XAAuAHcHVO0icgdXY7hx39357tJzFS4A11QM/rVpAO/Tpw87duwImmXDhg08++yzQeOPWjaqP6pfwVRO6nXn7iMAz9z86woA7qCi6ipN6Jk11K43vZbuNDSGG/f1toz2tGPa2t25AnBNoeBfmwbwvn37BpV658+fZ9SoUUHlk+qP6lcwfTxdd/kB8P79+9OrV6+gWaKjo2nSpEnQ+KOWTa1atYLKn6ioKNuNVla/623btrF69eqsoslxP1ZAAO5l4QjAvRQqn6P5G8A1OdzVlrTj6tpdHH24flt/rvF8d/GM4eq+8WOMYzyu7XsTz10cfbqe4uiP6be1PKhrY7i6b/wY4xiPa/vexHMXR5+upzg5jaflUVu7S0M7ntVaAJ6VQv5/XADuZRkJwL0UKp+jCcDt8HL3524M18NEKzpjHC3cuPYmnrs4+nQ9xdEf02/r82IMV/eNH2Mc43Ft35t47uLo0/UUJ6fxtDxqa3dpaMezWgvAs1LI/48LwL0sIwG4l0LlczQBuABcD0jtcvQWdt7EcxdHn66nODmNp/mird2loR3Pai0Az0oh/z8uAPeyjATgXgqVz9H8FeD5LIskLwpkUkAAnkmSgAsICoBfSzjP4QMHOHryNEkeXgmXm9IxHeCp1/gr5hgHDhzIsPx56m9Sc5NxD+fmVSe25PgLxBw9ZPPr2KlYksxyCBCAeyhwOSQK6BQQgOvECNDNoAD4bx8NpYCicMuDT/KHr+bGNRSo6QD/5zjPt7gt04scaj46mQuGvPhqNy8AHn/8V0Z0b8mthcNtvhW7oxFz1nl6kXDuvBOA504/OfvGUUAAHvhlHfAAT4jZxqO1y9rgEMgAT4k7ynONK2ItUZFHOjxGly5dbMvwN/7LFZOuM7MBnnz+ME/eV5qQsAiq3/eAzZ+WDzSk/9zvTfJIauCmCSuGg04BAXjgF2mAAzyFVbP6cFORgkRYArsGfvWvA3S5twQl6j3GvtNX8+TKMhXgadfYMu95whUL9R8bxe7TZ20+XT4bw9HTLl495COP86oGvmjRIvbv3y+LaBCw18DSpUtlHLiP/nfyy0xAA/zykTXUK1OaVkOG8q9SgQ3wyzF7aF+jAOUeeIqD567lyfVgKsAvHKZvsztQClZnwca1fDxrAqNGTebj7/7AzLft5QXAd+/ezccff8ynn34qi2gQsNeAeg3/9ttvefJfI4mYo0DAAjz58klGd6zFbQ8/x4ZtqwIe4HFHt9G4ooLFGkHxkqUoVep2uvadw56Tl80pebDNLKc+2zfj8/f+zTxc2YJSth6N7ihPeGgIihJCeLEKPPf+N2YkabOZFwA3LfNiWBQQBUSBbCgQmABPSeLHhS9xc7GKvL3uKGePbwx4gJ87vI42d5WnYsWKVKhQnqKFIlCUMB7qNon/M6lnvZk18JjfllO3lIJiCee+HuP578pvmPpUawpaQihSuQOHTWpkEIBn49cvUUUBUSCgFQhIgB/5YTbVK5bmySlfkZwKcUEAcK5dg6v2Z9/Xrl1l86rXKKcoFLm1Lqv+MOeZuJkAP71rJfeWVlAqNmVHzD/2H8mJ76lVtgjhRUrx6R5zfjcCcHN0FauigCjgfwoEJMC/HPsIISEWipS4mXLlylGmdEmsIWrzcwHK33U/y3b4vlnY9GFkhmsjLe0QUcUUIivUZPlOcwaSmQnwqyd30L52CZTyTfglxpH/U+upX64o4UXK86VJI8kE4IYLSXZFAVEgaBUISIDvXv0BI0aMSF8G9e1G+QIKRSrcRZ+XX2PHiXifF5jZAL94ahf/23PE9mKGa9eusO2HyZRXFErc/hDrjib43B/VoJkA58qfDG19N4pyE4PfX8fFhBS2LRzHTYWsFK7UnF0mPdoXgJtyqYhRUUAU8EMFfA5wbX5e9b3M2rbZ67//3EDDkgqVGj3BvnPXTUk3Li6OkSNHmmJb1efgd9OofFMZqlSpQuXKt1CiaDhhkSXp9urnJKWa45Pqj+qXOeWTysFvZlGucDjWgiWpdEtlShQqQHjhSgydv46U6+b4pL/ujL83X71O1GhX9kUBUUAUyA8FggLg509upU310tRt/zwH/zYHDGYDPO7YLwzu0Jw7SpemdOkK3HFfB+b8ZyXn4pNNAux12w2JeQC/TlpqChs/mU3Le+tQunQZbqvZimmLN3D+6jXTfBKA58ffiKQpCogC+aGAzwGuOeGpKVOLE0hrs5vQ80MLU5vQ88OhPJoLPZ9cuyGSVVtJLl++nK0lOTn5htBGnBQFjAoIwI2KuNkXgLsRxs+CPd04ShO6nxWWi+zMnDmTCRMmMHHiRK8WNe727dtdWJIgUSD4FRCAe1nGAnAvhcrnaALwfC6AXCavAvypp56iU6dOXi1qZ1YBeC5Fl9MDVgEBuJdFJwD3Uqh8jiYAz+cCyGXyAvBcCiin31AK+BzgWo9mfWciLSyQ12Z3YssPbczthW5OZ8KsdNJfd8ZfsjShGxXxv30BuP+VieTIfxUwFeAHDhwgWJaff/4ZFQ7B4o/qh+qP6lew+aRB3vizE4AbFfG/fQG4/5WJ5Mh/FfA5wDVXf/jhB958801ZRIM8vQbU687dRwDuThn/CReA+09ZSE78XwHTAO7/rksObzQFBOD+X+L5BvC1U+HJAbDbpDcH5VT6s9/C00/Ckv05tZC782I3wZBh8PPF3NmRs01RwOcA15ovZZ0/z4BFd6fuxl+MANyoiP/t5w/A0+CtKLCUhZVmvq0+B3offA2soTBgfQ5O9sEp77eCkBDo9IkPjIkJXysgADdpSk8BqROk+aWF8cciADcq4n/7AnBDmeQlwFOPQasyUH80aHPjHPoQmrWEL04YMia7/qCAzwHuD05JHkQBVwoIwF2p4l9hAnBDeeQpwA/A/VaoMgiSDPmQXb9UQADul8UimTJDAQG4Gar61ma+A/ztz6B/V2j+CAycAUf1Teop8J9X4ZXFsHIytGgOs3c4BLgIy6ZBl9YQ1RyeGQkbYzKKc2wtvNIbWkVBVEvo/Sr8cSVjnNhfYPQz0KwpPD0G/vuKiyb0FNi6EHp1gqjG0DIaZv5ot5N4DN57BTq1gsZREN0blv2hS+MyfD4BOj0CzdpC/0nwRwL88jo8WB+KWqBABfjXQzDrd/hzBYweCz/G2W3s+ghGvwYbV0K/aIhqAb0nwUHjGxMTYdUM6NoamrWHsR/C2oUwejocS9XlRzZzo4AAPDfqybkBpYAA3P+LK18BHmKBsOIQPQiGPg1lrVC2HRzSgJMIT5cCS0GoUB+GDYMZmyDtLAyqaQ9v1gteHgR1S0FYWXhrt0P0VJjaBOq3hSGjYFg3KGGBCj3gvCPKhR+gZkEocif0fxmefRgKR0CI/hl4AsxsCdYI+NcTMGoMDO0Dr220G9k/FW6tD88OgTHDoF4JCK0Ay9VE0uCLJyE0FB7qZT/evDYsuQDHvoXxQ6BSKJRoCOMmwuoTsK4/hFphiqMT3eePg8UKkaWh8yB4uTdUtEKlHhCb5vR1SWcIs8Ddj8LLw6BRBYgIh9CKsEaq9w6hcr0SgOdaQjEQKAoIwP2/pPIV4IoFHv/ExjmbUptegLBQ6PmtQ7hEeLYMWIrDgtNOMdcPtMfTnxv/P6hXAIq0gBMOsKXoe7inwMT6YCkN36i1/FSYdj9YSsD8k870xtTOCPA9U6BAKLT/APTmtNykpdhMabvsmQhWCzz7DbZ28b4VIawa/KQ95E6PCakumtCNAF/WzZ6fZ792nvhhR7AUhg8ddyLJP0ONMLi5E/zl8D3hf3CPVQDuVM0nWwJwn8goRgJBAQG4f5SSOqvhwYMHXS7qS0yyOxf6Z599lsmWOjnRoUOHSMkATXf+O3qhhxSCJbrhUkkboUooVHvJ0akrEZ4rA9aGcFCrlSfDsGoQWgnW6muWaTC7Kag2FzianxOOwZyR0DEK6t4N5QpDSCR8lABp56BVASjQGmJ1+dw23H5zYOuFngpT7gNLeVhpbLLWzkmANXPguY5wf12oVg4sIRD9kb0G/snjEGqBOzvBcsPQNK8A/gSEhMPcs1qCsGkIhOlq6affgfAQaLfQGUftFffyXQJwnSK+2HQJ8Llz53Ly5ElZRIOgugbUP3X17VXyyV8FEhMTmTJliq0sXnnlFfTLmDFjeOKJJ7x6kYn6wpPnn3+ecePGZbAxfvx4m211lkHvPtowstKwQvfMO2U31FOb0Z8DW7AD4OHNnTVL9YDarG69D/7QoO5I9ese9ubmqQcgeTdEqc3vhaH5czDpDehVH0IK2AGeetDegazEk460HDb+mKJ7Bp4EA6uAtTbsdFX9ToYZ6nA4C1RtDiMmwYxedpg+qgJc/VyGT16C2wtBSAQ0H+/0xWuAR8B8x02JanLzi3aAT9pnT2LfJHutv4eulq62MLzxoADcrpDPvjMB/OjRo7z33nssWLBAFtEgqK6B+fPns2TJEp/9eMRQzhVQIf7OO+8wbNgwr2HtzRvKunXrZoP3Tz/9lI3MaTXwSHj/nPO8pA32Gnj14Rlr4CrAz2rPe5Phper2GvgaHfzV582zo+w18EVxjlqqBbp85miiTzhGmc8AACAASURBVIN31Bq6A+BqDfwRtQb+SMYa+IaB9mfWWg188r1gKQMr4p351LaSN8HtYVC6C5xz5O+MozacDnBH5MTjMOZhO+yfcYBWvYloaOiFnqkJXa2BZwHws+9DZAi0mud8HKHWwIfeIQDXyspH60wA95FdMSMKiAKigEcFfA3xnMFbzaID4EoIRM10joF29QxcbULPAHBAi/fYUiew4n+2PwMv3gZi0uDbnmAJg6Fb7JqkHodWxZ0AV2uoU7Vn4NqY6wvQuwoouk5sv0+ACAs0n5V5qFfit1DWAtWGOnxIhbmt7E3oRoCruYj9wA7aJrPseUo7Dg+Hwy3PO23nBOBpJ6FNcYisDxsdNfWjC6F8qB3gP+gfNdiTlu+cKSAAz5lucpYoIAr4QAFfQVyFt/r8fOvWrTnIlVYDD4PwSHioBwx+AspYoXRrOKg1V+ua0NNr4Cr/Y+HF2mCJhKhn4aX+UEdtVq8A8xxDuM6vgFutUOweGDgMHrkDCjmasRdftuf5/HdQIxIKV4O+L0J0bShg7IV+BV6LgrAwqNkBRoyFEf1gnNrR7jz0uhUsxSB6IPR5BIoVgogQaL8YG9X//RT0eRFGD4cmFe2d5t4+4NAsEdRObhHVYFBf6PgqfGfohb7Mixq4au3ox1C9IBQoDfVrQdHiULawvQPdFhcd6HJQanIKCMDlKhAFRIF8VSC3EM8dvB2u//ohjHvdPr55YBd4pD0Meh0O6TuLqc+YH4dHRoGur5vdwmX46nV4+lFo1RZ6vwJbzmTU9dAKGNAVWkfD0Ddhy9cwbgL8qmsOP/c/GPMctGkNz42DH7+D8ePhO61numoyBbYshL5doHkUPBINb262p5VwCKYPgHatocdQWLUFZo6DD3+1n7foBejUFlq0gicGwrK9GfP413ro1RE6PgWzN8HO2dC8JXx2yh5v6zRo9gis1o1f/2OePc4n+jwC8cdgySyY9hZs2ArNC0GR9hkfEWRMXfayqYAAPJuCSXRRQBTwvQI5hbhP4O17d8Ti1gWwcBUcjIGTu2FiS3tHt76rRBsfKiAA96GYYkoUEAVyrkB2IS7wzrnW5p6ZBiuGQkX1EYECat+CQrfA84tB19hgbh5uDOsC8BujnMVLUSAgFPAW4gLvACjOtCQ4fQyOxjg7xQVAtgMpiwLwQCotyasocAMokBXEBd43wEUgLnqlgADcK5mckWJPwvGzztEiziOet2JP5Ow8T1bVvJzJ1JnG0xm5P5Z2GY6fAH3XntxbFQuiQEYF3EFc4J1RJ9m7sRUQgGez/C+eg7P/ZPMkIKfneUpJtXk+j0malgBnz0mLmKdykWO+UWDjxo22SVm6du2aPtlL7969mTp1Kn///bdvEhErokAAKyAABxLOwqGjkD4wIgmOH4JT/0Dqn9D5Lmg8AZITIDoSrA/Cn/pZE5Ng84cw/HnoPQDe+BzO6Y9fhnYRYH0AjujDc3Hh7HsLbioIr/ySCyM5ODV5FzQsDA9PzzjjYw5MySmiQJYKbNq0KR3iAu8s5ZIIN5gCQQnwmIVQrRLc0dn5IiBP5bq0Iyjh8Lbj9b3ahEZ1x0PiH3CvFSr2haQEeLSAHeDaK23TzsPYhvY37t3TDKKbQckwKNsEXp8Ns9VlBtSygvVfvgG4Oq1yoyJQua9jOGoa7FoGg7vCA7Wh6p3Q8jlY+acnr10f++tHGNEDGtWFO6rB/c3gxTlwWnfjsXEIWAvBq9qrkF2bklBRwCcKaBCXmrdP5BQjQaRA8AFcfWFPA/voBfWlOa/uybq0NIC/pQH8GyhjAW8A/utY+7sGHlvifIvf/jehuAWsJaDG3XD3XVBM3c8C4Oc2Qt/usGiXhzynwaKOEFoQZhxyxLsM3cpBgy4wcSa8Mx7uLAjWqrDqggdbLg4dew+iomHsG/DBu9Avyj6RU7UBoJlSZ4FsUQTUWSJPalNCu7AlQaKArxRQX0wizea+UlPsBIsCQQdwdcph9X31vb6E3hUhtDyscMxU6K7QbAAPg1aDYORIGN4FCod4B/CvHC8cGrfTaf3KWrgtDArVhuEjYeQwqBaWNcBPfQtdO8Bb/3PaMm7ZXk4UAq3ne+5Id3YuhCvQ/F2jhWzua68pLgnL0p8xQNxiKBoC9Sa4fi1xNlOR6KKAKCAKiALZVCCoAK6+0Ce6JITeCmsTwTYPvwUe/dAz7GwAt0CNJtCiBTSvb6916mvgRevA4EFwh9oU/iBoTehJv8NDxaFgNRj9Dnw4G1pUAms5iGpht9eiKZQOzRrg3pTdko4QYoXxv3uInQZLou3vThjp7RsV9eaS4eJ5OPAjTHgMClug9khdHwEgdZ/90UJkG9C9WFBvRbZFAVFAFBAFTFQgqAB+/G0oFAJVX7D3kk76EaqGQcEmTuC60tKbJvTIKtCurf2FOnqAq/b+2QkvRUP1ilDuVoh6BlZrLxRSI1x0dGLLogndVd4yhKXCpHtBiYAFWnt2hgj2nYvroJr63oRmcFT37NpFVJdBh6aDVZ1AyTGJUt0XMj4Dt510BTqqHfrqwC7tXQ8urUmgKCAKiAKigBkKBA/AU2BifQgJgxHbHFIlw/A7s66xegNwd53YvCqUFPh2Dsz+ArJozfdsLgXG1YaQSPjIzZSEaXHQv5r9hUTTPT1L95BSSizs+R1+XAGj2kJkQXhyiaGpPAE6F4GwGvCLvFzIg5pySBQQBUQBcxQIKoC/6gngHmAWVAA/DwPvzB3Ak8/Bzl9h/X9hRGsBuDk/PbEqCogCokDuFAgagCdtsXcUs5SEF2Y5hm/Nhhcag0WBqkPcj1u2AdwKI9fCvn2wYw6U8LIXuib/odlwWyWoWNH1UukW+NfIXM7lnwozHrIPeZvteLuflr5tnQpLO0NYKLR731BjzhAxGztJMLomWErB57pme7W/QctwsDaEQzlops9GDvwy6rFjx2zjk6dPn44sokGgXgPqO9QXLlzol78xyVTWCgQNwFc8B6EhUOZ2qF4941KmIFjKwVduph3dMBisIY5nvo5nvyFq57fFkJzFOHBN4ot7YMliWLTIxTIP6lkhPApiPAy7it0MA56DJR6Gvq3sCZZQGLBeS9m5/t9E+3C1GgMh1kM6zjO821rQBhQrvH7UGT95s71/wU3db8xpVQ8fPswHH3xAfHy8LKJBwF4DR44c4d13cztUxfm/IFt5q0BQADztLDxaAsLugB+TMgu4aQiEWaDDIve90eMvQFwsxDqW85ftcVO9BHjaKfhgOkyeBJOMy3i4KyuAp8HcFvbx6+V6uW8tiFsCxR1D3PR9x059AbdZoWQU7ErMrEFOQ9JOQ+cyEFYNNuu03T/FftPTboF7TXOaZiCcpwJ86dKlgZBVyaMo4FaB06dPM2/ePLfH5YB/KxD4AE+DL4ZA46bwkb7nt173NPikPzRuBl/8pT+Q9ba3AD/4mh1oHdRae7LrJSXFN7Db9SpEhsKzX9vzf+IjaNoYHn4489J6gtPHn4ZDmAv4p8dIhh8XwpBnoF1LaPs4DBwHa46kx7BtXFkDVcKg7rgbd050teYiAM94Xche4CkgAA+8MtPnOCgA/uVQaNoSPvYA8E8HQtNW8OVZvftZb2cX4O0XQHy86yUhwTlbW9Ypu4/xuwHgJz+Blk0hKirz0u5Vp52fXsoC4CmwZTEM7QmPtoEOXQXgTvUybkkNPKMesheYCgjAA7PctFwHPsA1T0xaq03IwzrAs+9Ciu5lJtpELlqyp9+zj0G3jZ3WxlAb11aY6OH5tmYry3U8jK0HkffCTm+HcKnD7OpBSEF4KwdzpKfnKQWmN4LImrApV2Pi0i0G5IYAPCCLTTJtUEAAbhAkwHYF4AFWYJJd/1BAAO4f5SC5yJ0CAvDc6ZffZwvA87sEJP2AVEAAHpDFJpk2KCAANwgSYLsC8AArMMmufyiQHYD36tWLfv36Bc3St29f1HdzB5NPqj+qX8Hkk3rdZfURgGelkH8fF4D7d/lI7vxUgewAvE+fPn7qRc6ytWPHDt5///2cneynZ6n+qH4F00e9IcnqIwDPSiH/Pi4A9+/ykdzlpwLLlsHgwfbl228z5EQALgDPcEH44Y4A3A8LxcdZEoD7WFAxF0QKqPDWhhWMGZPBMQG4ADzDBeGHOwJwPywUH2dJAO5jQcVcECkgAHdZmNKE7lIWvwsUgPtdkfg8QwJwn0sqBoNGAQG4y6IUgLuUxe8CBeB+VyQ+z5AA3OeSisGgUUAA7rIoBeAuZfG7QAG43xWJzzMkAPe5pGIwaBQINIBfPsOi2dNYtHqnqUWQNwC/zIZvF/H669OYNm0232w7zNVr5rllfi/0q/y5ZzVvvvkm06ZN481FS9lzRvd+XhNcE4CbIKqfmRSA+1mBSHb8SIEAAXjCuVOsXz6bVg/cTnioQr0+5nYwMxvgiecPMbrLAxQtFI6iKChKKIWKV6bnaz+QYNLlYTbA96ycwT3lC2OxWGw+hYRHUOrOhqyMcfOOYx/4KQD3gYh+bkIA7ucFJNnLRwUCBOALBjWjZIFwLKF2OAQ6wE//sYqH695Gv1mL+c/y//DWsMcIUxSKVW7EmsOXTLkgzAb4rhVz6DPgZT5evpyPP36L1tXK2EDefsTnXDHFI2wT02RlWsaBZ6WQfx8XgPt3+Uju8lOBAAH4hM5VqPlYb55/tqkNCoEO8EuXznHw9HldyR+kcWEFpXgV5v1wVBfuu02zAW7M6cYZ3Wxl1Xbox5hzSyIAN2oejPsC8GAsVfHJNwoECMAvXzjHhYQkfpnXJygAbiy8xL++o5pFoXCl+nyzz5wm57wA+Ildm1ixYgWfLhzNA5VLUazM3SzZ+hfXjQ77aF+a0H0kpB+bEYD7ceFI1vJZgQABuKbS9qADeCp/H/mN4Z1qo4RY+dezb3DR29fnaqJ4uc4LgL/fp57tBkt9rh95yx0MmfUVV0zyR3VbAO5l4QdwNAF4ABeeZN1kBQTgLgU2uxObluiRdZ/RoupNNujd3Xo4f8Sa9wL6vAD4bys/YPLkyYwZ9jR1bimMohSm18x1XDKpd70AXLuSgnctAA/eshXPcquAANylguYDPJlj6+dQKbIAkQVLE93n38TEJ5nW1Kw6mRcA18RMS03ijy3vUdWqULR2NHv+L1475NN1QAA8CU7HQFw2hxcknoeYU/h0VIJq81QspPm0FLI2Fh8LGbp8ZH1KegwBeLoUsiEKGBQQgBsEse+aDfB/TvxK59olCYuswoTZa7iUYFIVVeed2QC/eO4UlxKukgqkpl7jt7WzuC1MoWidaPaeyia9dPn2tJmfAD97DI6eceYuMRYOHYGLqXBkDtxZDSb9DJcXQ4QCTd7KCM6YzTDlJejVG0bNgB2xTlvq1vzWoITDzOMZw3O6l7QXmpaEeydAUk6N5PC8XVOgcHGY/nv2DQjAs6+ZnHGjKCAAd1nSZgP8949fJEIdNnZLLfoMHsGIEfZl9KQZ7P4/c2BnNsCndb6Tlo8/weARIxg8uA81bi1mezTwYK83iU10KXOuA30B8LXD4JaKULES3Hob1H4QBsyCmBQP2UuAjhEQHgUxjursV93BYoVJ+2D3BLCGwoD1ToA3nuUAeBpsGAslQqFMTejQDqqVAGs5GPw6zJ5tX56+BxQrzPjTQz68PZQM0x4A6+2w1vGU5vwueH0wtHwAqlWFe1vBlG+yD/e0v+DdEdCmEdx5B9S8H7oMhc26mxviYUg1KNQAdmTz7kEA7m0hS7wbTwEBuMsyNxvg305sn97Zyz6RizqZi0KBcjX4Yod+eJnL7OUo0GyAfzK+K7ffVAKrbWIaKzeVuZ12z03gdOI10x4N+ALgNvCGQvRUWPIBjOwAkRaoPgTc9kjIBcBTfoVaVijXGWLU5gogaR80KQohVqhcA+6+GyoWzRrgaedgRl8Y+qHnpvZTi6BUKES9ha2FRE3zP92gQgN4YSK8+w50qm6/Aem3yp4nb79Tj8FTUdBvLMydD5P6QqUIKHAn/PCP08rxOVAkFNq8n7ElwhnD9ZYA3LUuEioK2N8DHkCvE718+iAbN25kx8HTppae2QD/+/gemx+qL/rlx22/cu6yOc3pZgP82tXLHNy5g602n7ayc9dBrl4zxxet8H0GcCuM3e6wmgD9boHQ8rDaXW0xFwA/MwfCQ6DTJ5oX2Ij25sNgKQFfOlor5j+SNcDPzoWIEAitAGvc5TUFJt8HluKw5JwzzeTLoG8YSdoK1cOg2GOQ24GMv44Gawh0+8KZHnHQuSRY68IuT60bulPUTQG4QRDZFQXSFQiwGnh6vk3eMBvgJmffpXmzAe4yUZMDTQF4CoyvA5aSsFxPOL0vDoCHVYZBI2HkSHi8lr0GnVUTevxyKG2BeuMhnWNX4PnKEFIYug6322tbNWuAp8bA6E7QfZb71oLU/dDACoXbwjkPvdfSzkKLcAhvDn95iKeXwd32galgtcCTX2aMsbiDXaOJezKGe9oTgHtSR47d2AoIwF2WvwDcpSx+F+hLgI/YDHGnYc0MuCUMbu4EZ9yBzAFwFfIPRkFUFNQpbwC4CunHYWBrCFMg/Rl4EkxtBKGFIHosfLgIhraAcCvUbGy3pdqrcVPWAPemQP5ZAoVCoI7+hsHFiWc/glIWuHsU5GTofsJFOHMAPpkEdxWGyFrwo2EO3X2T7DXztgtcZMBNkADcjTASLAogAHd5EQjAXcrid4E+A7gC2pMkdW29Db709JTGmyb0EKjSEFrWhVA9wNUW8wuw6CVoWB3KloOaUTB1dUZwetOE7k2B2KCpQBtP0LwML9xpb2afc8wbqxnjpP4B91mdGhapD6tc6HdlCUR6cTOhty4A16sh20GnQPIO6N8DZm3NgWsCcJeiCcBdyuJ3gT4DuBUGLoMtP8DsIVDOClWegpOOTmaZHPcG4O56oWcy5jpg/wqYNRt25XII/c5x9lrvox+5TkcdFL5mIIRboPHrGW8i3JyROTgZDu6Ebevh3eFQpQBU7wFH058R2E9J+AyKhECNkd6nIwDPLLeEBJECCcugeAi0W5QDpwTgLkUTgLuUxe8CfQlw9dm19vnyKXuP7NG/aiGGtQPg1vqwdi/s2wdvtTU0oWcB8NRD0O42qKgOYXO1VIKqjWCju+fwhiy52/1zBlgViJrtuvf38aVQIQzKtocj7m5Y3Bl3E/7LKMcz8GUZI5x7D8IVaPiaszd8xhiZ9wTgmTWREB8qcOwdqFAWxm7zgdFUeKcNlL0Ptnn5IMofAH7nnXfSr1+/oFk6derEQw89FDT+qGWj+qP6FUzldNddd2X5o8vqdaL68duasb2v2gHU42stxLBOgsG3Q4ih6T30Jlh6Notx4Jqpi7ByCSxa5HrpXcc+kcu7f2knZF6nxcKsATDio4w9yvUxE1dCWQtUHph5jPeV/8G/ikGBGvBdnP6s3G1fWGCfvObhNzPa2fwihFmg+1cZwz3tCcA9qSPHcq3AgWn2SRsGbci1Kdtt6bT7IbQKbHA3LMSQjD8AvE+fPoZcBfau1MADo/xMqYGnwKwosETAvw960CEFLsRBbKxjiYPLjt+sx4lcNJOpsHE+TJ4MkyZlXtRx2epMbJ4A7tUwsjiILg7WerBb16Sddgp63AaWUjBzt5YpH6zTYGknsITBS/rHeqkwpQGEFIEFZ71PRwDuvVYS040CV/bD5H7QriV0eAImL4ekZJjRGRrcDpYQqFgHop6EPSmQsh8mjYLF38GUp+GRZ+B3x4/nry0woju0bAndhsAax1SJyb9C5yZwezEIiYQ6D8GTc5xDTVLOwOIJ0KUtNG0OnXvD1sugATxqFEzoBS2bQ5eB8J03UzBKE7rLEheAu5TF7wJ9BvBQaNofRr4I0fXtte/6L8MFd73Qs1DCG4CnHoVGVvvY73sbQAPjcj88FA0/e7iRTz0BIzrCE294Hrv9xZP2RwLjdjoyngDTG9v/tyo0hTFjYaxjeWUy7NNAnwZ7N8G6jXDWjRYfPgb3tIQhY2DKJOjVFApaoO6LGc9J2QP1rXDT4xDrxpYrWQXgrlSRMK8VUGc7eqoChJWD3iPhhaehVne4nArfzoQhLSHUAg17wsTZ9o4vicvtQzIKFYX6T8IL/eBH9aUGX0LVcChSAwYNg3+VgbCKsOQ4qDMazRwPLSvZf9Q9x8HsNfZnRfHboUU5iKgATw6GMS9Dz+6wKckJcHUWpwZd4eUR0LgChFdzTpvo1lkBuEtpBOAuZfG7QF8AfNt0aBYFTZtCyzbQfSDMX+95ZrOshPAK4AehoRUKRUNcPMS7WhIg2QfPpZN/h3sjoVIvO+jTTsKAls4ha+qwNW1p2s7+v6L6mPyTfXIXT5OvqHO6Tx0KXR+F1h3guYEwdw3q7KkZPmv6QVgEjHPXryBDbOeOANyphWzlQIGkNVAxFKq95LrnpKsm9MRvoIwFirWFU9rdZhIMrWZvslp0yp6RC187bA9z2E6FTE3o6kxKDSC0NCx0UavWauB1XnE+4zq3EIq4mEghk/sC8EySqAECcJey+F2gLwBuhlMnP4P27WDeXudc6E20udAdCaadhpYFnUOv9MPY9Nv3TfFNDreOgoIFYXI2msv3TLT3YNdPwZqT3KTsg0aFoeZw9xPOuLMrAHenjIR7pUDaGXi8LFiKwONT4aBhcgJPANf3tkzZDXWtUKw97DsGx9TlD2hfFKwPwZ/qnbYLgKszKaljLMv3dF0r0ACu74WevAluC4UH38jCRQG4S4EE4C5l8btAfwW4Xqi0f2DXDjjqopPYP8fVm0XYvt3NsgMOGd5Spredre0kWDQIer7t+n8kk600WNAJylSDz3OZhx1zoMsA2J2DHvUC8EwlIwHZVeDyHnippX1GowK3wKSNziEZngDe/F1nvKT1UDnU9R13ehOVC4AnbYAqoVD7FefzcH3+XQJ8M1QNg/un6WO62BaAuxBFauAuRfHDwEAAuB/KFlBZEoAHVHH5d2aPr4KHS9lfHvCN41VFB130Qtea0JvPdQI85Xeorb6F6Gk4ehJO6paYWEc8FeANM/ZCV2c5utcKZZ/N/FxJVetGAfj1tBTiT+1hZL9ujJ6/ztQLxfQa+PU0EhNOsfitkXTv3o1u3frx1n+2EHfFBw883Shj9lzoqdfO8/P3c+jZsyfdunWj58ixrNn7Z/rbr9xkK1fBAvBcyRcQJwvAA6KYAieTC9QJG8Jh1kl7no/PhHB10gYdU1wBXH31z/PqW45uha/dNUmlwcyH7XHWab1P1Zcr1LO/XOHt/Zl1uhEA/s+RvXzw2kCqVoi0vXazXp/3MwvhwxCzAX7lzG88dV8FwytFI2nR/0Mu+NAPvSmzAb7jiwmUK2B/LWr6K1KLlGfB7x4GMuszmINtAXgORAuwUwTgAVZg/pbd5K3w1JPw4sswvCdUsELJ5nDAUVlK/M7eEa16R+jTDqbsAJcAB44tsp9f9E7oMxyGD4KOD8CI9U6vv+sDoQWg42BoFw07UuDyNmh8M4SVgo597UM++j0Bq67cGDXwN564mwhrOOGFCgQFwE8fXMvjndrw7vrfOHD0ABsWj6KIohBZrjbLdrq7u3NeIznZMhvghzYt4825H7P76FF2797AkKY1bGXVauCiXL+e0p2/AnB3ygRPuAA8eMoyXzxJ2WUfOta2JbTqCINeg336F+amwbrp0LENPP0ibD4Hyb/A481g1MrMWY7ZBKN7QdtW0L4zvDAd9ursqZ3mpveENo/Ci+84XwGYfAoWjIMu7SCqKXRyjANP3gKPNoNXfnCmpfb6fKY5DP7cGeZyKxfPwK9fv4629O7dO31bC/Pl+t+976Pty9OZNryDDQp1e88zNb3t27czb555aVy9epHTF67ofDhMVFEFpXgV3l97TBfu1Di3eqr+qH7l1o4356elJrJiYkdbWUWP+S/xumvFm/O9jaNOIKSP6+oaz2omNlfnSJj/KCAA95+ykJz4mwK5ALjelbyaiW37vD5BUQPXa6duXz70KeUVheJVHuCHIwnGwz7ZN7sGrmbyt5UfMHnyZMYMe4zbSxSmbNUWrDtwySf5d2VEauCuVAmuMAF4cJWneONLBQTgLtU0+xm4M9Fk9q39jLb1yqKEFaXz+E99MnGH075zKy8A/n6ferYbLPUZeOQtVekzaT4n/nHmwddbAnBfK+p/9gTg/lcmkiN/UUAA7rIk8gTgqYlsnDeFOmUKY7EWpPWAd4i5lIOBsi49yByYFwA/sWsTK1as4NOFk2l//y2EKhF0GL6EvxOvZ86QD0IE4D4Q0c9NCMD9vIAke/mogADcpfjmA/wq2z8eQ2FFoXDx23jptf/gGJXoMj++CMwLgOvzeXLXJ9QooFDgrrb8fsKcZnQBuF7x4NwWgAdnuYpXvlBAAO5SRbMB/tee1TSqFE7Bm+uz9LtDXEvR5tt1mR2fBJoN8KM7fuTPc3Gob8FNTo5n1ZIRlA1RuKlBV/b/pY2J9Ikr6UYE4OlSBO2GADxoi1Ycy7UCAnCXEpoN8O0L+hOmPicuWZGHm7aiVSv70v6JPvx42Jy6uNkAnxx9GzXubUDTVq1o2vRhypeKRAmNpOu4T7h4zaXMuQ4UgOdaQr83IAD3+yKSDOabAgJwl9KbDfBvJrRL7+yVPumJolCgXA2+2HHeZZ5yG2g2wL+fN5L7bi1PAUWdzKUAt95+H8OnLzH10YAAPLdXhf+fLwD3/zKSHOaXAgEG8JSkeM6fP8+leHOaZLViMBvgyVcv2/xQfdEvF/65SLJJzelmAzwtNYX4S5e4YPPpApcux5OaZu6jAQG4dsUG71oAHrxlK57lVoEAA3hu3fX2fLMB7m0+fBnPbID7Mq/e2hKAe6tU4MYTgAdu2UnOzVZAAO5SYQG4S1n8LlAA7ndF4vMMCcB9LqkYDBoFBOAui1IA7lIWvwsUgPtdkfg8QwJwn0sqBoNGAQG4y6IUgLuUxe8CBeB+VyQ+z5AASH1TDwAAAehJREFU3OeSisGgUUAA7rIoBeAuZfG7QAG43xWJzzMkAPe5pGIwoBVYvRpeftm+KAroFy18/XoOHz7M0qVLvXK1V69e9OvXL2gWFQzqG9aCySfVH9WvYPJJve6y+sjbyLJSyL+PC8D9u3wkd3mtwP79EBKSEdx6iFutcOJEtgCe1y5IeqKAtwoIwL1Vyj/jCcD9s1wkV/mpwBNPuAd4v362nGWnBp6frkjaooAnBQTgntTx/2MCcP8vI8lhXivgrhbuqH2r2RGA53WhSHpmKCAAN0PVvLMpAM87rSWlQFLAVS28b990DwTg6VLIRgArIAAP4MIDBOCBXX6Se7MUMNbCw8Jsz7615ATgmhKyDmQFBOCBXHoC8MAuPcm9uQroa+G62reaqADcXOnFet4oIADPG53NSkVq4GYpK3YDXwGtFm6ofauOCcADv3jFAxCAB/ZVIAAP7PKT3JutgFoLN9S+1SQF4GYLL/bzQgEBeF6obF4aAnDztBXLwaCAWgs/fjyTJyrAJ0yYwHvvvSeLaBCw18D06dOZPXt2putbAgJDAQF4YJST5NLPFEhMTLQ1P6o1GFlEg0C+BmJjY/3s1yXZ8VYBAbi3Skk8UUAUEAVEAVHAjxQQgPtRYUhWRAFRQBQQBUQBbxX4f8XPgD2xddngAAAAAElFTkSuQmCC)"
   ]
  },
  {
   "cell_type": "markdown",
   "metadata": {
    "id": "Bnq334usRR4D"
   },
   "source": [
    "![image.png](data:image/png;base64,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)"
   ]
  },
  {
   "cell_type": "code",
   "execution_count": null,
   "metadata": {
    "id": "kRUYezcZdQ-r"
   },
   "outputs": [],
   "source": [
    "def printary(m, *a):\n",
    "    print(m)\n",
    "    for x in a:\n",
    "        print(x.shape)\n",
    "        print(x.tolist())"
   ]
  },
  {
   "cell_type": "code",
   "execution_count": null,
   "metadata": {
    "colab": {
     "base_uri": "https://localhost:8080/",
     "height": 34
    },
    "id": "9sRnJPvNdE9j",
    "outputId": "f74541ac-0779-4619-ace7-3c92a5d031e6"
   },
   "outputs": [
    {
     "name": "stdout",
     "output_type": "stream",
     "text": [
      "(2, 3) (2, 3) (3, 1) (3,)\n"
     ]
    }
   ],
   "source": [
    "a=np.array([[1, 1, 1], [1, 1, 1]])\n",
    "b=np.array([[1, 1, 1], [2, 2, 2]])\n",
    "c=np.array([[1],[2],[3]])\n",
    "d=np.array([3, 3, 3])\n",
    "print(a.shape, b.shape, c.shape, d.shape)"
   ]
  },
  {
   "cell_type": "code",
   "execution_count": null,
   "metadata": {
    "id": "DHtZTnzP1VWA"
   },
   "outputs": [],
   "source": [
    "printary(\"a+b\", a, b, a+b)"
   ]
  },
  {
   "cell_type": "code",
   "execution_count": null,
   "metadata": {
    "id": "OKTUH_43xtPE"
   },
   "outputs": [],
   "source": [
    "# 부분 shape\n",
    "(2, 3, 4) => (4,), (3, 4)\n",
    "(2, 1, 3, 4) => (4,), (3, 4), (1, 3, 4)"
   ]
  },
  {
   "cell_type": "code",
   "execution_count": null,
   "metadata": {
    "id": "6PMwuRomyMGw"
   },
   "outputs": [],
   "source": [
    "# (2, 3)   (3,) => 결과 shape은 ?\n",
    "printary(\"a+d\", a, d, a+d)"
   ]
  },
  {
   "cell_type": "code",
   "execution_count": null,
   "metadata": {
    "id": "mrX4qr92yOKh"
   },
   "outputs": [],
   "source": [
    "# (2, 3) + Scaler => 결과 shape은?\n",
    "printary(\"b+4\", b, b+4)"
   ]
  },
  {
   "cell_type": "code",
   "execution_count": null,
   "metadata": {
    "colab": {
     "base_uri": "https://localhost:8080/",
     "height": 139
    },
    "id": "RQQB4oV0yPZw",
    "outputId": "6531bac3-8643-418a-85b9-ca8561d8fc49"
   },
   "outputs": [
    {
     "name": "stdout",
     "output_type": "stream",
     "text": [
      "c+d\n",
      "(3, 1)\n",
      "[[1], [2], [3]]\n",
      "(3,)\n",
      "[3, 3, 3]\n",
      "(3, 3)\n",
      "[[4, 4, 4], [5, 5, 5], [6, 6, 6]]\n"
     ]
    }
   ],
   "source": [
    "# (3, 1) (3,)  => 결과 shape은?\n",
    "printary(\"c+d\", c, d, c+d)"
   ]
  },
  {
   "cell_type": "markdown",
   "metadata": {
    "id": "A6NNlRJgdDT4"
   },
   "source": [
    "### 6-03. ndarray 비교연산\n",
    "- ==, !=, >, <, >=, <= : 결과 True/False\n",
    "- element-wise 방식 (필요시 broadcasting)"
   ]
  },
  {
   "cell_type": "code",
   "execution_count": 26,
   "metadata": {
    "colab": {
     "base_uri": "https://localhost:8080/",
     "height": 34
    },
    "id": "JC2rNffmeTLd",
    "outputId": "1743093b-1861-43f5-b228-c456c11984fa"
   },
   "outputs": [
    {
     "name": "stdout",
     "output_type": "stream",
     "text": [
      "(5, 1) (3,) (5, 3)\n"
     ]
    },
    {
     "data": {
      "text/plain": [
       "array([[2, 3, 4],\n",
       "       [3, 4, 5],\n",
       "       [4, 5, 6],\n",
       "       [5, 6, 7],\n",
       "       [6, 7, 8]])"
      ]
     },
     "execution_count": 26,
     "metadata": {},
     "output_type": "execute_result"
    }
   ],
   "source": [
    "a = np.array([[1],[2],[3],[4],[5]])  # (5, 1)\n",
    "b = np.array([1, 2, 3])              # (3,)\n",
    "c = a + b\n",
    "print(a.shape, b.shape, c.shape)\n",
    "# (5, 1) (3,) => (5, 3) (3,) => (5, 3) (5, 3)\n",
    "c"
   ]
  },
  {
   "cell_type": "code",
   "execution_count": null,
   "metadata": {
    "id": "f1Z4jYU57I8j"
   },
   "outputs": [],
   "source": [
    "print(a)\n",
    "print(b)\n",
    "print(c)"
   ]
  },
  {
   "cell_type": "code",
   "execution_count": null,
   "metadata": {
    "id": "5z1hB-aMeF17"
   },
   "outputs": [],
   "source": [
    "def printary(*a):\n",
    "    for x in a:\n",
    "        print(x.tolist(), end='\\n')\n",
    "        print(\"-\" * 45)"
   ]
  },
  {
   "cell_type": "code",
   "execution_count": null,
   "metadata": {
    "id": "JVEmyaw_eoR0"
   },
   "outputs": [],
   "source": [
    "a=np.array([[1, 2, 3], [4, 5, 6]])\n",
    "b=np.array([[1, 3, 5], [2, 4, 6]])\n",
    "c = a==b\n",
    "print(c.dtype)\n",
    "printary(a==b, a!=b)"
   ]
  },
  {
   "cell_type": "code",
   "execution_count": null,
   "metadata": {
    "id": "GvZLoBW0jro3"
   },
   "outputs": [],
   "source": [
    "a=np.array([[1, 2, 3], [4, 5, 6]])\n",
    "b=np.array([[1, 3, 5], [2, 4, 6]])\n",
    "printary(a>b, a<b)"
   ]
  },
  {
   "cell_type": "code",
   "execution_count": null,
   "metadata": {
    "id": "x_TTDqlzjrzt"
   },
   "outputs": [],
   "source": [
    "a=np.array([[1, 2, 3], [4, 5, 6]])  # (2, 3)\n",
    "b=np.array([[1, 3, 5], [2, 4, 6]])\n",
    "c=np.array([4, 3, 3])   # (3,)  # [[4, 3, 3], [4, 3, 3]]\n",
    "printary(a>=c, b<=3)    #  3    # [[3, 3, 3],[3, 3, 3]]"
   ]
  },
  {
   "cell_type": "code",
   "execution_count": null,
   "metadata": {
    "colab": {
     "base_uri": "https://localhost:8080/",
     "height": 69
    },
    "id": "RB6oROGX3iFV",
    "outputId": "ee784cab-998b-4318-de44-7bd68fc54ac3"
   },
   "outputs": [
    {
     "data": {
      "text/plain": [
       "[88, 93, 81, 75, 78]"
      ]
     },
     "metadata": {
      "tags": []
     },
     "output_type": "display_data"
    },
    {
     "data": {
      "text/plain": [
       "[88, 93, 81, 75, 78]"
      ]
     },
     "metadata": {
      "tags": []
     },
     "output_type": "display_data"
    },
    {
     "data": {
      "text/plain": [
       "array([88, 93, 81, 75, 78])"
      ]
     },
     "metadata": {
      "tags": []
     },
     "output_type": "display_data"
    }
   ],
   "source": [
    "# 왜 numpy를 배워야 하나?  \n",
    "a = np.random.randint(50, 101, 10)\n",
    "b = []\n",
    "for x in a :\n",
    "    if x>=70 :\n",
    "        b.append(x)\n",
    "display(b)     \n",
    "\n",
    "b = [ x for x in a if x >=70 ]   # comprehension\n",
    "display(b)\n",
    "\n",
    "b = a[ a>=70 ]  # ndarray!\n",
    "display(b)"
   ]
  },
  {
   "cell_type": "markdown",
   "metadata": {
    "id": "kPifu3Xmp7AA"
   },
   "source": [
    "## 7.Indexing"
   ]
  },
  {
   "cell_type": "markdown",
   "metadata": {
    "id": "Rie2JA229Sfq"
   },
   "source": [
    "### 7-01. ndarray indexing 이해\n",
    "- indexing을 사용하여 배열에서 원하는 데이터를 참조/변경한다\n",
    "- 배열 이름 뒤에 [ ] 를 사용하여 참조/변경 할 데이터를 표기한다\n",
    "- 결과는 원본의 view이며, view에 대입을 통해 데이터 변경이 가능함\n",
    "- ndim >= 2 인 경우 [ ] 내부에 콤마(,)를 사용하여 차원(축, axes, axis)을 구분함\n",
    "- 콤마(,) 사이에는 참조/변경하기 원하는 데이터에 대한 표기(indexer)가 포함되어야 함\n",
    "- axis=0을 제외한 차원에 대한 표기 생략가능, 생략은 “모두 선택”의 의미를 갖음\n",
    "- https://numpy.org/doc/stable/reference/arrays.indexing.html\n",
    "- https://numpy.org/devdocs/user/basics.indexing.html"
   ]
  },
  {
   "cell_type": "code",
   "execution_count": null,
   "metadata": {
    "colab": {
     "base_uri": "https://localhost:8080/",
     "height": 122
    },
    "id": "kCS4p0CHkZ_q",
    "outputId": "354c2ac4-c1d3-472b-fd71-bbaa63815a94"
   },
   "outputs": [
    {
     "name": "stdout",
     "output_type": "stream",
     "text": [
      "[[0 1 2]\n",
      " [3 4 5]\n",
      " [6 7 8]]\n",
      "[3 4 5]\n",
      "2\n",
      "2\n"
     ]
    }
   ],
   "source": [
    "# single element indexer의 사용 - 데이터 참조\n",
    "import numpy as np\n",
    "a = np.arange(9).reshape(3,3)\n",
    "\n",
    "print(a)       # 2D\n",
    "print(a[1])    # 1D\n",
    "print(a[0, 2]) # Scalar\n",
    "print(a[0][2]) # indexing을 두 번 한 것이다  a[0][2] => 사용하지 않는 것이 좋다"
   ]
  },
  {
   "cell_type": "code",
   "execution_count": null,
   "metadata": {
    "colab": {
     "base_uri": "https://localhost:8080/",
     "height": 34
    },
    "id": "GNIEolzs7uRH",
    "outputId": "08347ba4-c886-461d-bf4f-5a913ef07d14"
   },
   "outputs": [
    {
     "data": {
      "text/plain": [
       "dtype('int64')"
      ]
     },
     "execution_count": 34,
     "metadata": {
      "tags": []
     },
     "output_type": "execute_result"
    }
   ],
   "source": [
    "a.dtype"
   ]
  },
  {
   "cell_type": "code",
   "execution_count": null,
   "metadata": {
    "colab": {
     "base_uri": "https://localhost:8080/",
     "height": 174
    },
    "id": "wyg2utW4_m2O",
    "outputId": "6c43dfc2-e12b-4ffb-b2a0-75b7365dba99"
   },
   "outputs": [
    {
     "name": "stdout",
     "output_type": "stream",
     "text": [
      "[[  0   1 100]\n",
      " [  3   4   5]\n",
      " [  6   7   8]]\n",
      "[[  0   1 100]\n",
      " [  3   4 200]\n",
      " [  6   7   8]]\n",
      "[[  0   1 100]\n",
      " [  3   4 200]\n",
      " [ 10  20   3]]\n"
     ]
    }
   ],
   "source": [
    "# single element indexer의 사용 - 데이터 변경\n",
    "a[0, 2] = 100\n",
    "print(a)\n",
    "a[1][2] = 200\n",
    "print(a)\n",
    "a[2] = [10, '20', 3.67]\n",
    "print(a)"
   ]
  },
  {
   "cell_type": "markdown",
   "metadata": {
    "id": "dLjp_acwkUUu"
   },
   "source": [
    "### 7-02. Indexer의 종류\n",
    "- single element index : integer object\n",
    "- slicing & stride index : slice object => start:stop:step\n",
    "- index arrays : sequence-like, numpy object\n",
    "- boolean array : boolean array : the same shape with original array, dtype = bool\n",
    "- structural indexing tools : ..., np.newaxes\n",
    "- index + slice "
   ]
  },
  {
   "cell_type": "code",
   "execution_count": 27,
   "metadata": {
    "colab": {
     "base_uri": "https://localhost:8080/",
     "height": 192
    },
    "id": "yRL7086hmAcL",
    "outputId": "e81cce67-91fa-405c-89b6-e0df8f149a6c"
   },
   "outputs": [
    {
     "name": "stdout",
     "output_type": "stream",
     "text": [
      "1 <class 'numpy.int64'>\n",
      "[1] <class 'numpy.ndarray'>\n",
      "[1 3]\n",
      "[0 1 4]\n",
      "[0 3]\n",
      "[0 1 2 3 4]\n",
      "[[0]\n",
      " [1]\n",
      " [2]\n",
      " [3]\n",
      " [4]]\n"
     ]
    }
   ],
   "source": [
    "a = np.arange(5)\n",
    "\n",
    "print(a[1], type(a[1]))     # single element\n",
    "print(a[[1]], type(a[[1]])) # index array\n",
    "print(a[1:4:2])             # slice and stride\n",
    "print(a[[0,1,-1]])          # index array\n",
    "print(a[[True, False, False, True, False]]) # boolean array\n",
    "print(a)\n",
    "print(a[:, np.newaxis])"
   ]
  },
  {
   "cell_type": "markdown",
   "metadata": {
    "id": "tuoBLTrEEzeH"
   },
   "source": [
    "### 7-03. list와 ndarray의 indexing 차이점\n",
    "- ndarray의 indexing의 반환 값은 원본을 참조하는 view이다 \n",
    "- 새로운 ndarray로 처리하려면 copy 함수나 메서드를 사용해야 한다\n"
   ]
  },
  {
   "cell_type": "code",
   "execution_count": null,
   "metadata": {
    "colab": {
     "base_uri": "https://localhost:8080/",
     "height": 87
    },
    "id": "bUmFZFihmRh1",
    "outputId": "e99a8b6a-acf0-4d68-f5a9-607de8b1d8b0"
   },
   "outputs": [
    {
     "name": "stdout",
     "output_type": "stream",
     "text": [
      "[[1, 2, 3], [100, 7, 8]]\n",
      "[[10, 20, 30], [100, 7, 8]]\n",
      "140012171248776 140012171248776\n",
      "-------------------------\n"
     ]
    }
   ],
   "source": [
    "# list of python\n",
    "x = [[1, 2, 3], [6, 7, 8]]\n",
    "z = x[:]  #  [id(x[0])][id(x[1])]\n",
    "z[0] = [10, 20, 30]\n",
    "z[1][0] = 100\n",
    "print(x, z, sep='\\n')\n",
    "print(id(x[1]), id(z[1]))\n",
    "print(\"-\"*25)"
   ]
  },
  {
   "cell_type": "code",
   "execution_count": null,
   "metadata": {
    "colab": {
     "base_uri": "https://localhost:8080/",
     "height": 122
    },
    "id": "G6xDf24omZAE",
    "outputId": "7c9ac80e-9906-42be-a61a-bc1c350bd0ae"
   },
   "outputs": [
    {
     "data": {
      "text/plain": [
       "array([[6, 7, 8]])"
      ]
     },
     "metadata": {
      "tags": []
     },
     "output_type": "display_data"
    },
    {
     "name": "stdout",
     "output_type": "stream",
     "text": [
      "[[ 1  2  3]\n",
      " [10 20 30]]\n",
      "[[10 20 30]]\n",
      "True\n",
      "32800400 32800424 int64\n"
     ]
    }
   ],
   "source": [
    "# ndarray of numpy\n",
    "x = np.array([[1, 2, 3], [6, 7, 8]])\n",
    "z = x[1:]\n",
    "display(z)\n",
    "\n",
    "z[0] = [10, 20, 30]\n",
    "print(x, z, sep='\\n')\n",
    "print(np.may_share_memory(x,z)) \n",
    "print(x.__array_interface__['data'][0], z.__array_interface__['data'][0], x.dtype)"
   ]
  },
  {
   "cell_type": "markdown",
   "metadata": {
    "id": "QB0sFPXZF2j8"
   },
   "source": [
    "### 7-04. single element index 사용\n",
    "- single element index의 사용이 1개 증가 할 때마다 배열의 차원(ndim)은 1씩 감소한다\n",
    "- axis=0부터 뒤쪽으로 콤마(,)를 기준으로 index를 나열함\n",
    "- index 표기되지 않은 차원은 “모두 선택”\n",
    "- 예) 2차원 배열에서 a[n]은 n번 행 전체를 반환 함\n",
    "- indexing을 연속으로 진행한 것과 콤마(,) 나열은 같은 결과\n",
    "- 예) a[n][m] == a[n, m]"
   ]
  },
  {
   "cell_type": "code",
   "execution_count": null,
   "metadata": {
    "colab": {
     "base_uri": "https://localhost:8080/",
     "height": 87
    },
    "id": "EiylIGGmHudh",
    "outputId": "c6a017c0-338f-4279-dd67-029552b1b33a"
   },
   "outputs": [
    {
     "name": "stdout",
     "output_type": "stream",
     "text": [
      "[[[0, 1], [2, 3], [4, 5]], [[6, 7], [8, 9], [10, 11]]]\n",
      "[[0, 1], [2, 3], [4, 5]]\n",
      "[0, 1]\n",
      "0\n"
     ]
    }
   ],
   "source": [
    "a = np.arange(12).reshape(2,3,2)\n",
    "print(a.tolist())\n",
    "print(a[0].tolist())\n",
    "print(a[0, 0].tolist())\n",
    "print(a[0, 0, 0])"
   ]
  },
  {
   "cell_type": "markdown",
   "metadata": {
    "id": "L4X6ffq7I7KT"
   },
   "source": [
    "### 7-05. slice & stride\n",
    "- arr[n:m:k]\n",
    "- n 부터 m-1 까지, k 씩 건너 뛴 위치 요소로 구성된 배열 반환\n",
    "- n, m, k는 생략 가능하며 생략시 n = 0, m = len(arr), k=1\n",
    "- slice & stride의 사용이 증가해도 배열의 차원(ndim)은 변화 없음\n",
    "- axis=0부터 뒤쪽으로 콤마(,)를 기준으로 indexer를 나열함\n",
    "- indexer가 표기되지 않은 axis는 “모두 선택”\n",
    "-  :  특정 axis에 대해 모든 범위를 의미함\n",
    "-  ... 나머지 모든 차원에 대해 모든 범위를 의미함\n"
   ]
  },
  {
   "cell_type": "code",
   "execution_count": null,
   "metadata": {
    "id": "soJKLQZoECn9"
   },
   "outputs": [],
   "source": [
    "a = np.arange(24).reshape(3, 4, 2)\n",
    "display(a, a[ :2, 1:, :])    # (2, 3, 2)"
   ]
  },
  {
   "cell_type": "code",
   "execution_count": null,
   "metadata": {
    "colab": {
     "base_uri": "https://localhost:8080/",
     "height": 87
    },
    "id": "4_MA6d_WJqjK",
    "outputId": "96f48a7b-1856-4269-b356-9c28a7acb8a8"
   },
   "outputs": [
    {
     "name": "stdout",
     "output_type": "stream",
     "text": [
      "[[[0, 1], [2, 3], [4, 5]], [[6, 7], [8, 9], [10, 11]]]\n",
      "[[[6, 7], [8, 9], [10, 11]]]\n",
      "[[[1, 0], [3, 2], [5, 4]], [[7, 6], [9, 8], [11, 10]]]\n",
      "[[[4, 5], [2, 3], [0, 1]], [[10, 11], [8, 9], [6, 7]]]\n"
     ]
    }
   ],
   "source": [
    "# 차원(ndim)의 변화는 없음\n",
    "a = np.arange(12).reshape(2,3,2)\n",
    "print(a.tolist())\n",
    "print(a[1:].tolist())   # a[1:], a[1:, :, :] => 1, 3, 2\n",
    "print(a[..., ::-1].tolist())   # axis 0, 1은 그대로(모두), axis 2는 뒤집기\n",
    "print(a[:, ::-1].tolist())     # axis 0 그대로(모두), axis 1 뒤집기, axis 2는 그대로(모두)"
   ]
  },
  {
   "cell_type": "code",
   "execution_count": null,
   "metadata": {
    "colab": {
     "base_uri": "https://localhost:8080/",
     "height": 34
    },
    "id": "8zcTiUE-DIbw",
    "outputId": "4d0c45d2-1ccf-4011-fb29-d41c1ae593db"
   },
   "outputs": [
    {
     "data": {
      "text/plain": [
       "(1, 3, 2)"
      ]
     },
     "execution_count": 49,
     "metadata": {
      "tags": []
     },
     "output_type": "execute_result"
    }
   ],
   "source": [
    "a[1:].shape"
   ]
  },
  {
   "cell_type": "markdown",
   "metadata": {
    "id": "B5nZYLYJLAZq"
   },
   "source": [
    "### 7-06. index arrays\n",
    "- index_array은 dtype=int인 배열로, index 번호를 element로 갖는 배열임\n",
    "- index_array 의  형태(shape)에 따라 반환되는 배열의 ndim이 원본과 동일하거나, 증가, 감소 될 수 있음"
   ]
  },
  {
   "cell_type": "markdown",
   "metadata": {
    "id": "qmWwBXSORFOK"
   },
   "source": [
    "#### 7-06-1. 1차원\n",
    "- index_array 에 포함된 index 항목들로 구성된 배열 반환\n",
    "- a[ [0, 2, 4] ] 는 a에서 0,2,4 번 index 항목으로 구성된 배열 반환\n",
    "- index_array 사용시 주의 사항\n",
    "   - index 중복 사용 가능\n",
    "   - 2차원 이상의 index_array 는 ndarray 를 사용( [[[ -> 사용 불가능)\n"
   ]
  },
  {
   "cell_type": "code",
   "execution_count": null,
   "metadata": {
    "colab": {
     "base_uri": "https://localhost:8080/",
     "height": 104
    },
    "id": "x1aHrW0nRLN-",
    "outputId": "ca03dfcf-5369-44ed-85ef-aa44a03dcd6b"
   },
   "outputs": [
    {
     "name": "stdout",
     "output_type": "stream",
     "text": [
      "0 [0] <class 'numpy.ndarray'>\n",
      "[[0]] 2\n",
      "[4 0 1 0]\n",
      "[[0 2 4]\n",
      " [1 3 3]]\n"
     ]
    }
   ],
   "source": [
    "import numpy as np\n",
    "a = np.arange(5) # [0 1 2 3 4]\n",
    "print( a[0], a[[0]], type(a[[0]]))\n",
    "b = a[np.array([[0]])]\n",
    "print( b, b.ndim  )\n",
    "print( a[[-1, 0, 1, 0]])\n",
    "#print( a[[[0, 2, 4], [1, 3, 3]]])\n",
    "print( a[np.array([[0, 2, 4], [1, 3, 3]])])"
   ]
  },
  {
   "cell_type": "markdown",
   "metadata": {
    "id": "R1aLK959XtzO"
   },
   "source": [
    "#### 7-06-2.  2차원\n",
    "- idx_a1, idx_a2의 같은 위치 항들이 묶여 위치 정보가 됨\n",
    "- 다차원이 되면 콤마(,)로 나열하며 동일 길이로 구성되어야 함\n",
    "- a가 2D array인 경우 \n",
    "  - a[ [0,0,1],[2,3,1] ] 은 [0,2], [0,3], [1,1] 항을 배열로 반환\n",
    "  - a[ [0, 1], 0] : a[ [0,0], [1,0] ] (broadcasting)  [0, 0], [1, 0] 항 반환"
   ]
  },
  {
   "cell_type": "code",
   "execution_count": null,
   "metadata": {
    "id": "nKOqXUc7X0nf"
   },
   "outputs": [],
   "source": [
    "a = np.arange(12).reshape(3, -1)\n",
    "print(a)\n",
    "\n",
    "# (0, 2) (0, 3) (1, 1) (-1,-1)\n",
    "\n",
    "print(a[[0,0,1, -1], [2,3,1, -1]])\n",
    "print(a[[0,1], 0])"
   ]
  },
  {
   "cell_type": "markdown",
   "metadata": {
    "id": "bpNmyrSSUZzX"
   },
   "source": [
    "#### 7-06-3.  Mission 먼저 수행해보고 비교하세요\n",
    " (수행 전)\n"
   ]
  },
  {
   "cell_type": "code",
   "execution_count": null,
   "metadata": {
    "id": "u8jK6JGNUNsz"
   },
   "outputs": [],
   "source": [
    "# index array를 사용하여 3차원 배열에서 원하는 항목만 1D로 indexing\n",
    "a = np.arange(12).reshape(2, 3, -1)\n",
    "print(a)\n",
    "# [0, 3, 8, 10] "
   ]
  },
  {
   "cell_type": "code",
   "execution_count": null,
   "metadata": {
    "id": "-Ebv7M8dUQpI"
   },
   "outputs": [],
   "source": [
    "# index array를 사용하여 2차원 배열에서 원하는 항목만 2D로 indexing\n",
    "a = np.arange(12).reshape(4, -1)\n",
    "print(a)\n",
    "# [[1, 3], [8, 9]]"
   ]
  },
  {
   "cell_type": "markdown",
   "metadata": {
    "id": "AB9VmNw9Eb-R"
   },
   "source": [
    "#### 7-06-4.  Mission 먼저 수행해보고 비교하세요 (수행 후, Solution)\n",
    "\n"
   ]
  },
  {
   "cell_type": "code",
   "execution_count": null,
   "metadata": {
    "colab": {
     "base_uri": "https://localhost:8080/",
     "height": 167
    },
    "id": "Z2Adik77-jsI",
    "outputId": "bc521f88-19f9-4eec-e35a-641aebdc772f"
   },
   "outputs": [
    {
     "name": "stdout",
     "output_type": "stream",
     "text": [
      "[[[ 0  1]\n",
      "  [ 2  3]\n",
      "  [ 4  5]]\n",
      "\n",
      " [[ 6  7]\n",
      "  [ 8  9]\n",
      "  [10 11]]]\n",
      "[ 0  3  8 10]\n"
     ]
    }
   ],
   "source": [
    "# index array를 사용하여 3차원 배열에서 원하는 항목만 1D로 indexing\n",
    "a = np.arange(12).reshape(2, 3, -1)\n",
    "print(a)\n",
    "# [0, 3, 8, 10]  \n",
    "# [0,0,0],[0,1,1],[1,1,0],[1,2,0]\n",
    "print(a[[0,0,1,1],[0,1,1,2],[0,1,0,0]])"
   ]
  },
  {
   "cell_type": "code",
   "execution_count": null,
   "metadata": {
    "colab": {
     "base_uri": "https://localhost:8080/",
     "height": 129
    },
    "id": "Q4VDfV5KAdr5",
    "outputId": "51ae9e49-ae77-41a7-8997-12d1d7025535"
   },
   "outputs": [
    {
     "name": "stdout",
     "output_type": "stream",
     "text": [
      "[[ 0  1  2]\n",
      " [ 3  4  5]\n",
      " [ 6  7  8]\n",
      " [ 9 10 11]]\n",
      "[[1 3]\n",
      " [8 9]]\n"
     ]
    }
   ],
   "source": [
    "# index array를 사용하여 2차원 배열에서 원하는 항목만 2D로 indexing\n",
    "a = np.arange(12).reshape(4, -1)\n",
    "print(a)\n",
    "# [[1, 3], [8, 9]]\n",
    "# [0,1],[1,0],[2,2],[3,0]  - single element index\n",
    "print(a[np.array([[0,1],[2,3]]), np.array([[1,0],[2,0]])])"
   ]
  },
  {
   "cell_type": "markdown",
   "metadata": {
    "id": "8pSPklV4kUXn"
   },
   "source": [
    "### 7-07. boolean array의 사용\n",
    "- boolean_array는 원본배열과 동일한  shape의 dtype=bool인 배열\n",
    "- 원본에서 boolean_array가 True인 위치의 것만을 대상으로하는 배열이 반환됨\n",
    "- boolean_array는 ndarray, list 등으로 작성하거나, 연산의 결과 일 수 있음\n",
    "- 주로 결과가 True/False인 비교연산식을 사용하여 작성함\n",
    "- 복잡한 조건은 np.logical_and(), np.logical_or(), np.logical_not() 활용\n",
    "- boolean array와 &, |,~ 연산자를 사용하여 조건작성 가능 (괄호 사용 중요)\n"
   ]
  },
  {
   "cell_type": "code",
   "execution_count": 29,
   "metadata": {
    "colab": {
     "base_uri": "https://localhost:8080/"
    },
    "id": "1iG9zEk5bi5X",
    "outputId": "120178ab-4b89-4862-bb06-dff365ed5ce9"
   },
   "outputs": [
    {
     "name": "stdout",
     "output_type": "stream",
     "text": [
      "[6 4 3 1]\n",
      "[0 1 0 1 0 1]\n",
      "[ True False  True False  True False]\n",
      "[6 4 2]\n",
      "[6 5 6 5 6 5]\n"
     ]
    }
   ],
   "source": [
    "a = np.arange(6, 0, -1) # [6 5 4 3 2 1]\n",
    "b = np.array([True, False, True, True, False, True])\n",
    "print(a[b]) # boolean array\n",
    "print(a%2)\n",
    "print(a%2==0)\n",
    "print(a[a%2==0]) # boolean array  (dtype = bool)\n",
    "print(a[a%2])    # index array (dtype = int)"
   ]
  },
  {
   "cell_type": "code",
   "execution_count": 31,
   "metadata": {
    "id": "_NRXM5PQm9cj"
   },
   "outputs": [],
   "source": [
    "def printary(w1, w2, ary, *, sep='|'):\n",
    "    for x in ary.split(sep):\n",
    "        x = x.strip()\n",
    "        t = eval(x)\n",
    "        print(f'%-{w1}s %-{w2}s %s' % (x, t.shape, t.tolist()))\n",
    "    print(\"-\" * 30)"
   ]
  },
  {
   "cell_type": "code",
   "execution_count": null,
   "metadata": {
    "colab": {
     "base_uri": "https://localhost:8080/",
     "height": 104
    },
    "id": "spGWahBGkZgt",
    "outputId": "50153b32-f8e0-472e-dde8-0f1512d9f104"
   },
   "outputs": [
    {
     "name": "stdout",
     "output_type": "stream",
     "text": [
      "a          (10,)   [2, 1, 5, 3, 0, 8, 9, 6, 7, 4]\n",
      "a[a%2==0]  (5,)    [2, 0, 8, 6, 4]\n",
      "------------------------------\n",
      "a[a>=4]    (6,)    [5, 8, 9, 6, 7, 4]\n",
      "------------------------------\n"
     ]
    }
   ],
   "source": [
    "a = np.random.permutation(10)\n",
    "\n",
    "# 2의 배수인 것 검색  __________ 를 채우세요!\n",
    "printary(10, 7, \"a | _____________\")\n",
    "\n",
    "# 4보다 크거나 같은 수 검색  __________ 를 채우세요!\n",
    "printary(10, 7, \"___________\")   \n"
   ]
  },
  {
   "cell_type": "code",
   "execution_count": 32,
   "metadata": {
    "colab": {
     "base_uri": "https://localhost:8080/",
     "height": 92
    },
    "id": "Qet-XpuVaHhh",
    "outputId": "b60251eb-38f3-439a-9bea-5a422361dcaa"
   },
   "outputs": [
    {
     "name": "stdout",
     "output_type": "stream",
     "text": [
      "a[np.logical_or(a%3==0, a%2==0)] (7,)    [0, 2, 8, 6, 4, 9, 3]\n",
      "------------------------------\n",
      "a[(a%3==0) | (a%2==0)]           (7,)    [0, 2, 8, 6, 4, 9, 3]\n",
      "------------------------------\n"
     ]
    }
   ],
   "source": [
    "a = np.random.permutation(10)\n",
    "# | <= or를 나타낸다 => 반드시 각 조건(condition expression)을 괄호로 묶어야 한다\n",
    "# 3의 배수이거나 2의 배수인 수 검색, 결과를 보고 직접입력해 보세요\n",
    "printary(32, 7, \"a[np.logical_or(a%3==0, a%2==0)]\")\n",
    "printary(32, 7, \"a[(a%3==0) | (a%2==0)]\", sep='+')"
   ]
  },
  {
   "cell_type": "code",
   "execution_count": null,
   "metadata": {
    "colab": {
     "base_uri": "https://localhost:8080/",
     "height": 92
    },
    "id": "3OtW_UW2aJv3",
    "outputId": "42a8b2bf-7f6d-42cf-fe8a-202b5576285a"
   },
   "outputs": [
    {
     "name": "stdout",
     "output_type": "stream",
     "text": [
      "a[np.logical_and(a>=6,a<=9)]     (4,)    [6, 9, 8, 7]\n",
      "------------------------------\n",
      "a[(a>=6) & (a<=9)]               (4,)    [6, 9, 8, 7]\n",
      "------------------------------\n"
     ]
    }
   ],
   "source": [
    "# & <= and를 나타낸다 => 반드시 각 조건(condition expression)을 괄호로 묶어야 한다\n",
    "\n",
    "# 6보다 크거나 같고, 9보다 작거나 같은 수 검색, 결과를 보고 직접입력해 보세요\n",
    "printary(32, 7, \"a[  ]\")\n",
    "printary(32, 7, \"a[  ]\")"
   ]
  },
  {
   "cell_type": "code",
   "execution_count": null,
   "metadata": {
    "colab": {
     "base_uri": "https://localhost:8080/",
     "height": 92
    },
    "id": "PcJtb5LlaMJx",
    "outputId": "95bd7149-02f1-474f-ad20-384cc44622bc"
   },
   "outputs": [
    {
     "name": "stdout",
     "output_type": "stream",
     "text": [
      "a[np.logical_not(a%3==0)]        (6,)    [2, 1, 5, 4, 8, 7]\n",
      "------------------------------\n",
      "a[~(a%3==0)]                     (6,)    [2, 1, 5, 4, 8, 7]\n",
      "------------------------------\n"
     ]
    }
   ],
   "source": [
    "# ~  <= not을 나타낸다\n",
    "\n",
    "# 3의 배수가 아닌 수 검색, 결과를 보고 직접입력해 보세요\n",
    "printary(32, 7, \"a[   ]\")\n",
    "printary(32, 7, \"a[   ]\") "
   ]
  },
  {
   "cell_type": "code",
   "execution_count": null,
   "metadata": {
    "colab": {
     "base_uri": "https://localhost:8080/",
     "height": 55
    },
    "id": "rGSoKeTMdu1I",
    "outputId": "c0b864d8-f8fe-42dd-e3ef-e1f44061243b"
   },
   "outputs": [
    {
     "name": "stdout",
     "output_type": "stream",
     "text": [
      "[2 3 6 9 1 5 0 4 8 7]\n",
      "[ 2 -1 -1 -1  1  5 -1  4  8  7]\n"
     ]
    }
   ],
   "source": [
    "print(a)\n",
    "# a배열에서 3의 배수인 수를 -1로 변경하기\n",
    "\n",
    "print(a)"
   ]
  },
  {
   "cell_type": "markdown",
   "metadata": {
    "id": "wSm7zi7VeCrF"
   },
   "source": [
    "### 7-08. combine index & slice"
   ]
  },
  {
   "cell_type": "code",
   "execution_count": null,
   "metadata": {
    "colab": {
     "base_uri": "https://localhost:8080/"
    },
    "id": "rHpZQdvEeLhC",
    "outputId": "f4962c20-e8e7-439a-e31a-8c41eb17dc6f"
   },
   "outputs": [
    {
     "name": "stdout",
     "output_type": "stream",
     "text": [
      "[[ 1  3]\n",
      " [ 5  7]\n",
      " [ 9 11]]\n"
     ]
    }
   ],
   "source": [
    "b = np.arange(1, 12, 2).reshape(3, -1)\n",
    "print(b)"
   ]
  },
  {
   "cell_type": "code",
   "execution_count": null,
   "metadata": {
    "colab": {
     "base_uri": "https://localhost:8080/",
     "height": 73
    },
    "id": "JUC5T8IVfSim",
    "outputId": "7174b549-d954-4022-edd0-4b18f085fd7a"
   },
   "outputs": [
    {
     "data": {
      "text/plain": [
       "(array([[ 3],\n",
       "        [ 7],\n",
       "        [11]]), [[3], [7], [11]])"
      ]
     },
     "execution_count": 39,
     "metadata": {
      "tags": []
     },
     "output_type": "execute_result"
    }
   ],
   "source": [
    "# 마지막 열에 대해 차원을 유지하며 반환  shape =(3, 1)\n"
   ]
  },
  {
   "cell_type": "code",
   "execution_count": null,
   "metadata": {
    "colab": {
     "base_uri": "https://localhost:8080/"
    },
    "id": "xiE2FePgg70a",
    "outputId": "a2a6f2a0-1908-453d-c529-6a3f6a155b6c"
   },
   "outputs": [
    {
     "data": {
      "text/plain": [
       "(array([ 3,  7, 11]), [3, 7, 11])"
      ]
     },
     "execution_count": 4,
     "metadata": {
      "tags": []
     },
     "output_type": "execute_result"
    }
   ],
   "source": [
    "# 각 행의 마지막 열로 1차원 배열 만들어 반환 shape  = (3, )\n"
   ]
  },
  {
   "cell_type": "code",
   "execution_count": null,
   "metadata": {
    "colab": {
     "base_uri": "https://localhost:8080/",
     "height": 139
    },
    "id": "_knuf09Zhnms",
    "outputId": "8fa2906d-5054-450e-8509-63fdd1f40de7"
   },
   "outputs": [
    {
     "name": "stdout",
     "output_type": "stream",
     "text": [
      "[[[ 0  1]\n",
      "  [ 2  3]\n",
      "  [ 4  5]]\n",
      "\n",
      " [[ 6  7]\n",
      "  [ 8  9]\n",
      "  [10 11]]]\n"
     ]
    }
   ],
   "source": [
    "c = np.arange(12).reshape(2,3,2)\n",
    "print(c)"
   ]
  },
  {
   "cell_type": "code",
   "execution_count": null,
   "metadata": {
    "colab": {
     "base_uri": "https://localhost:8080/",
     "height": 52
    },
    "id": "JAdkD2L4hOm4",
    "outputId": "8a0b9ce3-3d87-43e1-ce13-19171f80c391"
   },
   "outputs": [
    {
     "data": {
      "text/plain": [
       "array([[ 4,  5],\n",
       "       [10, 11]])"
      ]
     },
     "execution_count": 91,
     "metadata": {
      "tags": []
     },
     "output_type": "execute_result"
    }
   ],
   "source": [
    "# axis=0 (모두), axis=1 (-1, 마지막 index), axis=2 (모두) shape = (2,2)\n",
    " "
   ]
  },
  {
   "cell_type": "code",
   "execution_count": null,
   "metadata": {
    "colab": {
     "base_uri": "https://localhost:8080/",
     "height": 52
    },
    "id": "AMjVqAM9hhbz",
    "outputId": "9b404425-e25a-496a-9cdd-80a4cfd6ebec"
   },
   "outputs": [
    {
     "data": {
      "text/plain": [
       "array([[ 1,  3,  5],\n",
       "       [ 7,  9, 11]])"
      ]
     },
     "execution_count": 96,
     "metadata": {
      "tags": []
     },
     "output_type": "execute_result"
    }
   ],
   "source": [
    "# c[:, :, -1]와 동일한 표현 ... 사용해 볼 것 , axis=0, 1 (모두), axis=2(-1, 마지막 index)  shape = (2, 3)\n"
   ]
  },
  {
   "cell_type": "code",
   "execution_count": null,
   "metadata": {
    "id": "T1zqIWa_h03G"
   },
   "outputs": [],
   "source": [
    "# c[:, :, :1]와 동일  axis=0, 1 (모두), axis=2(0~0) shape = (2, 3, 1)\n"
   ]
  },
  {
   "cell_type": "code",
   "execution_count": null,
   "metadata": {
    "colab": {
     "base_uri": "https://localhost:8080/",
     "height": 34
    },
    "id": "bq87bvMCh4eJ",
    "outputId": "d2a062d8-0e5a-4ffb-89e3-c16f47d63389"
   },
   "outputs": [
    {
     "data": {
      "text/plain": [
       "array([[2, 3]])"
      ]
     },
     "execution_count": 97,
     "metadata": {
      "tags": []
     },
     "output_type": "execute_result"
    }
   ],
   "source": [
    "# c[[0], 1, :]  axis=0 (index array [0]), axis=1 (single element), axis=2 (모두) \n",
    " \n",
    "# shape = (1, 2)"
   ]
  },
  {
   "cell_type": "code",
   "execution_count": null,
   "metadata": {
    "colab": {
     "base_uri": "https://localhost:8080/",
     "height": 52
    },
    "id": "Z6zHqMXdibWj",
    "outputId": "e414836a-4686-461b-db29-11bfdc147fa1"
   },
   "outputs": [
    {
     "data": {
      "text/plain": [
       "array([[[2, 3],\n",
       "        [4, 5]]])"
      ]
     },
     "execution_count": 98,
     "metadata": {
      "tags": []
     },
     "output_type": "execute_result"
    }
   ],
   "source": [
    "# c[[0], 1:, :] axis=0 (index array [0]), axis=1 (slice), axis=2 (모두) \n",
    "\n",
    "# shape = (1,2,2)"
   ]
  },
  {
   "cell_type": "markdown",
   "metadata": {
    "id": "WiYCE_GfihTg"
   },
   "source": [
    "### 7-09. indexing 활용"
   ]
  },
  {
   "cell_type": "code",
   "execution_count": null,
   "metadata": {
    "id": "IhmTPBQF5tiY"
   },
   "outputs": [],
   "source": [
    "import numpy as np"
   ]
  },
  {
   "cell_type": "code",
   "execution_count": null,
   "metadata": {
    "colab": {
     "base_uri": "https://localhost:8080/",
     "height": 87
    },
    "id": "HBC9VaLJipg6",
    "outputId": "70127628-db84-4382-ceeb-c157656fb5a5"
   },
   "outputs": [
    {
     "name": "stdout",
     "output_type": "stream",
     "text": [
      "[[ 0 -1  4]\n",
      " [-2  3  2]\n",
      " [ 1 -2 -1]\n",
      " [-4  3 -2]]\n"
     ]
    }
   ],
   "source": [
    "aN3 = np.array([[0,-1,4],[-2,3,2],[1,-2,-1],[-4,3,-2]])\n",
    "print(aN3)"
   ]
  },
  {
   "cell_type": "code",
   "execution_count": null,
   "metadata": {
    "colab": {
     "base_uri": "https://localhost:8080/",
     "height": 87
    },
    "id": "mCURA7lskn64",
    "outputId": "7b4648a0-42fc-47ea-b3fe-19f6fd002043"
   },
   "outputs": [
    {
     "data": {
      "text/plain": [
       "array([[-1,  0,  4],\n",
       "       [ 3, -2,  2],\n",
       "       [-2,  1, -1],\n",
       "       [ 3, -4, -2]])"
      ]
     },
     "execution_count": 4,
     "metadata": {
      "tags": []
     },
     "output_type": "execute_result"
    }
   ],
   "source": [
    "# aN3배열의 0번, 1번 열을 교환하여 배열 생성\n",
    "  # index array"
   ]
  },
  {
   "cell_type": "code",
   "execution_count": null,
   "metadata": {
    "colab": {
     "base_uri": "https://localhost:8080/",
     "height": 34
    },
    "id": "jg4KU2Sg55cD",
    "outputId": "a3edfd92-e5f8-44e7-c4c3-e994d8e93212"
   },
   "outputs": [
    {
     "data": {
      "text/plain": [
       "array([ 0, -2,  1, -4])"
      ]
     },
     "execution_count": 5,
     "metadata": {
      "tags": []
     },
     "output_type": "execute_result"
    }
   ],
   "source": [
    "# aN3 배열의 모든 행 0번 열을 가지고 1D 배열 만들기 - single element 사용, 결과 shape = (4,)\n",
    "    "
   ]
  },
  {
   "cell_type": "code",
   "execution_count": null,
   "metadata": {
    "colab": {
     "base_uri": "https://localhost:8080/",
     "height": 87
    },
    "id": "kMlae2ac6Ylw",
    "outputId": "062bba53-2d71-4c6d-ee5f-189c8b2d54ec"
   },
   "outputs": [
    {
     "data": {
      "text/plain": [
       "array([[ 0, -1,  4],\n",
       "       [-2,  3,  2],\n",
       "       [ 1, -2, -1],\n",
       "       [-4,  3, -2]])"
      ]
     },
     "execution_count": 7,
     "metadata": {
      "tags": []
     },
     "output_type": "execute_result"
    }
   ],
   "source": [
    "aN3"
   ]
  },
  {
   "cell_type": "code",
   "execution_count": null,
   "metadata": {
    "colab": {
     "base_uri": "https://localhost:8080/",
     "height": 34
    },
    "id": "oUJ2IJ3E6P6L",
    "outputId": "3da43764-6e5e-4363-b07a-a159ed8b1424"
   },
   "outputs": [
    {
     "data": {
      "text/plain": [
       "array([False,  True, False,  True])"
      ]
     },
     "execution_count": 6,
     "metadata": {
      "tags": []
     },
     "output_type": "execute_result"
    }
   ],
   "source": [
    "# aN3배열의 0번 열의 값이 0보다 작은 것에 대해 True 아닌 것에 대해 False로 출력\n"
   ]
  },
  {
   "cell_type": "code",
   "execution_count": null,
   "metadata": {
    "colab": {
     "base_uri": "https://localhost:8080/",
     "height": 52
    },
    "id": "1HsqLU6WcrZY",
    "outputId": "5620b396-8c90-4e06-f8d4-be9c7442d6be"
   },
   "outputs": [
    {
     "data": {
      "text/plain": [
       "array([[-2,  3,  2],\n",
       "       [-4,  3, -2]])"
      ]
     },
     "execution_count": 8,
     "metadata": {
      "tags": []
     },
     "output_type": "execute_result"
    }
   ],
   "source": [
    "# aN3 배열의 0번 열 값이 0보다 작은 것에 대한 행 추출\n"
   ]
  },
  {
   "cell_type": "code",
   "execution_count": null,
   "metadata": {
    "colab": {
     "base_uri": "https://localhost:8080/",
     "height": 52
    },
    "id": "gIl1mJPacvDB",
    "outputId": "812c1271-0c07-4ce6-9b3a-78707e1a8609"
   },
   "outputs": [
    {
     "data": {
      "text/plain": [
       "array([[ 3,  2],\n",
       "       [ 3, -2]])"
      ]
     },
     "execution_count": 9,
     "metadata": {
      "tags": []
     },
     "output_type": "execute_result"
    }
   ],
   "source": [
    "# aN3 배열의 0번 열 값이 0보다 작은 것에 대한 aN3배열의 행에 대해 1번부터 끝까지의 열 추출\n"
   ]
  },
  {
   "cell_type": "code",
   "execution_count": null,
   "metadata": {
    "colab": {
     "base_uri": "https://localhost:8080/",
     "height": 69
    },
    "id": "9rkFYuuwkZQZ",
    "outputId": "09c3eaf3-1f4f-4a31-8bd6-1b5a97cd801e"
   },
   "outputs": [
    {
     "name": "stdout",
     "output_type": "stream",
     "text": [
      "[[0 0 0 0 0]\n",
      " [1 1 1 1 1]\n",
      " [2 2 2 2 2]]\n"
     ]
    }
   ],
   "source": [
    "a3N = np.array([[x] * 5 for x in range(3)])\n",
    "print(a3N)"
   ]
  },
  {
   "cell_type": "code",
   "execution_count": null,
   "metadata": {
    "colab": {
     "base_uri": "https://localhost:8080/",
     "height": 69
    },
    "id": "iI9KD6SmcUuX",
    "outputId": "466eb3cc-bea8-40da-da79-1557a77ceaab"
   },
   "outputs": [
    {
     "data": {
      "text/plain": [
       "array([[0, 0, 0, 0, 0],\n",
       "       [2, 2, 2, 2, 2],\n",
       "       [1, 1, 1, 1, 1]])"
      ]
     },
     "execution_count": 11,
     "metadata": {
      "tags": []
     },
     "output_type": "execute_result"
    }
   ],
   "source": [
    "# a3N 배열의 1, 2번 행을 교환함\n",
    "   # index array"
   ]
  },
  {
   "cell_type": "code",
   "execution_count": null,
   "metadata": {
    "colab": {
     "base_uri": "https://localhost:8080/",
     "height": 34
    },
    "id": "H7tmj9xnkcwl",
    "outputId": "60190f85-e1c1-425c-f763-aee821b2c1e6"
   },
   "outputs": [
    {
     "name": "stdout",
     "output_type": "stream",
     "text": [
      "[0 1 2]\n"
     ]
    }
   ],
   "source": [
    "aN  = np.arange(3)\n",
    "print(aN)"
   ]
  },
  {
   "cell_type": "code",
   "execution_count": null,
   "metadata": {
    "colab": {
     "base_uri": "https://localhost:8080/",
     "height": 73
    },
    "id": "l_ZhZ7T4cfCM",
    "outputId": "1f9e522a-a270-4c44-b3e3-bb3bebcff8bd"
   },
   "outputs": [
    {
     "data": {
      "text/plain": [
       "array([[0],\n",
       "       [1],\n",
       "       [2]])"
      ]
     },
     "execution_count": 79,
     "metadata": {
      "tags": []
     },
     "output_type": "execute_result"
    }
   ],
   "source": [
    "# aN 배열의 shape을 (3, 1)로 변경함\n",
    "aN.reshape(-1, 1)"
   ]
  },
  {
   "cell_type": "code",
   "execution_count": null,
   "metadata": {
    "colab": {
     "base_uri": "https://localhost:8080/",
     "height": 73
    },
    "id": "wXnHzm6ScZQP",
    "outputId": "6f754b17-429d-48a3-8462-daa8c0fce6c4"
   },
   "outputs": [
    {
     "data": {
      "text/plain": [
       "array([[0],\n",
       "       [1],\n",
       "       [2]])"
      ]
     },
     "execution_count": 76,
     "metadata": {
      "tags": []
     },
     "output_type": "execute_result"
    }
   ],
   "source": [
    "# aN 배열의 shape을 (3, 1)로 변경하는 다른 방법 (None 사용)\n"
   ]
  },
  {
   "cell_type": "code",
   "execution_count": null,
   "metadata": {
    "colab": {
     "base_uri": "https://localhost:8080/",
     "height": 73
    },
    "id": "A3Y8x9ECcbPz",
    "outputId": "f60de5b8-1f22-435e-8ddb-efb62ae41148"
   },
   "outputs": [
    {
     "data": {
      "text/plain": [
       "array([[0],\n",
       "       [1],\n",
       "       [2]])"
      ]
     },
     "execution_count": 77,
     "metadata": {
      "tags": []
     },
     "output_type": "execute_result"
    }
   ],
   "source": [
    "# aN 배열의 shape을 (3, 1)로 변경하는 다른 방법 (np.newaxis 사용)\n"
   ]
  },
  {
   "cell_type": "markdown",
   "metadata": {
    "id": "5ObDK5YentuF"
   },
   "source": [
    "## 8.numpy의 유용한 함수\n"
   ]
  },
  {
   "cell_type": "markdown",
   "metadata": {
    "id": "LZsF7WC7l-sN"
   },
   "source": [
    "### 8-01. 정수값과 관련 있는 난수 발생\n",
    "- np.random.seed(정수)\n",
    "- 정수가 같으면 항상 같은 난수가 발생됨\n",
    "- np.random.randint(start, stop, size=shape)\n",
    "- start ~ stop-1까지의 정수로 구성된 size 모양의 난수 배열 반환 \n",
    "- 1차원인 경우 size에 정수 사용가능\n"
   ]
  },
  {
   "cell_type": "code",
   "execution_count": null,
   "metadata": {
    "colab": {
     "base_uri": "https://localhost:8080/",
     "height": 70
    },
    "id": "o3JRelH1mQuV",
    "outputId": "06ba6903-db5e-4394-8ace-2d72e0e30070"
   },
   "outputs": [
    {
     "name": "stdout",
     "output_type": "stream",
     "text": [
      "[[3 1 4 2]\n",
      " [3 2 2 4]\n",
      " [4 3 4 1]]\n"
     ]
    }
   ],
   "source": [
    "import numpy as np\n",
    "#np.random.seed(101)\n",
    "x = np.random.randint(1, 5, size=(3,4))\n",
    "print(x)"
   ]
  },
  {
   "cell_type": "markdown",
   "metadata": {
    "id": "41qStLtMmsHp"
   },
   "source": [
    "### 8-02. ndarray 객체 순서 무작위 변경\n",
    "- np.random.shuffle(ndarray객체)\n",
    "- None 반환"
   ]
  },
  {
   "cell_type": "code",
   "execution_count": null,
   "metadata": {
    "colab": {
     "base_uri": "https://localhost:8080/",
     "height": 105
    },
    "id": "fw9SKoklm6Th",
    "outputId": "5996596b-168a-4f12-ee20-8493faa52e91"
   },
   "outputs": [
    {
     "name": "stdout",
     "output_type": "stream",
     "text": [
      "[[4 5 6]\n",
      " [7 1 5]\n",
      " [3 4 5]\n",
      " [1 2 3]]\n",
      "[2 0 9 4 1 5 8 6 7 3]\n"
     ]
    }
   ],
   "source": [
    "a = np.arange(10)\n",
    "a = np.array([[1,2,3],[4,5,6],[3,4,5],[7,1,5]])\n",
    "np.random.shuffle(a)\n",
    "print(a)\n",
    "\n",
    "a = np.random.permutation(10)\n",
    "print(a)"
   ]
  },
  {
   "cell_type": "markdown",
   "metadata": {
    "id": "n64MfSyDnodg"
   },
   "source": [
    "### 8-03. 중복 값 제거된 배열 생성\n",
    "- np.unique(a, return_counts=False)\n",
    "- a 가 다차원 배열인 경우 1차원으로 변경되어 작업 됨\n",
    "- return_counts 인수를 True로 설정하면 각 데이터 개수의 ndarray 배열도 생성하여 반환\n",
    "- (중복 값 제거된 배열, 각 데이터 개수의 배열) tuple 반환\n"
   ]
  },
  {
   "cell_type": "code",
   "execution_count": null,
   "metadata": {
    "id": "i_6F_MNknnWR"
   },
   "outputs": [],
   "source": [
    "np.random.seed(1000)\n",
    "a = np.random.randint(1, 100000, size = 200000)\n",
    "b = a.reshape(1000, -1)"
   ]
  },
  {
   "cell_type": "code",
   "execution_count": null,
   "metadata": {
    "colab": {
     "base_uri": "https://localhost:8080/",
     "height": 87
    },
    "id": "cNUB9nCpH7yR",
    "outputId": "5cf7f9e4-e42b-4547-9e2a-43036cb19c8a"
   },
   "outputs": [
    {
     "name": "stdout",
     "output_type": "stream",
     "text": [
      "size=86439\n",
      "[    1     2     3 ... 99996 99998 99999]\n",
      "size=86439\n",
      "[    1     2     3 ... 99996 99998 99999]\n"
     ]
    }
   ],
   "source": [
    "# a 배열에 대해 중복을 제거한 값 구하기\n",
    "x1 = np.unique(a)\n",
    "\n",
    "# b 배열에 대해 중복을 제거한 값 구하기\n",
    "x2 = np.unique(b)\n",
    "print(f'size={len(x1)}', x1, sep='\\n')\n",
    "print(f'size={len(x2)}', x2, sep='\\n')"
   ]
  },
  {
   "cell_type": "code",
   "execution_count": null,
   "metadata": {
    "colab": {
     "base_uri": "https://localhost:8080/",
     "height": 52
    },
    "id": "wftjr7qDIzCp",
    "outputId": "206763b8-92cc-47c1-da0e-22319aaf2dac"
   },
   "outputs": [
    {
     "name": "stdout",
     "output_type": "stream",
     "text": [
      "[1 2 3 5]\n",
      "[list([1, 2, 3]) list([1, 3])]\n"
     ]
    }
   ],
   "source": [
    "c = [ [1,2,3], [1,2,3], [1,3,5] ]\n",
    "d = [ [1,2,3], [1,2,3], [1,3] ]\n",
    "\n",
    "# x3, x4 결과를 확인하고 그 이유를 분석하세요.\n",
    "x3 = np.unique(c)\n",
    "x4 = np.unique(d)\n",
    "print(x3, x4, sep='\\n')"
   ]
  },
  {
   "cell_type": "code",
   "execution_count": null,
   "metadata": {
    "colab": {
     "base_uri": "https://localhost:8080/",
     "height": 52
    },
    "id": "KwmWEuEIJcQj",
    "outputId": "018a0884-fc3e-46f1-85e0-dde2460adcf1"
   },
   "outputs": [
    {
     "name": "stdout",
     "output_type": "stream",
     "text": [
      "[1 2 3 5]\n",
      "[3 2 3 1]\n"
     ]
    }
   ],
   "source": [
    "# c 배열에 대해 중복을 제거하고, 각 데이터의 개수를 반환 받아 출력해 보세요. \n",
    "x5, rcount = np.unique(c, return_counts=True)\n",
    "print(x5, rcount, sep='\\n')"
   ]
  },
  {
   "cell_type": "markdown",
   "metadata": {
    "id": "Go_yT2K2KR-M"
   },
   "source": [
    "### 8-04. 배열에서 가장 큰/작은 요소의 index 번호 \n",
    "- np.argmax(a)\n",
    "- np.argmin(a)\n",
    "- index는 0번부터 시작\n",
    "- 2차원 이상인 경우 1차원으로 변경하여 작업 진행됨"
   ]
  },
  {
   "cell_type": "code",
   "execution_count": null,
   "metadata": {
    "colab": {
     "base_uri": "https://localhost:8080/",
     "height": 158
    },
    "id": "QRlz8iWfLC3Z",
    "outputId": "d49171a5-4606-4f4f-ccc4-7ee64019b15b"
   },
   "outputs": [
    {
     "name": "stdout",
     "output_type": "stream",
     "text": [
      "[47 83 38 53 76 24 15 49 23 26 30 43]\n",
      "[[[47 83]\n",
      "  [38 53]\n",
      "  [76 24]]\n",
      "\n",
      " [[15 49]\n",
      "  [23 26]\n",
      "  [30 43]]]\n"
     ]
    }
   ],
   "source": [
    "np.random.seed(1234)\n",
    "x1 = np.random.randint(100, size = 12)\n",
    "x2 = x1.reshape(2,3,2)\n",
    "print(x1, x2, sep='\\n')"
   ]
  },
  {
   "cell_type": "code",
   "execution_count": null,
   "metadata": {
    "colab": {
     "base_uri": "https://localhost:8080/",
     "height": 52
    },
    "id": "MIKYZm-GLQbW",
    "outputId": "a9872fa1-61ea-4a85-f9ec-950ae92d3b13"
   },
   "outputs": [
    {
     "name": "stdout",
     "output_type": "stream",
     "text": [
      "x1 - argmax : 1, argmin : 6\n",
      "x2 - argmax : 1, argmin : 6\n"
     ]
    }
   ],
   "source": [
    "print(f'x1 - argmax : {np.argmax(x1)}, argmin : {np.argmin(x1)}')\n",
    "print(f'x2 - argmax : {np.argmax(x2)}, argmin : {np.argmin(x2)}')"
   ]
  },
  {
   "cell_type": "markdown",
   "metadata": {
    "id": "-UeeRdmEMWlW"
   },
   "source": [
    "### 8-05. min보다 작은 값을 min으로 max보다 큰 값을 max로 변경\n",
    "- np.clip(a, min, max, out=None)\n",
    "- 새로운 배열 반환, out에 a와 동일 크기의 배열 지정 가능\n",
    "- out 사용 시, out에 지정된 배열로도 결과가 반환됨 (배열내용변경)\n"
   ]
  },
  {
   "cell_type": "code",
   "execution_count": null,
   "metadata": {
    "colab": {
     "base_uri": "https://localhost:8080/",
     "height": 52
    },
    "id": "_V-KcxlxN9q6",
    "outputId": "82188cbe-cadf-4fa5-dff2-12afef394175"
   },
   "outputs": [
    {
     "name": "stdout",
     "output_type": "stream",
     "text": [
      "[34 56 57 55 46 48 34 58 44 35]\n",
      "[35 55 55 55 46 48 35 55 44 35]\n"
     ]
    }
   ],
   "source": [
    "np.random.seed(150)\n",
    "x = np.random.randint(30, 60, 10)\n",
    "y1 = np.clip(x, 35, 55)\n",
    "print(x, y1, sep='\\n')"
   ]
  },
  {
   "cell_type": "code",
   "execution_count": null,
   "metadata": {
    "colab": {
     "base_uri": "https://localhost:8080/",
     "height": 52
    },
    "id": "YM1PR59-OqRK",
    "outputId": "3f75b372-ef49-4c9d-b70c-b5674e4e3690"
   },
   "outputs": [
    {
     "name": "stdout",
     "output_type": "stream",
     "text": [
      "[40 50 50 50 46 48 40 50 44 40]\n",
      "[40 50 50 50 46 48 40 50 44 40]\n"
     ]
    }
   ],
   "source": [
    "y2 = np.clip(x, 40, 50, out=x)\n",
    "print(x, y2,sep='\\n')"
   ]
  },
  {
   "cell_type": "markdown",
   "metadata": {
    "id": "OUtgDfMWpd70"
   },
   "source": [
    "### 8-06. 조건에 따른 데이터 선택\n",
    "- np.where( 조건 [, c, d])\n",
    "- 조건 : 참, 거짓(=0, False, None)으로 이루어진 \n",
    "- 조건 배열이 참일 때 c, 거짓일 때 d를 취한 배열 반환 (c, d는 스칼라 가능)\n",
    "- c, d 생략 시 조건이 참인 것에 대한 index 배열(ndarray) tuple 반환 (ndarray, ndarray, ...) 의 형태\n",
    "- 조건 배열의 ndim == len(tuple)\n",
    "- 복잡한 조건은  ~, &, |, 및 np.logical_and(), np.logical_or(), logical_not() 사용\n",
    "\n"
   ]
  },
  {
   "cell_type": "code",
   "execution_count": null,
   "metadata": {
    "id": "cSZ0NdnXoC0C"
   },
   "outputs": [],
   "source": [
    "a = np.array([4, 8, 2, 5])  \n",
    "b = np.array([3, 9, 1, 7])\n",
    "\n",
    "# 각 결과를 예측하고 실행하여 확인해 보세요\n",
    "print(np.where(True, a, b))\n",
    "print(np.where(False, a, b)) "
   ]
  },
  {
   "cell_type": "code",
   "execution_count": null,
   "metadata": {
    "colab": {
     "base_uri": "https://localhost:8080/",
     "height": 52
    },
    "id": "2ULEpZwFSd8L",
    "outputId": "bf10f13d-4706-4a9a-d9aa-080c02528ffd"
   },
   "outputs": [
    {
     "name": "stdout",
     "output_type": "stream",
     "text": [
      "[[3 2]\n",
      " [9 7]]\n"
     ]
    }
   ],
   "source": [
    "# 출력이 다음과 같도록 boolean list를 만들어 보세요.\n",
    "# [[3 2]\n",
    "#  [9 7]]\n",
    "print(np.where(                  # boolean list here!  ,\n",
    "                [[3, 4], [5, 7]],\n",
    "                [[1, 2], [9, 2]])) "
   ]
  },
  {
   "cell_type": "code",
   "execution_count": null,
   "metadata": {
    "colab": {
     "base_uri": "https://localhost:8080/",
     "height": 34
    },
    "id": "jQrHiGbQmY3f",
    "outputId": "d0891a86-e8b5-4066-9ab5-ec1a4872e437"
   },
   "outputs": [
    {
     "data": {
      "text/plain": [
       "array([1, 9, 5])"
      ]
     },
     "execution_count": 103,
     "metadata": {
      "tags": []
     },
     "output_type": "execute_result"
    }
   ],
   "source": [
    "a = np.array([[1, 3, 5], [7, 9, 11]])\n",
    "# (0, 0) (1, 1) (0, 2)\n",
    "# list arrays를 사용하여 다음 출력이 되도록 작성해 보세요\n",
    "a[ , ]"
   ]
  },
  {
   "cell_type": "code",
   "execution_count": null,
   "metadata": {
    "colab": {
     "base_uri": "https://localhost:8080/"
    },
    "id": "-Qf9s2yCmdcO",
    "outputId": "f8a4d129-a03f-4973-9771-6a2b061650f8"
   },
   "outputs": [
    {
     "name": "stdout",
     "output_type": "stream",
     "text": [
      "['A' 'C']\n"
     ]
    }
   ],
   "source": [
    "a = np.array([['A', 'B'], ['C', 'D']])\n",
    "\n",
    "# np.where에 한 개의 argument만 전달하면 True인 것에 대한 위치 list arrays가 반환 된다. 차원의 수와 동일한 개수의 ndarray가 반환 됨\n",
    "ia0, ia1 = np.where([[True, False], [True, False]])\n",
    "\n",
    "# ia0, ia1을 사용하여 ['A', 'C']가 출력되도록 하여 보세요.\n",
    "c = a[     ]\n",
    "print(c)\n"
   ]
  },
  {
   "cell_type": "code",
   "execution_count": null,
   "metadata": {
    "colab": {
     "base_uri": "https://localhost:8080/"
    },
    "id": "EfzTY_dxKl9N",
    "outputId": "b32da217-45b6-43c4-a0cf-cc66dd02a621"
   },
   "outputs": [
    {
     "name": "stdout",
     "output_type": "stream",
     "text": [
      "['A' 'B' 'D']\n"
     ]
    }
   ],
   "source": [
    "x = np.where([[True, True], [False, True]])\n",
    "# x를 사용하여 ['A', 'B', 'D']가 출력되도록 하여 보세요.\n",
    "print(a[      ])"
   ]
  },
  {
   "cell_type": "markdown",
   "metadata": {
    "id": "NI5VdQA-hj4B"
   },
   "source": [
    "### 8-07. 통계값 함수들\n",
    "- axis를 0 또는 1로 지정할 경우 \n",
    "- axis=0은 index 방향으로 연산, axis=1은 column 방향으로 연산한 값을 배열로 반환함\n",
    "- ndarray에서 동일 동작을 하는 동일 이름의 메서드 있음 (arr.mean())\n"
   ]
  },
  {
   "cell_type": "code",
   "execution_count": 34,
   "metadata": {
    "id": "Ey91LwR3nyUC"
   },
   "outputs": [],
   "source": [
    "def printary(*a):\n",
    "    for x in a:\n",
    "        print(x)\n",
    "    print(\"-\" * 30)"
   ]
  },
  {
   "cell_type": "code",
   "execution_count": 35,
   "metadata": {
    "colab": {
     "base_uri": "https://localhost:8080/",
     "height": 122
    },
    "id": "r7crpADdnz0V",
    "outputId": "b1d3ce0a-38f6-4a38-8426-e33c98ed24c5"
   },
   "outputs": [
    {
     "name": "stdout",
     "output_type": "stream",
     "text": [
      "[[1 2 3]\n",
      " [4 5 6]]\n",
      "21\n",
      "[5 7 9]\n",
      "[ 6 15]\n",
      "------------------------------\n"
     ]
    }
   ],
   "source": [
    "# np.sum(a, axis=None)\n",
    "# 배열내 모든 원소의 합을 스칼라 값으로 반환\n",
    "a = np.arange(1,7).reshape((2,3))  \n",
    "\n",
    "# a배열의 모든 요소의 합을 구함\n",
    "b = a.sum()\n",
    "\n",
    "# a배열의 axis = 0 방향의 요소의 합을 구함\n",
    "c = a.sum(axis=0)\n",
    "\n",
    "# a배열의 axis = 1 방향의 요소의 합을 구함\n",
    "d = a.sum(axis=1)\n",
    "printary(a, b, c, d)"
   ]
  },
  {
   "cell_type": "code",
   "execution_count": null,
   "metadata": {
    "colab": {
     "base_uri": "https://localhost:8080/",
     "height": 122
    },
    "id": "tjZOEVTzn6vL",
    "outputId": "37f1e7a1-2d53-4dc9-ceee-7bc05274fb0c"
   },
   "outputs": [
    {
     "name": "stdout",
     "output_type": "stream",
     "text": [
      "[[1 2 3]\n",
      " [4 5 6]]\n",
      "3.5\n",
      "[2.5 3.5 4.5]\n",
      "[2. 5.]\n",
      "------------------------------\n"
     ]
    }
   ],
   "source": [
    "# np.mean(a, axis=None)\n",
    "# 배열내 모든 원소의 평균을 스칼라 값으로 반환\n",
    "# 중앙값 : median\n",
    "a = np.arange(1,7).reshape((2,3))       \n",
    "b = a.mean()\n",
    "c = a.mean(axis = 0)\n",
    "d = a.mean(axis = 1)\n",
    "printary(a, b, c, d)"
   ]
  },
  {
   "cell_type": "code",
   "execution_count": null,
   "metadata": {
    "colab": {
     "base_uri": "https://localhost:8080/",
     "height": 122
    },
    "id": "WcdXXjNyn9bC",
    "outputId": "f6f7fd4f-b278-4872-aeae-18b70d3985d1"
   },
   "outputs": [
    {
     "name": "stdout",
     "output_type": "stream",
     "text": [
      "[[1 2 3]\n",
      " [4 5 6]]\n",
      "1.707825127659933\n",
      "[1.5 1.5 1.5]\n",
      "[0.81649658 0.81649658]\n",
      "------------------------------\n"
     ]
    }
   ],
   "source": [
    "# np.std(a, axis=None)\n",
    "# 배열내 모든 원소의 표준편차를 스칼라 값으로 반환\n",
    "# 분산 : std\n",
    "a = np.arange(1,7).reshape((2,3))       \n",
    "b = a.std()\n",
    "c = a.std(axis = 0)\n",
    "d = a.std(axis = 1)\n",
    "printary(a, b, c, d)"
   ]
  },
  {
   "cell_type": "code",
   "execution_count": null,
   "metadata": {
    "colab": {
     "base_uri": "https://localhost:8080/",
     "height": 70
    },
    "id": "xjMd_bR0n_KM",
    "outputId": "f52e1fc9-f5d4-4359-c6fc-ffa169e3bb50"
   },
   "outputs": [
    {
     "name": "stdout",
     "output_type": "stream",
     "text": [
      "True\n",
      "True\n",
      "------------------------------\n"
     ]
    }
   ],
   "source": [
    "# np.any(a, axis=None)\n",
    "# 배열의 원소들 중 참이 하나라도 있으면 True 반환\n",
    "# np.all(a, axis=None)\n",
    "# 배열의 모든 원소가 참인 경우 True 반환\n",
    "\n",
    "a = np.arange(6).reshape((2,3))  \n",
    "a = np.arange(1, 6)\n",
    "printary(a.any(), a.all())"
   ]
  },
  {
   "cell_type": "markdown",
   "metadata": {
    "id": "74nUQi-TqQmc"
   },
   "source": [
    "### 8-08. dot, matmul\n",
    "**dot, matmul 연산은 두 배열의 행과 열에 대한 곱의 합을 구하는 함수이다**\n",
    "- a는 앞, b는 뒤에 위치한 배열일때\n",
    "- a의 axis -1과 b의 axis -2의 각 요소 곱의 합을 구하는 것\n",
    "- a의 axis -1과 b의 axis -2의 요소 수가 같아야 함\n",
    "- b가 1-D인 경우 b의 axis -1의 요소가 곱의 대상이 됨"
   ]
  },
  {
   "cell_type": "markdown",
   "metadata": {
    "id": "TlSLkzb6k89_"
   },
   "source": [
    "![dot_matmul.png](data:image/png;base64,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)"
   ]
  },
  {
   "cell_type": "code",
   "execution_count": null,
   "metadata": {
    "colab": {
     "base_uri": "https://localhost:8080/",
     "height": 34
    },
    "id": "dwTSLhsph2gC",
    "outputId": "921e28a2-e106-4dee-b072-86c974c18cf2"
   },
   "outputs": [
    {
     "name": "stdout",
     "output_type": "stream",
     "text": [
      "(2, 3) (3, 2)\n"
     ]
    }
   ],
   "source": [
    "import numpy as np\n",
    "\n",
    "a = np.array([[1, 1, 1],\n",
    "              [2, 2, 2]])\n",
    "b = np.array([[1,2],\n",
    "              [3,4],\n",
    "              [5,6]])\n",
    "print(a.shape, b.shape)"
   ]
  },
  {
   "cell_type": "code",
   "execution_count": null,
   "metadata": {
    "colab": {
     "base_uri": "https://localhost:8080/",
     "height": 87
    },
    "id": "2BkZ8EzfjZJn",
    "outputId": "a3493c97-5f47-49de-fbfd-ea83727b2455"
   },
   "outputs": [
    {
     "name": "stdout",
     "output_type": "stream",
     "text": [
      "[[ 9 12]\n",
      " [18 24]]\n",
      "[[ 9 12]\n",
      " [18 24]]\n"
     ]
    }
   ],
   "source": [
    "c = np.matmul(a,b)\n",
    "d = a.dot(b)\n",
    "print(c, d, sep='\\n')"
   ]
  },
  {
   "cell_type": "markdown",
   "metadata": {
    "id": "gJmjS7bOlPIp"
   },
   "source": [
    "#### 8-08-1. matmul, dot의 같은 동작\n",
    "- a, b 모두 1-D, a, b 모두 2-D, a는 1-D, b는 N-D, a는 N-D, b는 1-D \n",
    "- 이경우 matmul함수 또는 @연산자로 사용하는 것이 권장됨 "
   ]
  },
  {
   "cell_type": "markdown",
   "metadata": {
    "id": "qKm0RV_Yf1tY"
   },
   "source": [
    "**- np.matmul(a, b), a @ b**\n",
    "- https://numpy.org/doc/stable/reference/generated/numpy.matmul.html\n",
    "  - a와 b의 'Matrix product'을 구해 반환, a, b : **스칼라 사용할 수 없음**\n",
    "  - a가 ndarray인 경우 @ 연산자를 사용할 수 있음\n",
    "  \n",
    "**- np.dot(a, b), a.dot(b)**\n",
    "- https://numpy.org/doc/stable/reference/generated/numpy.dot.html\n",
    "  - a와 b의 'Dot(Inner) product'을 구해 반환, a, b : **스칼라 사용할 수 있음**\n",
    "  - 많은 경우 matmul과 동일한 동작"
   ]
  },
  {
   "cell_type": "code",
   "execution_count": null,
   "metadata": {
    "id": "kxz8AtMDLw-Z"
   },
   "outputs": [],
   "source": [
    "# matmul, dot 연산은 shape을 계산할 수 있도록 연습하세요 ^^!!  "
   ]
  },
  {
   "cell_type": "code",
   "execution_count": null,
   "metadata": {
    "colab": {
     "base_uri": "https://localhost:8080/",
     "height": 70
    },
    "id": "BPkJcJNGqLK2",
    "outputId": "845461b0-9b7c-4c75-cf06-089139ecb5f3"
   },
   "outputs": [
    {
     "name": "stdout",
     "output_type": "stream",
     "text": [
      "14\n",
      "14\n",
      "()\n"
     ]
    }
   ],
   "source": [
    "# a, b 모두 1-D\n",
    "# c = sum(a * b), c = scalar\n",
    "\n",
    "a = np.array([1, 2, 3])\n",
    "b = np.array([1, 2, 3])\n",
    "\n",
    "c = np.matmul(a, b)\n",
    "d = np.dot(a, b)\n",
    "print(c, d, sep='\\n')\n",
    "print(c.shape)"
   ]
  },
  {
   "cell_type": "code",
   "execution_count": null,
   "metadata": {
    "colab": {
     "base_uri": "https://localhost:8080/",
     "height": 140
    },
    "id": "ape3o6uzl2R9",
    "outputId": "2d90057b-997e-4efc-9d12-05f952d05ee6"
   },
   "outputs": [
    {
     "name": "stdout",
     "output_type": "stream",
     "text": [
      "(3, 2) (2, 2) (3, 2)\n",
      "[[ 7 10]\n",
      " [15 22]\n",
      " [23 34]]\n",
      "[[ 7 10]\n",
      " [15 22]\n",
      " [23 34]]\n"
     ]
    }
   ],
   "source": [
    "# a, b 모두 2-D\n",
    "# c = sum(a[i, :] * b[:, n]), c.shape = (i, n) \n",
    "\n",
    "a = np.array([[1, 2], \n",
    "              [3, 4], \n",
    "              [5, 6]])\n",
    "b = np.array([[1, 2], \n",
    "              [3, 4]])\n",
    "# (3, 2)  (2, 2) => (3, 2)\n",
    "c = np.matmul(a, b)\n",
    "d = np.dot(a, b)\n",
    "print(a.shape, b.shape, c.shape)\n",
    "print(c, d, sep='\\n')     "
   ]
  },
  {
   "cell_type": "code",
   "execution_count": null,
   "metadata": {
    "colab": {
     "base_uri": "https://localhost:8080/",
     "height": 70
    },
    "id": "fvBiYbQtnBHH",
    "outputId": "d11b63c4-a5b0-4894-bbc8-24656e1bb78d"
   },
   "outputs": [
    {
     "name": "stdout",
     "output_type": "stream",
     "text": [
      "(3,) (1, 3, 2) (1, 2)\n",
      "[[14 20]]\n",
      "[[14 20]]\n"
     ]
    }
   ],
   "source": [
    "# a 1-D, b N-D \n",
    "# c = sum(a[:] * b[n, : , m]), c.shape = (n, m)\n",
    "a = np.array([1,2,3])\n",
    "b = np.array([[[1,2],\n",
    "               [2,3],\n",
    "               [3,4]]])\n",
    "# (3, )  (1, 3, 2) => (1, 2)\n",
    "c = np.matmul(a, b)\n",
    "d = np.dot(a, b)\n",
    "print(a.shape, b.shape, c.shape)\n",
    "print(c, d, sep='\\n') "
   ]
  },
  {
   "cell_type": "code",
   "execution_count": null,
   "metadata": {
    "colab": {
     "base_uri": "https://localhost:8080/",
     "height": 70
    },
    "id": "jV5GuSycJ1bh",
    "outputId": "ceab9f76-7468-4413-bfd5-74aef0334749"
   },
   "outputs": [
    {
     "name": "stdout",
     "output_type": "stream",
     "text": [
      "(3,) (3, 2) (2,)\n",
      "[14 20]\n",
      "[14 20]\n"
     ]
    }
   ],
   "source": [
    "# a 1-D, b N-D \n",
    "# c = sum(a[:] * b[n, : , m]), c.shape = (n, m)\n",
    "a = np.array([1,2,3])\n",
    "b = np.array([[1,2],\n",
    "              [2,3],\n",
    "              [3,4]])\n",
    "# (3, )  (3, 2) => (2,)\n",
    "c = np.matmul(a, b)\n",
    "d = np.dot(a, b)\n",
    "print(a.shape, b.shape, c.shape)\n",
    "print(c, d, sep='\\n') "
   ]
  },
  {
   "cell_type": "code",
   "execution_count": null,
   "metadata": {
    "colab": {
     "base_uri": "https://localhost:8080/",
     "height": 105
    },
    "id": "OOyOt78vqT9H",
    "outputId": "1013c6d0-dd03-4597-e1b5-f2fc98883d35"
   },
   "outputs": [
    {
     "name": "stdout",
     "output_type": "stream",
     "text": [
      "(2, 2, 3) (3,) (2, 2)\n",
      "[[14 32]\n",
      " [ 6 12]]\n",
      "[[14 32]\n",
      " [ 6 12]]\n"
     ]
    }
   ],
   "source": [
    "# a N-D, b 1-D \n",
    "# c = sum(a[i, j, :] * b[:]), c.shape = (i, j)\n",
    "a = np.array([[[1,2,3],\n",
    "               [4,5,6]],\n",
    "              [[1,1,1],\n",
    "               [2,2,2]]])\n",
    "b = np.array([1,2,3])\n",
    "# (2, 2, 3)  (3,) => (2, 2)\n",
    "c = np.matmul(a, b)\n",
    "d = np.dot(a, b)\n",
    "print(a.shape, b.shape, c.shape)\n",
    "print(c, d, sep='\\n') "
   ]
  },
  {
   "cell_type": "markdown",
   "metadata": {
    "id": "OCigs28kyNkT"
   },
   "source": [
    "#### 8-08-2. shape 계산 예제\n",
    "- (2, 2, 3) (3, )\n",
    "- (2, 3) (3, 2)\n",
    "- (2, 3) (3, )\n",
    "- (3, ) (3, 1)\n",
    "- dot 만 가능 : (3, 2)  2 (Scalar) => (3, 2)"
   ]
  },
  {
   "cell_type": "code",
   "execution_count": null,
   "metadata": {
    "id": "8aB3zRmEElGf"
   },
   "outputs": [],
   "source": [
    "a223 = np.array([[[1,2,3],[4,5,6]],[[1,1,1],[2,2,2]]])\n",
    "a32 = np.array([[1,2],[3,4],[5,6]])\n",
    "a31 = np.array([[1],[2],[3]])\n",
    "a23 = np.array([[1,1,1],[2,2,2]])\n",
    "a03 = np.array([1,2,3])"
   ]
  },
  {
   "cell_type": "code",
   "execution_count": null,
   "metadata": {
    "id": "VsnsrMqTudBW"
   },
   "outputs": [],
   "source": [
    "x1=np.dot(a223, a03)\n",
    "x2=np.matmul(a223, a03)\n",
    "printary(a223, a03, x1, x2)"
   ]
  },
  {
   "cell_type": "code",
   "execution_count": null,
   "metadata": {
    "id": "Oyf6gfOzucp0"
   },
   "outputs": [],
   "source": [
    "x1=np.dot(a23, a32)\n",
    "x2=np.matmul(a23, a32)\n",
    "printary(a23, a32, x1, x2)"
   ]
  },
  {
   "cell_type": "code",
   "execution_count": null,
   "metadata": {
    "id": "i0nunxzPuYj1"
   },
   "outputs": [],
   "source": [
    "x1=np.dot(a23, a03)\n",
    "x2=np.matmul(a23, a03)\n",
    "printary(a23, a03, x1, x2)"
   ]
  },
  {
   "cell_type": "code",
   "execution_count": null,
   "metadata": {
    "id": "ZdtXaAQ_uYb6"
   },
   "outputs": [],
   "source": [
    "x1=np.dot(a03, a31)\n",
    "x2=np.matmul(a03, a31)\n",
    "printary(a03, a31, x1, x2)"
   ]
  },
  {
   "cell_type": "markdown",
   "metadata": {
    "id": "Jf3wQnGhD1tR"
   },
   "source": [
    "#### 8-08-3. matmul, dot의 다른 동작  \n",
    "  - a, b 모두 1-D, a, b 모두 2-D, a는 1-D, b는 N-D, a는 N-D, b는 1-D는 동일 동작\n",
    "  - 위의 경우가 아니라면 결과 배열의 shape이 다를 수 있음\n",
    "      - 새로운 배열에서 계산한 값이 들어가는 위치가 다름\n",
    "  - a, b 중 한 쪽이 스칼라\n",
    "      - dot는 가능 matmul은 불가능"
   ]
  },
  {
   "cell_type": "markdown",
   "metadata": {
    "id": "KiOwdsZircnF"
   },
   "source": [
    "#### 8-08-4. 3차원이상을 포함한 배열의 matmul 연산\n",
    "- 대응하는 열/행을 제외한 나머지 배열에서의 원래 index 위치를 유지한다\n",
    "   - (**2**, ***2***, 3)  (**2**, 3, ***3***) => (**2**, ***2***, ***3***)\n",
    "   - (**2**, ***2***, 3)  (**3**, 3, ***3***) => 불능  \n",
    "   - (**2**, 3 )  (**3**, 3, **2**) => **(3, 2, 2)**\n",
    "- 뒤 배열은 앞 배열과 '행'전까지의 요소 개수가 같아야 한다 (앞 배열의 차원이 더 높거나 같은 경우)\n",
    "- 앞 배열의 열과 뒤 배열의 행의 수가 같은 경우 연산이 가능하다\n",
    "\n"
   ]
  },
  {
   "cell_type": "markdown",
   "metadata": {
    "id": "u9zH1BjSv8XR"
   },
   "source": [
    "#### 8-08-5. 3차원 이상을 포함한 배열의 dot 연산\n",
    "- 대응하는 열/행을 삭제하고 앞 배열에서 뒤 배열 쪽으로 남은 index를 나열한다\n",
    "   - (**2**, ***2***, 3)  (**2**, 3, ***3***) => (**2**, **2**, ***2***, ***3***)\n",
    "   - (**2**, ***2***, 3)  (**3**, 3, ***3***) => (2, 2, 3, 3)   \n",
    "   - (**2**, 3) (**3**, 3, **2**) => **(2, 3, 2)**\n",
    "- 앞 배열의 열과 뒤 배열의 행의 수가 같은 경우 연산이 가능하다\n"
   ]
  },
  {
   "cell_type": "code",
   "execution_count": null,
   "metadata": {
    "colab": {
     "base_uri": "https://localhost:8080/",
     "height": 386
    },
    "id": "fg7-zw_i_LBt",
    "outputId": "509c1b9b-079e-4cee-e2ae-31c8040ce3f3"
   },
   "outputs": [
    {
     "name": "stdout",
     "output_type": "stream",
     "text": [
      "[2 2 2]\n",
      "[1 3 5]\n",
      "18\n",
      "------------------------------\n",
      "[[[ 9 12]\n",
      "  [18 24]]\n",
      "\n",
      " [[ 4  5]\n",
      "  [ 8 10]]\n",
      "\n",
      " [[ 3  9]\n",
      "  [ 6 18]]]\n",
      "\n",
      "\n",
      "[[[ 9 12]\n",
      "  [ 4  5]\n",
      "  [ 3  9]]\n",
      "\n",
      " [[18 24]\n",
      "  [ 8 10]\n",
      "  [ 6 18]]]\n"
     ]
    }
   ],
   "source": [
    "a23 = np.array([[1,1,1],\n",
    "                [2,2,2]])   \n",
    "\n",
    "a332 = np.array([[[1,2],\n",
    "                  [3,4],\n",
    "                  [5,6]],\n",
    "                 [[1,1],\n",
    "                  [1,2],\n",
    "                  [2,2]],\n",
    "                 [[1,2],\n",
    "                  [1,3],\n",
    "                  [1,4]]])   \n",
    "r = a23[1, :]     # [2,2,2]\n",
    "c = a332[0, :, 0] # [1,3,5] => 18\n",
    "print(r, c, sum(r*c), sep='\\n')\n",
    "print('-' * 30)\n",
    "\n",
    "x1 = np.matmul(a23, a332) \n",
    "x2 = np.dot(a23, a332)\n",
    "# (2, 3)  (3, 3, 2)\n",
    "# matmul : (3, 2, 2)  [0, 1, 0] => 18\n",
    "# dot    : (2, 3, 2)  [1, 0, 0] => 18\n",
    "print(x1, x2, sep='\\n\\n\\n')\n"
   ]
  },
  {
   "cell_type": "code",
   "execution_count": null,
   "metadata": {
    "colab": {
     "base_uri": "https://localhost:8080/",
     "height": 422
    },
    "id": "XVRW1sJQ8o-b",
    "outputId": "1cb74dbe-9ea8-4bf6-fcf8-33b5d3042fd3"
   },
   "outputs": [
    {
     "name": "stdout",
     "output_type": "stream",
     "text": [
      "[2 3 4]\n",
      "[1 3 5]\n",
      "31\n",
      "------------------------------\n",
      "[[[ 9 13  9]\n",
      "  [31 44 32]]\n",
      "\n",
      " [[ 7  9  9]\n",
      "  [ 9 11 11]]]\n",
      "\n",
      "\n",
      "[[[[ 9 13  9]\n",
      "   [ 4  5  5]]\n",
      "\n",
      "  [[31 44 32]\n",
      "   [13 16 16]]]\n",
      "\n",
      "\n",
      " [[[14 21 13]\n",
      "   [ 7  9  9]]\n",
      "\n",
      "  [[22 31 23]\n",
      "   [ 9 11 11]]]]\n"
     ]
    }
   ],
   "source": [
    "a223 = np.array([[[1,1,1],\n",
    "                  [2,3,4]],\n",
    "                 [[3,2,1],\n",
    "                  [1,2,3]]])  \n",
    "\n",
    "a233 = np.array([[[1,2,1],\n",
    "                  [3,4,2],\n",
    "                  [5,7,6]],\n",
    "                 [[1,1,1],\n",
    "                  [1,2,2],\n",
    "                  [2,2,2]]])  \n",
    "\n",
    "r = a223[0, 1, :]  #[2,3,4]\n",
    "c = a233[0, :, 0]  #[1,3,5] => 2 + 9 + 20 = 31\n",
    "# matmul [0, 1, 0]\n",
    "# dot [0, 1, 0, 0]\n",
    "print(r, c, sum(r*c), sep='\\n')\n",
    "print('-' * 30)\n",
    "\n",
    "x1 = np.matmul(a223, a233)  \n",
    "x2 = np.dot(a223, a233) \n",
    "# (2, 2, 3)  (2, 3, 3)\n",
    "# matmul : (2, 2, 3)\n",
    "# dot : (2, 2, 2, 3)\n",
    "print(x1, x2, sep='\\n\\n\\n')\n"
   ]
  },
  {
   "cell_type": "markdown",
   "metadata": {
    "id": "_8_HD_bBwDIh"
   },
   "source": [
    "다음 두 배열의 dot 연산에 대한 결과 shape는?\n",
    "- (**2, 2**, 3) (**2**, 3, **3**) => (2, 2, 2, 3)\n",
    "- (**2, 2**, 3) (**3**, 3, **2**) => (2, 2, 3, 2)\n",
    "- (2, 2, 3) (3, 3) => (2, 2, 3)\n",
    "- (2, 2, 3) (3, 1)\n",
    "- (2, 3) (3, 3, 2)\n"
   ]
  },
  {
   "cell_type": "markdown",
   "metadata": {
    "id": "yRNQYtspsIAU"
   },
   "source": [
    "다음 두 배열의 matmul 연산에 대한 결과 shape는?\n",
    "- (**2, 2**, 3) (2, 3, **3**) => (2, 2, 3)\n",
    "- (**2**, 2, 3) (**3**, 3, 2) => 불능(axis=0의 크기가 다름)\n",
    "- (2, 2, 3) (3, 3) => (2, 2, 3)\n",
    "- (2, 2, 3) (3, 1)\n",
    "- (2, 3) (3, 3, 2)\n"
   ]
  },
  {
   "cell_type": "code",
   "execution_count": null,
   "metadata": {
    "id": "9kk-ACpauJg4"
   },
   "outputs": [],
   "source": [
    "import numpy as np\n",
    "\n",
    "a223 = np.array([[[1,2,3],[4,5,6]],[[1,1,1],[2,2,2]]])\n",
    "a332 = np.array([[[1,2],[4,5],[7,8]],[[1,1],[2,2],[3,3]],[[1,1],[2,2],[3,3]]])\n",
    "a233 = np.array([[[1,2,3],[4,5,6],[7,8,9]],[[1,1,1],[2,2,2],[3,3,3]]])\n",
    "a23 = np.array([[1,2,3],[4,5,6]])\n",
    "a33 = np.array([[1,2,3],[3,4,6],[5,6,7]])\n",
    "a31 = np.array([[1],[2],[3]])\n",
    "\n",
    "def printary(*a):\n",
    "    for x in a:\n",
    "        print(x.shape, x.tolist(), sep='\\n')\n",
    "    print(\"-\" * 30)\n",
    "    "
   ]
  },
  {
   "cell_type": "code",
   "execution_count": null,
   "metadata": {
    "id": "-84zPCW0ukxp"
   },
   "outputs": [],
   "source": [
    "# col * row 을 하므로 col와 row의 개수가 맞아야 함\n",
    "x1=np.dot(a223, a233)\n",
    "x2=np.matmul(a223, a233)\n",
    "printary(a223, a233, x1, x2)"
   ]
  },
  {
   "cell_type": "code",
   "execution_count": null,
   "metadata": {
    "id": "AjQaY_5KukpW"
   },
   "outputs": [],
   "source": [
    "x1=np.dot(a223, a332)\n",
    "#x2=np.matmul(a223, a332)   # axis=0 should have the same size\n",
    "printary(a223, a332, x1)"
   ]
  },
  {
   "cell_type": "code",
   "execution_count": null,
   "metadata": {
    "id": "e6Cymfzxug_q"
   },
   "outputs": [],
   "source": [
    "x1=np.dot(a223, a31)\n",
    "x2=np.matmul(a223, a31)\n",
    "printary(a223, a31, x1, x2)"
   ]
  },
  {
   "cell_type": "code",
   "execution_count": null,
   "metadata": {
    "id": "07CUE74_ugla"
   },
   "outputs": [],
   "source": [
    "x1=np.dot(a223, a33)\n",
    "x2=np.matmul(a223, a33)\n",
    "printary(a223, a33, x1, x2)"
   ]
  },
  {
   "cell_type": "code",
   "execution_count": null,
   "metadata": {
    "id": "9z-TbDTQNUFF"
   },
   "outputs": [],
   "source": [
    "x1=np.dot(a23, a332)\n",
    "x2=np.matmul(a23, a332)\n",
    "printary(a23, a332, x1, x2)"
   ]
  },
  {
   "cell_type": "markdown",
   "metadata": {
    "id": "qlWiOHmboTMe"
   },
   "source": [
    "## 9.ndarray 파일입출력"
   ]
  },
  {
   "cell_type": "code",
   "execution_count": null,
   "metadata": {
    "id": "NXloRXtYoX5E"
   },
   "outputs": [],
   "source": [
    "def printary(*a):\n",
    "    for x in a:\n",
    "        print(x)\n",
    "    print(\"-\" * 30)"
   ]
  },
  {
   "cell_type": "code",
   "execution_count": null,
   "metadata": {
    "colab": {
     "base_uri": "https://localhost:8080/",
     "height": 52
    },
    "id": "_EA_itRFobHr",
    "outputId": "4d1e4c26-0138-4c13-e0a0-7d1cceb81ae6"
   },
   "outputs": [
    {
     "name": "stdout",
     "output_type": "stream",
     "text": [
      "[    0     1     2 ... 19997 19998 19999]\n",
      "------------------------------\n"
     ]
    }
   ],
   "source": [
    "import numpy as np\n",
    "a1 = np.arange(20000)\n",
    "a2 = np.random.randint(1, 10000, size=(5, 1000))\n",
    "a3 = np.ones((1, 2, 1000), dtype=np.int32)\n",
    "path=\"/content/\"\n",
    "\n",
    "np.save(path+\"a1.npy\", a1)\n",
    "r = np.load(path+\"a1.npy\")\n",
    "printary(r)"
   ]
  },
  {
   "cell_type": "code",
   "execution_count": null,
   "metadata": {
    "colab": {
     "base_uri": "https://localhost:8080/",
     "height": 175
    },
    "id": "6VZfgc2Xomsr",
    "outputId": "adc04b96-24e1-4602-f830-30d589e4d140"
   },
   "outputs": [
    {
     "name": "stdout",
     "output_type": "stream",
     "text": [
      "[    0     1     2 ... 19997 19998 19999]\n",
      "[[1521 7562 3347 ... 2943 3498 5640]\n",
      " [2899 3182 2957 ... 7456 1089  260]\n",
      " [7834 3230 2693 ... 8641  246 3461]\n",
      " [ 901 7907 6577 ... 7812 6879 3873]\n",
      " [2086 7504 1330 ... 3849 6132 7368]]\n",
      "[[[1 1 1 ... 1 1 1]\n",
      "  [1 1 1 ... 1 1 1]]]\n",
      "------------------------------\n"
     ]
    }
   ],
   "source": [
    "#203.84KB\n",
    "np.savez(path+\"an.npz\", A1=a1, A2=a2, A3=a3)\n",
    "r = np.load(path+\"an.npz\")\n",
    "printary(r['A1'], r['A2'], r['A3'])"
   ]
  },
  {
   "cell_type": "code",
   "execution_count": null,
   "metadata": {
    "colab": {
     "base_uri": "https://localhost:8080/",
     "height": 175
    },
    "id": "2l2Nxv5vorUk",
    "outputId": "0e6bcf88-6385-45b1-f219-89a1707edd01"
   },
   "outputs": [
    {
     "name": "stdout",
     "output_type": "stream",
     "text": [
      "[    0     1     2 ... 19997 19998 19999]\n",
      "[[1521 7562 3347 ... 2943 3498 5640]\n",
      " [2899 3182 2957 ... 7456 1089  260]\n",
      " [7834 3230 2693 ... 8641  246 3461]\n",
      " [ 901 7907 6577 ... 7812 6879 3873]\n",
      " [2086 7504 1330 ... 3849 6132 7368]]\n",
      "[[[1 1 1 ... 1 1 1]\n",
      "  [1 1 1 ... 1 1 1]]]\n",
      "------------------------------\n"
     ]
    }
   ],
   "source": [
    "#42.59KB\n",
    "np.savez_compressed(path+\"c_an.npz\", A1=a1, A2=a2, A3=a3)\n",
    "r = np.load(path+\"c_an.npz\")\n",
    "printary(r['A1'], r['A2'], r['A3'])"
   ]
  },
  {
   "cell_type": "code",
   "execution_count": null,
   "metadata": {
    "colab": {
     "base_uri": "https://localhost:8080/",
     "height": 52
    },
    "id": "wkD73reEo5Ez",
    "outputId": "fe758829-2248-469e-9c34-23dd1f22f525"
   },
   "outputs": [
    {
     "name": "stdout",
     "output_type": "stream",
     "text": [
      "[    0     1     2 ... 19997 19998 19999]\n",
      "------------------------------\n"
     ]
    }
   ],
   "source": [
    "np.savetxt(path+\"a1.txt\", a1, fmt='%d')\n",
    "r = np.loadtxt(path+\"a1.txt\", dtype=np.int32)\n",
    "printary(r)"
   ]
  },
  {
   "cell_type": "markdown",
   "metadata": {
    "id": "hyN3fdoDpYjO"
   },
   "source": [
    "## 10.numpy의 nan, inf처리\n"
   ]
  },
  {
   "cell_type": "code",
   "execution_count": null,
   "metadata": {
    "id": "m_XLrrz_pfhS"
   },
   "outputs": [],
   "source": [
    "# np.nan, np.inf는 float type 이다\n",
    "print(np.nan, type(np.nan))\n",
    "print(np.inf, type(np.inf))"
   ]
  },
  {
   "cell_type": "code",
   "execution_count": null,
   "metadata": {
    "colab": {
     "base_uri": "https://localhost:8080/"
    },
    "id": "G2xhtDfxpkVj",
    "outputId": "a2f22c5c-8915-40d1-c2de-2efad0b395e3"
   },
   "outputs": [
    {
     "name": "stdout",
     "output_type": "stream",
     "text": [
      "True [ True False False False False]\n",
      "True [False False False False  True]\n",
      "False\n",
      "True\n"
     ]
    }
   ],
   "source": [
    "# np.nan 에 대한 비교는 isnan, np.inf의 비교는 isinf 함수를 사용한다\n",
    "a = np.array([np.nan, 1, 0, -1, np.inf], dtype=np.float16)\n",
    "print(np.isnan(np.nan), np.isnan(a))\n",
    "print(np.isinf(np.inf), np.isinf(a))\n",
    "\n",
    "x = np.nan\n",
    "# np.nan은 == 로 비교할 수 없고, is 로 비교할 수 있다  - 하지만 np.isnan()을 사용하자\n",
    "print(np.nan == x)\n",
    "print(np.nan is x)"
   ]
  },
  {
   "cell_type": "code",
   "execution_count": null,
   "metadata": {
    "id": "yr3IZQT8pnFL"
   },
   "outputs": [],
   "source": [
    "def printary(*a):\n",
    "    for x in a:\n",
    "        print(x)\n",
    "    print('-'*30)"
   ]
  },
  {
   "cell_type": "code",
   "execution_count": null,
   "metadata": {
    "colab": {
     "base_uri": "https://localhost:8080/"
    },
    "id": "6AxoxUQ4pqjD",
    "outputId": "ae79aabf-3460-4d4c-85e9-3cd3719a531f"
   },
   "outputs": [
    {
     "name": "stdout",
     "output_type": "stream",
     "text": [
      "[ 1. nan nan inf  2. inf]\n",
      "[ 1. inf  1.  1. inf nan]\n",
      "[ 2. nan nan inf inf nan]\n",
      "[ 3. nan nan inf  4. inf]\n",
      "------------------------------\n",
      "[ 1. nan nan inf  2. inf]\n",
      "nan\n",
      "[ 1. nan nan nan nan nan]\n",
      "True\n",
      "------------------------------\n",
      "[1.      nan   nan   inf 1.414   inf]\n",
      "[ 1.  2. inf nan nan]\n",
      "[ 1. inf nan]\n",
      "------------------------------\n"
     ]
    }
   ],
   "source": [
    "a = np.array([1, np.nan, np.nan, np.inf, 2, np.inf], dtype=np.float16)\n",
    "b = np.array([1, np.inf, 1, 1, np.inf, np.nan], dtype=np.float16)\n",
    "# np.inf가 포함된 연산의 경우 결과가 inf 가 된다.\n",
    "# np.nan이 포함된 연산의 경우 결과가 nan 이 된다,  nan, inf가 동시에 연산되면 nan!\n",
    "printary(a, b, a+b, a+2)\n",
    "\n",
    "printary(a, a.sum(), a.cumsum(), a.all())\n",
    "# unique()에서 inf 는 대상이 되지만 nan은 대상이 되지 않음\n",
    "printary(np.sqrt(a), np.unique(a), np.unique(b))"
   ]
  }
 ],
 "metadata": {
  "colab": {
   "collapsed_sections": [],
   "name": "Python_for_AI_Numpy_LAB1208.ipynb",
   "provenance": [],
   "toc_visible": true
  },
  "hide_input": false,
  "kernelspec": {
   "display_name": "Python 3",
   "language": "python",
   "name": "python3"
  },
  "language_info": {
   "codemirror_mode": {
    "name": "ipython",
    "version": 3
   },
   "file_extension": ".py",
   "mimetype": "text/x-python",
   "name": "python",
   "nbconvert_exporter": "python",
   "pygments_lexer": "ipython3",
   "version": "3.7.5"
  },
  "toc": {
   "base_numbering": 1,
   "nav_menu": {},
   "number_sections": true,
   "sideBar": true,
   "skip_h1_title": false,
   "title_cell": "Table of Contents",
   "title_sidebar": "Contents",
   "toc_cell": false,
   "toc_position": {},
   "toc_section_display": true,
   "toc_window_display": true
  }
 },
 "nbformat": 4,
 "nbformat_minor": 1
}
